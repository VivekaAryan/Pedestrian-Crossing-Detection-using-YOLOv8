{
 "cells": [
  {
   "cell_type": "code",
   "execution_count": 1,
   "metadata": {},
   "outputs": [],
   "source": [
    "# !pip install ultralytics"
   ]
  },
  {
   "cell_type": "code",
   "execution_count": 1,
   "metadata": {},
   "outputs": [],
   "source": [
    "from ultralytics import YOLO"
   ]
  },
  {
   "cell_type": "code",
   "execution_count": 2,
   "metadata": {},
   "outputs": [
    {
     "name": "stdout",
     "output_type": "stream",
     "text": [
      "Ultralytics YOLOv8.0.217 🚀 Python-3.9.13 torch-2.1.1+cu118 CUDA:0 (NVIDIA GeForce RTX 3070, 8192MiB)\n",
      "Setup complete ✅ (32 CPUs, 127.7 GB RAM, 659.9/953.1 GB disk)\n"
     ]
    }
   ],
   "source": [
    "import ultralytics\n",
    "ultralytics.checks()"
   ]
  },
  {
   "cell_type": "code",
   "execution_count": 3,
   "metadata": {},
   "outputs": [],
   "source": [
    "epochs = 100 #@param {type:\"slider\", min:100, max:1000, step:10}\n",
    "training_option = \"Train new CNN\" #@param [\"Train new CNN\", \"Resume an interrupted Training\"]\n",
    "weight = \"yolov8s.pt\" #@param[\"yolov8n.pt\",\"yolov8s.pt\",\"yolov8m.pt\",\"yolov8l.pt\", \"yolov8x\"]\n",
    "batch = 32 #@param {type:\"slider\", min:1, max:64, step:1}"
   ]
  },
  {
   "cell_type": "code",
   "execution_count": 4,
   "metadata": {},
   "outputs": [],
   "source": [
    "model = YOLO(weight)\n",
    "data =  r\"C:\\Users\\vravula\\Downloads\\final_pie_env\\training\\training_dataset\\data.yaml\"\n",
    "project = r\"C:\\Users\\vravula\\Downloads\\final_pie_env\\training\\training_results\"\n",
    "# model = \"/content/gdrive/\"+folder+\"/training/training_results/train/weights/last.pt\""
   ]
  },
  {
   "cell_type": "code",
   "execution_count": 5,
   "metadata": {},
   "outputs": [
    {
     "name": "stdout",
     "output_type": "stream",
     "text": [
      "New https://pypi.org/project/ultralytics/8.0.219 available 😃 Update with 'pip install -U ultralytics'\n",
      "Ultralytics YOLOv8.0.217 🚀 Python-3.9.13 torch-2.1.1+cu118 CUDA:0 (NVIDIA GeForce RTX 3070, 8192MiB)\n",
      "\u001b[34m\u001b[1mengine\\trainer: \u001b[0mtask=detect, mode=train, model=yolov8s.pt, data=C:\\Users\\vravula\\Downloads\\final_pie_env\\training\\training_dataset\\data.yaml, epochs=100, patience=50, batch=32, imgsz=640, save=True, save_period=-1, cache=True, device=None, workers=8, project=C:\\Users\\vravula\\Downloads\\final_pie_env\\training\\training_results, name=train2, exist_ok=False, pretrained=True, optimizer=auto, verbose=True, seed=0, deterministic=True, single_cls=False, rect=False, cos_lr=False, close_mosaic=10, resume=False, amp=True, fraction=1.0, profile=False, freeze=None, overlap_mask=True, mask_ratio=4, dropout=0.0, val=True, split=val, save_json=False, save_hybrid=False, conf=None, iou=0.7, max_det=300, half=False, dnn=False, plots=True, source=None, show=False, save_txt=False, save_conf=False, save_crop=False, show_labels=True, show_conf=True, vid_stride=1, stream_buffer=False, line_width=None, visualize=False, augment=False, agnostic_nms=False, classes=None, retina_masks=False, boxes=True, format=torchscript, keras=False, optimize=False, int8=False, dynamic=False, simplify=False, opset=None, workspace=4, nms=False, lr0=0.01, lrf=0.01, momentum=0.937, weight_decay=0.0005, warmup_epochs=3.0, warmup_momentum=0.8, warmup_bias_lr=0.1, box=7.5, cls=0.5, dfl=1.5, pose=12.0, kobj=1.0, label_smoothing=0.0, nbs=64, hsv_h=0.015, hsv_s=0.7, hsv_v=0.4, degrees=0.0, translate=0.1, scale=0.5, shear=0.0, perspective=0.0, flipud=0.0, fliplr=0.5, mosaic=1.0, mixup=0.0, copy_paste=0.0, cfg=None, tracker=botsort.yaml, save_dir=C:\\Users\\vravula\\Downloads\\final_pie_env\\training\\training_results\\train2\n",
      "Overriding model.yaml nc=80 with nc=3\n",
      "\n",
      "                   from  n    params  module                                       arguments                     \n",
      "  0                  -1  1       928  ultralytics.nn.modules.conv.Conv             [3, 32, 3, 2]                 \n",
      "  1                  -1  1     18560  ultralytics.nn.modules.conv.Conv             [32, 64, 3, 2]                \n",
      "  2                  -1  1     29056  ultralytics.nn.modules.block.C2f             [64, 64, 1, True]             \n",
      "  3                  -1  1     73984  ultralytics.nn.modules.conv.Conv             [64, 128, 3, 2]               \n",
      "  4                  -1  2    197632  ultralytics.nn.modules.block.C2f             [128, 128, 2, True]           \n",
      "  5                  -1  1    295424  ultralytics.nn.modules.conv.Conv             [128, 256, 3, 2]              \n",
      "  6                  -1  2    788480  ultralytics.nn.modules.block.C2f             [256, 256, 2, True]           \n",
      "  7                  -1  1   1180672  ultralytics.nn.modules.conv.Conv             [256, 512, 3, 2]              \n",
      "  8                  -1  1   1838080  ultralytics.nn.modules.block.C2f             [512, 512, 1, True]           \n",
      "  9                  -1  1    656896  ultralytics.nn.modules.block.SPPF            [512, 512, 5]                 \n",
      " 10                  -1  1         0  torch.nn.modules.upsampling.Upsample         [None, 2, 'nearest']          \n",
      " 11             [-1, 6]  1         0  ultralytics.nn.modules.conv.Concat           [1]                           \n",
      " 12                  -1  1    591360  ultralytics.nn.modules.block.C2f             [768, 256, 1]                 \n",
      " 13                  -1  1         0  torch.nn.modules.upsampling.Upsample         [None, 2, 'nearest']          \n",
      " 14             [-1, 4]  1         0  ultralytics.nn.modules.conv.Concat           [1]                           \n",
      " 15                  -1  1    148224  ultralytics.nn.modules.block.C2f             [384, 128, 1]                 \n",
      " 16                  -1  1    147712  ultralytics.nn.modules.conv.Conv             [128, 128, 3, 2]              \n",
      " 17            [-1, 12]  1         0  ultralytics.nn.modules.conv.Concat           [1]                           \n",
      " 18                  -1  1    493056  ultralytics.nn.modules.block.C2f             [384, 256, 1]                 \n",
      " 19                  -1  1    590336  ultralytics.nn.modules.conv.Conv             [256, 256, 3, 2]              \n",
      " 20             [-1, 9]  1         0  ultralytics.nn.modules.conv.Concat           [1]                           \n",
      " 21                  -1  1   1969152  ultralytics.nn.modules.block.C2f             [768, 512, 1]                 \n",
      " 22        [15, 18, 21]  1   2117209  ultralytics.nn.modules.head.Detect           [3, [128, 256, 512]]          \n",
      "Model summary: 225 layers, 11136761 parameters, 11136745 gradients, 28.7 GFLOPs\n",
      "\n",
      "Transferred 349/355 items from pretrained weights\n",
      "Freezing layer 'model.22.dfl.conv.weight'\n",
      "\u001b[34m\u001b[1mAMP: \u001b[0mrunning Automatic Mixed Precision (AMP) checks with YOLOv8n...\n",
      "\u001b[34m\u001b[1mAMP: \u001b[0mchecks passed ✅\n"
     ]
    },
    {
     "name": "stderr",
     "output_type": "stream",
     "text": [
      "\u001b[34m\u001b[1mtrain: \u001b[0mScanning C:\\Users\\vravula\\Downloads\\final_pie_env\\training\\training_dataset\\train\\labels.cache... 3937 images, 0 backgrounds, 0 corrupt: 100%|██████████| 3937/3937 [00:00<?, ?it/s]\n",
      "\u001b[34m\u001b[1mtrain: \u001b[0mCaching images (4.5GB True): 100%|██████████| 3937/3937 [00:02<00:00, 1450.82it/s]\n",
      "\u001b[34m\u001b[1mval: \u001b[0mScanning C:\\Users\\vravula\\Downloads\\final_pie_env\\training\\training_dataset\\validation\\labels.cache... 492 images, 0 backgrounds, 0 corrupt: 100%|██████████| 492/492 [00:00<?, ?it/s]\n",
      "\u001b[34m\u001b[1mval: \u001b[0mCaching images (0.6GB True): 100%|██████████| 492/492 [00:00<00:00, 1088.98it/s]\n"
     ]
    },
    {
     "name": "stdout",
     "output_type": "stream",
     "text": [
      "Plotting labels to C:\\Users\\vravula\\Downloads\\final_pie_env\\training\\training_results\\train2\\labels.jpg... \n",
      "\u001b[34m\u001b[1moptimizer:\u001b[0m 'optimizer=auto' found, ignoring 'lr0=0.01' and 'momentum=0.937' and determining best 'optimizer', 'lr0' and 'momentum' automatically... \n",
      "\u001b[34m\u001b[1moptimizer:\u001b[0m AdamW(lr=0.001429, momentum=0.9) with parameter groups 57 weight(decay=0.0), 64 weight(decay=0.0005), 63 bias(decay=0.0)\n",
      "Image sizes 640 train, 640 val\n",
      "Using 8 dataloader workers\n",
      "Logging results to \u001b[1mC:\\Users\\vravula\\Downloads\\final_pie_env\\training\\training_results\\train2\u001b[0m\n",
      "Starting training for 100 epochs...\n",
      "\n",
      "      Epoch    GPU_mem   box_loss   cls_loss   dfl_loss  Instances       Size\n"
     ]
    },
    {
     "name": "stderr",
     "output_type": "stream",
     "text": [
      "      1/100      7.43G      1.849      3.104      1.263          1        640: 100%|██████████| 124/124 [02:38<00:00,  1.28s/it]\n",
      "                 Class     Images  Instances      Box(P          R      mAP50  mAP50-95): 100%|██████████| 8/8 [00:10<00:00,  1.30s/it]"
     ]
    },
    {
     "name": "stdout",
     "output_type": "stream",
     "text": [
      "                   all        492       1263      0.131      0.139     0.0749      0.034\n"
     ]
    },
    {
     "name": "stderr",
     "output_type": "stream",
     "text": [
      "\n"
     ]
    },
    {
     "name": "stdout",
     "output_type": "stream",
     "text": [
      "\n",
      "      Epoch    GPU_mem   box_loss   cls_loss   dfl_loss  Instances       Size\n"
     ]
    },
    {
     "name": "stderr",
     "output_type": "stream",
     "text": [
      "      2/100      7.51G      1.852      2.163       1.26         13        640: 100%|██████████| 124/124 [02:32<00:00,  1.23s/it]\n",
      "                 Class     Images  Instances      Box(P          R      mAP50  mAP50-95): 100%|██████████| 8/8 [00:08<00:00,  1.11s/it]"
     ]
    },
    {
     "name": "stdout",
     "output_type": "stream",
     "text": [
      "                   all        492       1263       0.54      0.239      0.175     0.0981\n"
     ]
    },
    {
     "name": "stderr",
     "output_type": "stream",
     "text": [
      "\n"
     ]
    },
    {
     "name": "stdout",
     "output_type": "stream",
     "text": [
      "\n",
      "      Epoch    GPU_mem   box_loss   cls_loss   dfl_loss  Instances       Size\n"
     ]
    },
    {
     "name": "stderr",
     "output_type": "stream",
     "text": [
      "      3/100      7.52G       1.85      2.139      1.262         16        640: 100%|██████████| 124/124 [02:31<00:00,  1.22s/it]\n",
      "                 Class     Images  Instances      Box(P          R      mAP50  mAP50-95): 100%|██████████| 8/8 [00:10<00:00,  1.37s/it]"
     ]
    },
    {
     "name": "stdout",
     "output_type": "stream",
     "text": [
      "                   all        492       1263      0.494      0.264      0.151     0.0796\n"
     ]
    },
    {
     "name": "stderr",
     "output_type": "stream",
     "text": [
      "\n"
     ]
    },
    {
     "name": "stdout",
     "output_type": "stream",
     "text": [
      "\n",
      "      Epoch    GPU_mem   box_loss   cls_loss   dfl_loss  Instances       Size\n"
     ]
    },
    {
     "name": "stderr",
     "output_type": "stream",
     "text": [
      "      4/100      7.52G      1.862       2.11      1.251          4        640: 100%|██████████| 124/124 [02:27<00:00,  1.19s/it]\n",
      "                 Class     Images  Instances      Box(P          R      mAP50  mAP50-95): 100%|██████████| 8/8 [00:11<00:00,  1.44s/it]"
     ]
    },
    {
     "name": "stdout",
     "output_type": "stream",
     "text": [
      "                   all        492       1263      0.576      0.273      0.212      0.121\n"
     ]
    },
    {
     "name": "stderr",
     "output_type": "stream",
     "text": [
      "\n"
     ]
    },
    {
     "name": "stdout",
     "output_type": "stream",
     "text": [
      "\n",
      "      Epoch    GPU_mem   box_loss   cls_loss   dfl_loss  Instances       Size\n"
     ]
    },
    {
     "name": "stderr",
     "output_type": "stream",
     "text": [
      "      5/100      7.52G      1.795      2.058      1.245          3        640: 100%|██████████| 124/124 [02:15<00:00,  1.10s/it]\n",
      "                 Class     Images  Instances      Box(P          R      mAP50  mAP50-95): 100%|██████████| 8/8 [00:11<00:00,  1.48s/it]"
     ]
    },
    {
     "name": "stdout",
     "output_type": "stream",
     "text": [
      "                   all        492       1263      0.499      0.179      0.132     0.0706\n"
     ]
    },
    {
     "name": "stderr",
     "output_type": "stream",
     "text": [
      "\n"
     ]
    },
    {
     "name": "stdout",
     "output_type": "stream",
     "text": [
      "\n",
      "      Epoch    GPU_mem   box_loss   cls_loss   dfl_loss  Instances       Size\n"
     ]
    },
    {
     "name": "stderr",
     "output_type": "stream",
     "text": [
      "      6/100      7.52G      1.761      2.004      1.215          0        640: 100%|██████████| 124/124 [02:25<00:00,  1.17s/it]\n",
      "                 Class     Images  Instances      Box(P          R      mAP50  mAP50-95): 100%|██████████| 8/8 [00:08<00:00,  1.11s/it]"
     ]
    },
    {
     "name": "stdout",
     "output_type": "stream",
     "text": [
      "                   all        492       1263      0.553        0.3      0.205      0.113\n"
     ]
    },
    {
     "name": "stderr",
     "output_type": "stream",
     "text": [
      "\n"
     ]
    },
    {
     "name": "stdout",
     "output_type": "stream",
     "text": [
      "\n",
      "      Epoch    GPU_mem   box_loss   cls_loss   dfl_loss  Instances       Size\n"
     ]
    },
    {
     "name": "stderr",
     "output_type": "stream",
     "text": [
      "      7/100      7.51G      1.722      1.969      1.198          1        640: 100%|██████████| 124/124 [02:25<00:00,  1.17s/it]\n",
      "                 Class     Images  Instances      Box(P          R      mAP50  mAP50-95): 100%|██████████| 8/8 [00:08<00:00,  1.09s/it]"
     ]
    },
    {
     "name": "stdout",
     "output_type": "stream",
     "text": [
      "                   all        492       1263      0.664      0.191       0.18      0.104\n"
     ]
    },
    {
     "name": "stderr",
     "output_type": "stream",
     "text": [
      "\n"
     ]
    },
    {
     "name": "stdout",
     "output_type": "stream",
     "text": [
      "\n",
      "      Epoch    GPU_mem   box_loss   cls_loss   dfl_loss  Instances       Size\n"
     ]
    },
    {
     "name": "stderr",
     "output_type": "stream",
     "text": [
      "      8/100       7.5G       1.69      1.919      1.182          2        640: 100%|██████████| 124/124 [02:25<00:00,  1.17s/it]\n",
      "                 Class     Images  Instances      Box(P          R      mAP50  mAP50-95): 100%|██████████| 8/8 [00:08<00:00,  1.08s/it]"
     ]
    },
    {
     "name": "stdout",
     "output_type": "stream",
     "text": [
      "                   all        492       1263      0.607      0.294      0.253      0.148\n"
     ]
    },
    {
     "name": "stderr",
     "output_type": "stream",
     "text": [
      "\n"
     ]
    },
    {
     "name": "stdout",
     "output_type": "stream",
     "text": [
      "\n",
      "      Epoch    GPU_mem   box_loss   cls_loss   dfl_loss  Instances       Size\n"
     ]
    },
    {
     "name": "stderr",
     "output_type": "stream",
     "text": [
      "      9/100      7.52G      1.685       1.86      1.188          9        640: 100%|██████████| 124/124 [02:31<00:00,  1.22s/it]\n",
      "                 Class     Images  Instances      Box(P          R      mAP50  mAP50-95): 100%|██████████| 8/8 [00:08<00:00,  1.12s/it]"
     ]
    },
    {
     "name": "stdout",
     "output_type": "stream",
     "text": [
      "                   all        492       1263      0.613      0.236      0.227      0.133\n"
     ]
    },
    {
     "name": "stderr",
     "output_type": "stream",
     "text": [
      "\n"
     ]
    },
    {
     "name": "stdout",
     "output_type": "stream",
     "text": [
      "\n",
      "      Epoch    GPU_mem   box_loss   cls_loss   dfl_loss  Instances       Size\n"
     ]
    },
    {
     "name": "stderr",
     "output_type": "stream",
     "text": [
      "     10/100      7.52G      1.668      1.832       1.18         10        640: 100%|██████████| 124/124 [02:27<00:00,  1.19s/it]\n",
      "                 Class     Images  Instances      Box(P          R      mAP50  mAP50-95): 100%|██████████| 8/8 [00:11<00:00,  1.41s/it]"
     ]
    },
    {
     "name": "stdout",
     "output_type": "stream",
     "text": [
      "                   all        492       1263      0.617      0.281      0.271      0.162\n"
     ]
    },
    {
     "name": "stderr",
     "output_type": "stream",
     "text": [
      "\n"
     ]
    },
    {
     "name": "stdout",
     "output_type": "stream",
     "text": [
      "\n",
      "      Epoch    GPU_mem   box_loss   cls_loss   dfl_loss  Instances       Size\n"
     ]
    },
    {
     "name": "stderr",
     "output_type": "stream",
     "text": [
      "     11/100      7.52G      1.647      1.789      1.159          2        640: 100%|██████████| 124/124 [02:30<00:00,  1.22s/it]\n",
      "                 Class     Images  Instances      Box(P          R      mAP50  mAP50-95): 100%|██████████| 8/8 [00:08<00:00,  1.09s/it]"
     ]
    },
    {
     "name": "stdout",
     "output_type": "stream",
     "text": [
      "                   all        492       1263      0.632      0.295      0.282      0.172\n"
     ]
    },
    {
     "name": "stderr",
     "output_type": "stream",
     "text": [
      "\n"
     ]
    },
    {
     "name": "stdout",
     "output_type": "stream",
     "text": [
      "\n",
      "      Epoch    GPU_mem   box_loss   cls_loss   dfl_loss  Instances       Size\n"
     ]
    },
    {
     "name": "stderr",
     "output_type": "stream",
     "text": [
      "     12/100      7.51G      1.601      1.737      1.134          0        640: 100%|██████████| 124/124 [02:35<00:00,  1.26s/it]\n",
      "                 Class     Images  Instances      Box(P          R      mAP50  mAP50-95): 100%|██████████| 8/8 [00:11<00:00,  1.38s/it]"
     ]
    },
    {
     "name": "stdout",
     "output_type": "stream",
     "text": [
      "                   all        492       1263      0.561      0.318       0.22      0.129\n"
     ]
    },
    {
     "name": "stderr",
     "output_type": "stream",
     "text": [
      "\n"
     ]
    },
    {
     "name": "stdout",
     "output_type": "stream",
     "text": [
      "\n",
      "      Epoch    GPU_mem   box_loss   cls_loss   dfl_loss  Instances       Size\n"
     ]
    },
    {
     "name": "stderr",
     "output_type": "stream",
     "text": [
      "     13/100      7.52G       1.63      1.731      1.157          1        640: 100%|██████████| 124/124 [02:35<00:00,  1.25s/it]\n",
      "                 Class     Images  Instances      Box(P          R      mAP50  mAP50-95): 100%|██████████| 8/8 [00:09<00:00,  1.15s/it]"
     ]
    },
    {
     "name": "stdout",
     "output_type": "stream",
     "text": [
      "                   all        492       1263      0.658      0.287      0.278      0.165\n"
     ]
    },
    {
     "name": "stderr",
     "output_type": "stream",
     "text": [
      "\n"
     ]
    },
    {
     "name": "stdout",
     "output_type": "stream",
     "text": [
      "\n",
      "      Epoch    GPU_mem   box_loss   cls_loss   dfl_loss  Instances       Size\n"
     ]
    },
    {
     "name": "stderr",
     "output_type": "stream",
     "text": [
      "     14/100      7.52G      1.606      1.711      1.131         11        640: 100%|██████████| 124/124 [02:24<00:00,  1.17s/it]\n",
      "                 Class     Images  Instances      Box(P          R      mAP50  mAP50-95): 100%|██████████| 8/8 [00:11<00:00,  1.40s/it]"
     ]
    },
    {
     "name": "stdout",
     "output_type": "stream",
     "text": [
      "                   all        492       1263      0.659      0.283      0.285      0.169\n"
     ]
    },
    {
     "name": "stderr",
     "output_type": "stream",
     "text": [
      "\n"
     ]
    },
    {
     "name": "stdout",
     "output_type": "stream",
     "text": [
      "\n",
      "      Epoch    GPU_mem   box_loss   cls_loss   dfl_loss  Instances       Size\n"
     ]
    },
    {
     "name": "stderr",
     "output_type": "stream",
     "text": [
      "     15/100      7.52G       1.57      1.662      1.119          7        640: 100%|██████████| 124/124 [02:24<00:00,  1.16s/it]\n",
      "                 Class     Images  Instances      Box(P          R      mAP50  mAP50-95): 100%|██████████| 8/8 [00:09<00:00,  1.15s/it]"
     ]
    },
    {
     "name": "stdout",
     "output_type": "stream",
     "text": [
      "                   all        492       1263       0.64      0.296      0.283       0.17\n"
     ]
    },
    {
     "name": "stderr",
     "output_type": "stream",
     "text": [
      "\n"
     ]
    },
    {
     "name": "stdout",
     "output_type": "stream",
     "text": [
      "\n",
      "      Epoch    GPU_mem   box_loss   cls_loss   dfl_loss  Instances       Size\n"
     ]
    },
    {
     "name": "stderr",
     "output_type": "stream",
     "text": [
      "     16/100       7.5G      1.572      1.651       1.12         11        640: 100%|██████████| 124/124 [02:37<00:00,  1.27s/it]\n",
      "                 Class     Images  Instances      Box(P          R      mAP50  mAP50-95): 100%|██████████| 8/8 [00:09<00:00,  1.15s/it]"
     ]
    },
    {
     "name": "stdout",
     "output_type": "stream",
     "text": [
      "                   all        492       1263      0.345      0.409      0.325        0.2\n"
     ]
    },
    {
     "name": "stderr",
     "output_type": "stream",
     "text": [
      "\n"
     ]
    },
    {
     "name": "stdout",
     "output_type": "stream",
     "text": [
      "\n",
      "      Epoch    GPU_mem   box_loss   cls_loss   dfl_loss  Instances       Size\n"
     ]
    },
    {
     "name": "stderr",
     "output_type": "stream",
     "text": [
      "     17/100      7.51G      1.554      1.631      1.111          8        640: 100%|██████████| 124/124 [02:25<00:00,  1.18s/it]\n",
      "                 Class     Images  Instances      Box(P          R      mAP50  mAP50-95): 100%|██████████| 8/8 [00:11<00:00,  1.40s/it]"
     ]
    },
    {
     "name": "stdout",
     "output_type": "stream",
     "text": [
      "                   all        492       1263      0.556      0.385      0.346      0.218\n"
     ]
    },
    {
     "name": "stderr",
     "output_type": "stream",
     "text": [
      "\n"
     ]
    },
    {
     "name": "stdout",
     "output_type": "stream",
     "text": [
      "\n",
      "      Epoch    GPU_mem   box_loss   cls_loss   dfl_loss  Instances       Size\n"
     ]
    },
    {
     "name": "stderr",
     "output_type": "stream",
     "text": [
      "     18/100      7.52G      1.535      1.606       1.11          4        640: 100%|██████████| 124/124 [02:24<00:00,  1.16s/it]\n",
      "                 Class     Images  Instances      Box(P          R      mAP50  mAP50-95): 100%|██████████| 8/8 [00:09<00:00,  1.16s/it]"
     ]
    },
    {
     "name": "stdout",
     "output_type": "stream",
     "text": [
      "                   all        492       1263      0.391      0.344      0.345      0.213\n"
     ]
    },
    {
     "name": "stderr",
     "output_type": "stream",
     "text": [
      "\n"
     ]
    },
    {
     "name": "stdout",
     "output_type": "stream",
     "text": [
      "\n",
      "      Epoch    GPU_mem   box_loss   cls_loss   dfl_loss  Instances       Size\n"
     ]
    },
    {
     "name": "stderr",
     "output_type": "stream",
     "text": [
      "     19/100      7.52G       1.52      1.578      1.115          4        640: 100%|██████████| 124/124 [02:30<00:00,  1.22s/it]\n",
      "                 Class     Images  Instances      Box(P          R      mAP50  mAP50-95): 100%|██████████| 8/8 [00:08<00:00,  1.11s/it]"
     ]
    },
    {
     "name": "stdout",
     "output_type": "stream",
     "text": [
      "                   all        492       1263      0.423      0.452      0.375      0.233\n"
     ]
    },
    {
     "name": "stderr",
     "output_type": "stream",
     "text": [
      "\n"
     ]
    },
    {
     "name": "stdout",
     "output_type": "stream",
     "text": [
      "\n",
      "      Epoch    GPU_mem   box_loss   cls_loss   dfl_loss  Instances       Size\n"
     ]
    },
    {
     "name": "stderr",
     "output_type": "stream",
     "text": [
      "     20/100      7.49G      1.527      1.568      1.106          1        640: 100%|██████████| 124/124 [02:41<00:00,  1.30s/it]\n",
      "                 Class     Images  Instances      Box(P          R      mAP50  mAP50-95): 100%|██████████| 8/8 [00:09<00:00,  1.18s/it]"
     ]
    },
    {
     "name": "stdout",
     "output_type": "stream",
     "text": [
      "                   all        492       1263      0.477      0.415       0.37      0.233\n"
     ]
    },
    {
     "name": "stderr",
     "output_type": "stream",
     "text": [
      "\n"
     ]
    },
    {
     "name": "stdout",
     "output_type": "stream",
     "text": [
      "\n",
      "      Epoch    GPU_mem   box_loss   cls_loss   dfl_loss  Instances       Size\n"
     ]
    },
    {
     "name": "stderr",
     "output_type": "stream",
     "text": [
      "     21/100      7.51G      1.516      1.557      1.102          2        640: 100%|██████████| 124/124 [02:37<00:00,  1.27s/it]\n",
      "                 Class     Images  Instances      Box(P          R      mAP50  mAP50-95): 100%|██████████| 8/8 [00:09<00:00,  1.19s/it]"
     ]
    },
    {
     "name": "stdout",
     "output_type": "stream",
     "text": [
      "                   all        492       1263      0.537      0.338      0.346      0.217\n"
     ]
    },
    {
     "name": "stderr",
     "output_type": "stream",
     "text": [
      "\n"
     ]
    },
    {
     "name": "stdout",
     "output_type": "stream",
     "text": [
      "\n",
      "      Epoch    GPU_mem   box_loss   cls_loss   dfl_loss  Instances       Size\n"
     ]
    },
    {
     "name": "stderr",
     "output_type": "stream",
     "text": [
      "     22/100      7.51G      1.504       1.53      1.089          5        640: 100%|██████████| 124/124 [02:30<00:00,  1.21s/it]\n",
      "                 Class     Images  Instances      Box(P          R      mAP50  mAP50-95): 100%|██████████| 8/8 [00:13<00:00,  1.66s/it]"
     ]
    },
    {
     "name": "stdout",
     "output_type": "stream",
     "text": [
      "                   all        492       1263      0.426      0.443       0.39       0.25\n"
     ]
    },
    {
     "name": "stderr",
     "output_type": "stream",
     "text": [
      "\n"
     ]
    },
    {
     "name": "stdout",
     "output_type": "stream",
     "text": [
      "\n",
      "      Epoch    GPU_mem   box_loss   cls_loss   dfl_loss  Instances       Size\n"
     ]
    },
    {
     "name": "stderr",
     "output_type": "stream",
     "text": [
      "     23/100      7.51G      1.487      1.482      1.084          6        640: 100%|██████████| 124/124 [02:35<00:00,  1.25s/it]\n",
      "                 Class     Images  Instances      Box(P          R      mAP50  mAP50-95): 100%|██████████| 8/8 [00:10<00:00,  1.35s/it]"
     ]
    },
    {
     "name": "stdout",
     "output_type": "stream",
     "text": [
      "                   all        492       1263      0.407      0.436      0.373      0.231\n"
     ]
    },
    {
     "name": "stderr",
     "output_type": "stream",
     "text": [
      "\n"
     ]
    },
    {
     "name": "stdout",
     "output_type": "stream",
     "text": [
      "\n",
      "      Epoch    GPU_mem   box_loss   cls_loss   dfl_loss  Instances       Size\n"
     ]
    },
    {
     "name": "stderr",
     "output_type": "stream",
     "text": [
      "     24/100      7.51G      1.505      1.535      1.084          1        640: 100%|██████████| 124/124 [02:34<00:00,  1.25s/it]\n",
      "                 Class     Images  Instances      Box(P          R      mAP50  mAP50-95): 100%|██████████| 8/8 [00:08<00:00,  1.12s/it]"
     ]
    },
    {
     "name": "stdout",
     "output_type": "stream",
     "text": [
      "                   all        492       1263      0.594      0.412      0.414      0.258\n"
     ]
    },
    {
     "name": "stderr",
     "output_type": "stream",
     "text": [
      "\n"
     ]
    },
    {
     "name": "stdout",
     "output_type": "stream",
     "text": [
      "\n",
      "      Epoch    GPU_mem   box_loss   cls_loss   dfl_loss  Instances       Size\n"
     ]
    },
    {
     "name": "stderr",
     "output_type": "stream",
     "text": [
      "     25/100      7.51G      1.476      1.447      1.084          4        640: 100%|██████████| 124/124 [02:37<00:00,  1.27s/it]\n",
      "                 Class     Images  Instances      Box(P          R      mAP50  mAP50-95): 100%|██████████| 8/8 [00:12<00:00,  1.53s/it]"
     ]
    },
    {
     "name": "stdout",
     "output_type": "stream",
     "text": [
      "                   all        492       1263      0.471      0.427       0.41      0.263\n"
     ]
    },
    {
     "name": "stderr",
     "output_type": "stream",
     "text": [
      "\n"
     ]
    },
    {
     "name": "stdout",
     "output_type": "stream",
     "text": [
      "\n",
      "      Epoch    GPU_mem   box_loss   cls_loss   dfl_loss  Instances       Size\n"
     ]
    },
    {
     "name": "stderr",
     "output_type": "stream",
     "text": [
      "     26/100      7.51G      1.462      1.444      1.073          3        640: 100%|██████████| 124/124 [02:29<00:00,  1.21s/it]\n",
      "                 Class     Images  Instances      Box(P          R      mAP50  mAP50-95): 100%|██████████| 8/8 [00:13<00:00,  1.68s/it]"
     ]
    },
    {
     "name": "stdout",
     "output_type": "stream",
     "text": [
      "                   all        492       1263      0.462      0.366      0.368      0.234\n"
     ]
    },
    {
     "name": "stderr",
     "output_type": "stream",
     "text": [
      "\n"
     ]
    },
    {
     "name": "stdout",
     "output_type": "stream",
     "text": [
      "\n",
      "      Epoch    GPU_mem   box_loss   cls_loss   dfl_loss  Instances       Size\n"
     ]
    },
    {
     "name": "stderr",
     "output_type": "stream",
     "text": [
      "     27/100      7.51G      1.464      1.428      1.077          1        640: 100%|██████████| 124/124 [02:36<00:00,  1.26s/it]\n",
      "                 Class     Images  Instances      Box(P          R      mAP50  mAP50-95): 100%|██████████| 8/8 [00:10<00:00,  1.33s/it]"
     ]
    },
    {
     "name": "stdout",
     "output_type": "stream",
     "text": [
      "                   all        492       1263      0.521      0.423      0.428       0.27\n"
     ]
    },
    {
     "name": "stderr",
     "output_type": "stream",
     "text": [
      "\n"
     ]
    },
    {
     "name": "stdout",
     "output_type": "stream",
     "text": [
      "\n",
      "      Epoch    GPU_mem   box_loss   cls_loss   dfl_loss  Instances       Size\n"
     ]
    },
    {
     "name": "stderr",
     "output_type": "stream",
     "text": [
      "     28/100      7.51G      1.448      1.407      1.069          5        640: 100%|██████████| 124/124 [02:33<00:00,  1.24s/it]\n",
      "                 Class     Images  Instances      Box(P          R      mAP50  mAP50-95): 100%|██████████| 8/8 [00:12<00:00,  1.57s/it]"
     ]
    },
    {
     "name": "stdout",
     "output_type": "stream",
     "text": [
      "                   all        492       1263      0.496       0.49      0.455      0.296\n"
     ]
    },
    {
     "name": "stderr",
     "output_type": "stream",
     "text": [
      "\n"
     ]
    },
    {
     "name": "stdout",
     "output_type": "stream",
     "text": [
      "\n",
      "      Epoch    GPU_mem   box_loss   cls_loss   dfl_loss  Instances       Size\n"
     ]
    },
    {
     "name": "stderr",
     "output_type": "stream",
     "text": [
      "     29/100      7.52G      1.428      1.384      1.058          0        640: 100%|██████████| 124/124 [02:35<00:00,  1.26s/it]\n",
      "                 Class     Images  Instances      Box(P          R      mAP50  mAP50-95): 100%|██████████| 8/8 [00:08<00:00,  1.12s/it]"
     ]
    },
    {
     "name": "stdout",
     "output_type": "stream",
     "text": [
      "                   all        492       1263      0.521       0.43      0.429       0.28\n"
     ]
    },
    {
     "name": "stderr",
     "output_type": "stream",
     "text": [
      "\n"
     ]
    },
    {
     "name": "stdout",
     "output_type": "stream",
     "text": [
      "\n",
      "      Epoch    GPU_mem   box_loss   cls_loss   dfl_loss  Instances       Size\n"
     ]
    },
    {
     "name": "stderr",
     "output_type": "stream",
     "text": [
      "     30/100      7.51G      1.447      1.402      1.071          4        640: 100%|██████████| 124/124 [02:51<00:00,  1.39s/it]\n",
      "                 Class     Images  Instances      Box(P          R      mAP50  mAP50-95): 100%|██████████| 8/8 [00:08<00:00,  1.10s/it]"
     ]
    },
    {
     "name": "stdout",
     "output_type": "stream",
     "text": [
      "                   all        492       1263      0.431      0.364      0.386      0.244\n"
     ]
    },
    {
     "name": "stderr",
     "output_type": "stream",
     "text": [
      "\n"
     ]
    },
    {
     "name": "stdout",
     "output_type": "stream",
     "text": [
      "\n",
      "      Epoch    GPU_mem   box_loss   cls_loss   dfl_loss  Instances       Size\n"
     ]
    },
    {
     "name": "stderr",
     "output_type": "stream",
     "text": [
      "     31/100      7.52G      1.435      1.391      1.058          4        640: 100%|██████████| 124/124 [02:21<00:00,  1.14s/it]\n",
      "                 Class     Images  Instances      Box(P          R      mAP50  mAP50-95): 100%|██████████| 8/8 [00:11<00:00,  1.45s/it]"
     ]
    },
    {
     "name": "stdout",
     "output_type": "stream",
     "text": [
      "                   all        492       1263      0.524      0.427      0.444       0.29\n"
     ]
    },
    {
     "name": "stderr",
     "output_type": "stream",
     "text": [
      "\n"
     ]
    },
    {
     "name": "stdout",
     "output_type": "stream",
     "text": [
      "\n",
      "      Epoch    GPU_mem   box_loss   cls_loss   dfl_loss  Instances       Size\n"
     ]
    },
    {
     "name": "stderr",
     "output_type": "stream",
     "text": [
      "     32/100      7.52G      1.432      1.359      1.068          3        640: 100%|██████████| 124/124 [02:47<00:00,  1.35s/it]\n",
      "                 Class     Images  Instances      Box(P          R      mAP50  mAP50-95): 100%|██████████| 8/8 [00:10<00:00,  1.32s/it]"
     ]
    },
    {
     "name": "stdout",
     "output_type": "stream",
     "text": [
      "                   all        492       1263      0.661      0.406      0.454        0.3\n"
     ]
    },
    {
     "name": "stderr",
     "output_type": "stream",
     "text": [
      "\n"
     ]
    },
    {
     "name": "stdout",
     "output_type": "stream",
     "text": [
      "\n",
      "      Epoch    GPU_mem   box_loss   cls_loss   dfl_loss  Instances       Size\n"
     ]
    },
    {
     "name": "stderr",
     "output_type": "stream",
     "text": [
      "     33/100      7.51G      1.421      1.347      1.054          6        640: 100%|██████████| 124/124 [02:21<00:00,  1.14s/it]\n",
      "                 Class     Images  Instances      Box(P          R      mAP50  mAP50-95): 100%|██████████| 8/8 [00:12<00:00,  1.52s/it]"
     ]
    },
    {
     "name": "stdout",
     "output_type": "stream",
     "text": [
      "                   all        492       1263      0.557      0.451       0.47      0.299\n"
     ]
    },
    {
     "name": "stderr",
     "output_type": "stream",
     "text": [
      "\n"
     ]
    },
    {
     "name": "stdout",
     "output_type": "stream",
     "text": [
      "\n",
      "      Epoch    GPU_mem   box_loss   cls_loss   dfl_loss  Instances       Size\n"
     ]
    },
    {
     "name": "stderr",
     "output_type": "stream",
     "text": [
      "     34/100       7.5G      1.432      1.339      1.052          2        640: 100%|██████████| 124/124 [02:40<00:00,  1.30s/it]\n",
      "                 Class     Images  Instances      Box(P          R      mAP50  mAP50-95): 100%|██████████| 8/8 [00:09<00:00,  1.18s/it]"
     ]
    },
    {
     "name": "stdout",
     "output_type": "stream",
     "text": [
      "                   all        492       1263      0.577      0.461      0.458      0.295\n"
     ]
    },
    {
     "name": "stderr",
     "output_type": "stream",
     "text": [
      "\n"
     ]
    },
    {
     "name": "stdout",
     "output_type": "stream",
     "text": [
      "\n",
      "      Epoch    GPU_mem   box_loss   cls_loss   dfl_loss  Instances       Size\n"
     ]
    },
    {
     "name": "stderr",
     "output_type": "stream",
     "text": [
      "     35/100      7.49G      1.376      1.285      1.046          5        640: 100%|██████████| 124/124 [02:22<00:00,  1.15s/it]\n",
      "                 Class     Images  Instances      Box(P          R      mAP50  mAP50-95): 100%|██████████| 8/8 [00:11<00:00,  1.44s/it]"
     ]
    },
    {
     "name": "stdout",
     "output_type": "stream",
     "text": [
      "                   all        492       1263      0.487      0.513      0.486      0.322\n"
     ]
    },
    {
     "name": "stderr",
     "output_type": "stream",
     "text": [
      "\n"
     ]
    },
    {
     "name": "stdout",
     "output_type": "stream",
     "text": [
      "\n",
      "      Epoch    GPU_mem   box_loss   cls_loss   dfl_loss  Instances       Size\n"
     ]
    },
    {
     "name": "stderr",
     "output_type": "stream",
     "text": [
      "     36/100      7.52G      1.403      1.297      1.052          1        640: 100%|██████████| 124/124 [02:03<00:00,  1.00it/s]\n",
      "                 Class     Images  Instances      Box(P          R      mAP50  mAP50-95): 100%|██████████| 8/8 [00:12<00:00,  1.50s/it]"
     ]
    },
    {
     "name": "stdout",
     "output_type": "stream",
     "text": [
      "                   all        492       1263      0.507      0.463      0.468      0.298\n"
     ]
    },
    {
     "name": "stderr",
     "output_type": "stream",
     "text": [
      "\n"
     ]
    },
    {
     "name": "stdout",
     "output_type": "stream",
     "text": [
      "\n",
      "      Epoch    GPU_mem   box_loss   cls_loss   dfl_loss  Instances       Size\n"
     ]
    },
    {
     "name": "stderr",
     "output_type": "stream",
     "text": [
      "     37/100      7.52G      1.395      1.283      1.043          2        640: 100%|██████████| 124/124 [02:49<00:00,  1.37s/it]\n",
      "                 Class     Images  Instances      Box(P          R      mAP50  mAP50-95): 100%|██████████| 8/8 [00:12<00:00,  1.51s/it]"
     ]
    },
    {
     "name": "stdout",
     "output_type": "stream",
     "text": [
      "                   all        492       1263      0.456      0.518      0.471      0.306\n"
     ]
    },
    {
     "name": "stderr",
     "output_type": "stream",
     "text": [
      "\n"
     ]
    },
    {
     "name": "stdout",
     "output_type": "stream",
     "text": [
      "\n",
      "      Epoch    GPU_mem   box_loss   cls_loss   dfl_loss  Instances       Size\n"
     ]
    },
    {
     "name": "stderr",
     "output_type": "stream",
     "text": [
      "     38/100      7.51G      1.364      1.279      1.041         13        640: 100%|██████████| 124/124 [02:46<00:00,  1.35s/it]\n",
      "                 Class     Images  Instances      Box(P          R      mAP50  mAP50-95): 100%|██████████| 8/8 [00:08<00:00,  1.09s/it]"
     ]
    },
    {
     "name": "stdout",
     "output_type": "stream",
     "text": [
      "                   all        492       1263      0.518      0.503      0.496      0.319\n"
     ]
    },
    {
     "name": "stderr",
     "output_type": "stream",
     "text": [
      "\n"
     ]
    },
    {
     "name": "stdout",
     "output_type": "stream",
     "text": [
      "\n",
      "      Epoch    GPU_mem   box_loss   cls_loss   dfl_loss  Instances       Size\n"
     ]
    },
    {
     "name": "stderr",
     "output_type": "stream",
     "text": [
      "     39/100      7.52G      1.383      1.266      1.037          3        640: 100%|██████████| 124/124 [02:20<00:00,  1.13s/it]\n",
      "                 Class     Images  Instances      Box(P          R      mAP50  mAP50-95): 100%|██████████| 8/8 [00:11<00:00,  1.48s/it]"
     ]
    },
    {
     "name": "stdout",
     "output_type": "stream",
     "text": [
      "                   all        492       1263      0.439      0.551      0.481      0.315\n"
     ]
    },
    {
     "name": "stderr",
     "output_type": "stream",
     "text": [
      "\n"
     ]
    },
    {
     "name": "stdout",
     "output_type": "stream",
     "text": [
      "\n",
      "      Epoch    GPU_mem   box_loss   cls_loss   dfl_loss  Instances       Size\n"
     ]
    },
    {
     "name": "stderr",
     "output_type": "stream",
     "text": [
      "     40/100      7.51G      1.364      1.261      1.036          1        640: 100%|██████████| 124/124 [02:27<00:00,  1.19s/it]\n",
      "                 Class     Images  Instances      Box(P          R      mAP50  mAP50-95): 100%|██████████| 8/8 [00:08<00:00,  1.10s/it]"
     ]
    },
    {
     "name": "stdout",
     "output_type": "stream",
     "text": [
      "                   all        492       1263       0.44      0.546      0.483      0.314\n"
     ]
    },
    {
     "name": "stderr",
     "output_type": "stream",
     "text": [
      "\n"
     ]
    },
    {
     "name": "stdout",
     "output_type": "stream",
     "text": [
      "\n",
      "      Epoch    GPU_mem   box_loss   cls_loss   dfl_loss  Instances       Size\n"
     ]
    },
    {
     "name": "stderr",
     "output_type": "stream",
     "text": [
      "     41/100      7.51G      1.365      1.246      1.036          5        640: 100%|██████████| 124/124 [02:34<00:00,  1.25s/it]\n",
      "                 Class     Images  Instances      Box(P          R      mAP50  mAP50-95): 100%|██████████| 8/8 [00:09<00:00,  1.13s/it]"
     ]
    },
    {
     "name": "stdout",
     "output_type": "stream",
     "text": [
      "                   all        492       1263      0.504       0.53      0.484      0.318\n"
     ]
    },
    {
     "name": "stderr",
     "output_type": "stream",
     "text": [
      "\n"
     ]
    },
    {
     "name": "stdout",
     "output_type": "stream",
     "text": [
      "\n",
      "      Epoch    GPU_mem   box_loss   cls_loss   dfl_loss  Instances       Size\n"
     ]
    },
    {
     "name": "stderr",
     "output_type": "stream",
     "text": [
      "     42/100      7.52G      1.346      1.191      1.031         11        640: 100%|██████████| 124/124 [02:20<00:00,  1.14s/it]\n",
      "                 Class     Images  Instances      Box(P          R      mAP50  mAP50-95): 100%|██████████| 8/8 [00:11<00:00,  1.48s/it]"
     ]
    },
    {
     "name": "stdout",
     "output_type": "stream",
     "text": [
      "                   all        492       1263      0.444      0.526      0.471      0.306\n"
     ]
    },
    {
     "name": "stderr",
     "output_type": "stream",
     "text": [
      "\n"
     ]
    },
    {
     "name": "stdout",
     "output_type": "stream",
     "text": [
      "\n",
      "      Epoch    GPU_mem   box_loss   cls_loss   dfl_loss  Instances       Size\n"
     ]
    },
    {
     "name": "stderr",
     "output_type": "stream",
     "text": [
      "     43/100      7.51G      1.342      1.195      1.025         12        640: 100%|██████████| 124/124 [02:16<00:00,  1.10s/it]\n",
      "                 Class     Images  Instances      Box(P          R      mAP50  mAP50-95): 100%|██████████| 8/8 [00:11<00:00,  1.48s/it]"
     ]
    },
    {
     "name": "stdout",
     "output_type": "stream",
     "text": [
      "                   all        492       1263      0.636      0.395      0.478      0.311\n"
     ]
    },
    {
     "name": "stderr",
     "output_type": "stream",
     "text": [
      "\n"
     ]
    },
    {
     "name": "stdout",
     "output_type": "stream",
     "text": [
      "\n",
      "      Epoch    GPU_mem   box_loss   cls_loss   dfl_loss  Instances       Size\n"
     ]
    },
    {
     "name": "stderr",
     "output_type": "stream",
     "text": [
      "     44/100       7.5G      1.334      1.184      1.025         14        640: 100%|██████████| 124/124 [02:32<00:00,  1.23s/it]\n",
      "                 Class     Images  Instances      Box(P          R      mAP50  mAP50-95): 100%|██████████| 8/8 [00:09<00:00,  1.21s/it]"
     ]
    },
    {
     "name": "stdout",
     "output_type": "stream",
     "text": [
      "                   all        492       1263       0.55      0.437      0.479      0.309\n"
     ]
    },
    {
     "name": "stderr",
     "output_type": "stream",
     "text": [
      "\n"
     ]
    },
    {
     "name": "stdout",
     "output_type": "stream",
     "text": [
      "\n",
      "      Epoch    GPU_mem   box_loss   cls_loss   dfl_loss  Instances       Size\n"
     ]
    },
    {
     "name": "stderr",
     "output_type": "stream",
     "text": [
      "     45/100      7.51G      1.329      1.173      1.013          0        640: 100%|██████████| 124/124 [02:25<00:00,  1.18s/it]\n",
      "                 Class     Images  Instances      Box(P          R      mAP50  mAP50-95): 100%|██████████| 8/8 [00:11<00:00,  1.43s/it]"
     ]
    },
    {
     "name": "stdout",
     "output_type": "stream",
     "text": [
      "                   all        492       1263      0.508      0.503      0.502      0.325\n"
     ]
    },
    {
     "name": "stderr",
     "output_type": "stream",
     "text": [
      "\n"
     ]
    },
    {
     "name": "stdout",
     "output_type": "stream",
     "text": [
      "\n",
      "      Epoch    GPU_mem   box_loss   cls_loss   dfl_loss  Instances       Size\n"
     ]
    },
    {
     "name": "stderr",
     "output_type": "stream",
     "text": [
      "     46/100      7.51G      1.311      1.157      1.019          2        640: 100%|██████████| 124/124 [02:25<00:00,  1.18s/it]\n",
      "                 Class     Images  Instances      Box(P          R      mAP50  mAP50-95): 100%|██████████| 8/8 [00:11<00:00,  1.46s/it]"
     ]
    },
    {
     "name": "stdout",
     "output_type": "stream",
     "text": [
      "                   all        492       1263      0.544      0.508      0.497      0.323\n"
     ]
    },
    {
     "name": "stderr",
     "output_type": "stream",
     "text": [
      "\n"
     ]
    },
    {
     "name": "stdout",
     "output_type": "stream",
     "text": [
      "\n",
      "      Epoch    GPU_mem   box_loss   cls_loss   dfl_loss  Instances       Size\n"
     ]
    },
    {
     "name": "stderr",
     "output_type": "stream",
     "text": [
      "     47/100      7.51G      1.307      1.158      1.011          2        640: 100%|██████████| 124/124 [02:30<00:00,  1.21s/it]\n",
      "                 Class     Images  Instances      Box(P          R      mAP50  mAP50-95): 100%|██████████| 8/8 [00:12<00:00,  1.60s/it]"
     ]
    },
    {
     "name": "stdout",
     "output_type": "stream",
     "text": [
      "                   all        492       1263      0.507      0.521        0.5       0.32\n"
     ]
    },
    {
     "name": "stderr",
     "output_type": "stream",
     "text": [
      "\n"
     ]
    },
    {
     "name": "stdout",
     "output_type": "stream",
     "text": [
      "\n",
      "      Epoch    GPU_mem   box_loss   cls_loss   dfl_loss  Instances       Size\n"
     ]
    },
    {
     "name": "stderr",
     "output_type": "stream",
     "text": [
      "     48/100      7.49G      1.319      1.159      1.011          1        640: 100%|██████████| 124/124 [02:43<00:00,  1.32s/it]\n",
      "                 Class     Images  Instances      Box(P          R      mAP50  mAP50-95): 100%|██████████| 8/8 [00:08<00:00,  1.10s/it]"
     ]
    },
    {
     "name": "stdout",
     "output_type": "stream",
     "text": [
      "                   all        492       1263      0.581      0.482      0.507      0.333\n"
     ]
    },
    {
     "name": "stderr",
     "output_type": "stream",
     "text": [
      "\n"
     ]
    },
    {
     "name": "stdout",
     "output_type": "stream",
     "text": [
      "\n",
      "      Epoch    GPU_mem   box_loss   cls_loss   dfl_loss  Instances       Size\n"
     ]
    },
    {
     "name": "stderr",
     "output_type": "stream",
     "text": [
      "     49/100       7.5G      1.321       1.14      1.005          1        640: 100%|██████████| 124/124 [02:19<00:00,  1.13s/it]\n",
      "                 Class     Images  Instances      Box(P          R      mAP50  mAP50-95): 100%|██████████| 8/8 [00:09<00:00,  1.18s/it]"
     ]
    },
    {
     "name": "stdout",
     "output_type": "stream",
     "text": [
      "                   all        492       1263      0.519      0.466      0.488      0.325\n"
     ]
    },
    {
     "name": "stderr",
     "output_type": "stream",
     "text": [
      "\n"
     ]
    },
    {
     "name": "stdout",
     "output_type": "stream",
     "text": [
      "\n",
      "      Epoch    GPU_mem   box_loss   cls_loss   dfl_loss  Instances       Size\n"
     ]
    },
    {
     "name": "stderr",
     "output_type": "stream",
     "text": [
      "     50/100      7.52G       1.29      1.103      1.008          5        640: 100%|██████████| 124/124 [02:34<00:00,  1.24s/it]\n",
      "                 Class     Images  Instances      Box(P          R      mAP50  mAP50-95): 100%|██████████| 8/8 [00:11<00:00,  1.38s/it]"
     ]
    },
    {
     "name": "stdout",
     "output_type": "stream",
     "text": [
      "                   all        492       1263      0.543      0.497      0.504      0.327\n"
     ]
    },
    {
     "name": "stderr",
     "output_type": "stream",
     "text": [
      "\n"
     ]
    },
    {
     "name": "stdout",
     "output_type": "stream",
     "text": [
      "\n",
      "      Epoch    GPU_mem   box_loss   cls_loss   dfl_loss  Instances       Size\n"
     ]
    },
    {
     "name": "stderr",
     "output_type": "stream",
     "text": [
      "     51/100      7.51G      1.295      1.123      1.004          5        640: 100%|██████████| 124/124 [02:37<00:00,  1.27s/it]\n",
      "                 Class     Images  Instances      Box(P          R      mAP50  mAP50-95): 100%|██████████| 8/8 [00:12<00:00,  1.51s/it]"
     ]
    },
    {
     "name": "stdout",
     "output_type": "stream",
     "text": [
      "                   all        492       1263       0.52      0.471      0.487      0.318\n"
     ]
    },
    {
     "name": "stderr",
     "output_type": "stream",
     "text": [
      "\n"
     ]
    },
    {
     "name": "stdout",
     "output_type": "stream",
     "text": [
      "\n",
      "      Epoch    GPU_mem   box_loss   cls_loss   dfl_loss  Instances       Size\n"
     ]
    },
    {
     "name": "stderr",
     "output_type": "stream",
     "text": [
      "     52/100      7.52G      1.286      1.119     0.9997          0        640: 100%|██████████| 124/124 [02:19<00:00,  1.13s/it]\n",
      "                 Class     Images  Instances      Box(P          R      mAP50  mAP50-95): 100%|██████████| 8/8 [00:11<00:00,  1.44s/it]"
     ]
    },
    {
     "name": "stdout",
     "output_type": "stream",
     "text": [
      "                   all        492       1263      0.617      0.473      0.523      0.351\n"
     ]
    },
    {
     "name": "stderr",
     "output_type": "stream",
     "text": [
      "\n"
     ]
    },
    {
     "name": "stdout",
     "output_type": "stream",
     "text": [
      "\n",
      "      Epoch    GPU_mem   box_loss   cls_loss   dfl_loss  Instances       Size\n"
     ]
    },
    {
     "name": "stderr",
     "output_type": "stream",
     "text": [
      "     53/100      7.51G      1.286      1.087      1.006          6        640: 100%|██████████| 124/124 [02:10<00:00,  1.05s/it]\n",
      "                 Class     Images  Instances      Box(P          R      mAP50  mAP50-95): 100%|██████████| 8/8 [00:11<00:00,  1.50s/it]"
     ]
    },
    {
     "name": "stdout",
     "output_type": "stream",
     "text": [
      "                   all        492       1263      0.629      0.473      0.524      0.344\n"
     ]
    },
    {
     "name": "stderr",
     "output_type": "stream",
     "text": [
      "\n"
     ]
    },
    {
     "name": "stdout",
     "output_type": "stream",
     "text": [
      "\n",
      "      Epoch    GPU_mem   box_loss   cls_loss   dfl_loss  Instances       Size\n"
     ]
    },
    {
     "name": "stderr",
     "output_type": "stream",
     "text": [
      "     54/100      7.51G      1.257       1.08     0.9946          0        640: 100%|██████████| 124/124 [02:19<00:00,  1.12s/it]\n",
      "                 Class     Images  Instances      Box(P          R      mAP50  mAP50-95): 100%|██████████| 8/8 [00:11<00:00,  1.47s/it]"
     ]
    },
    {
     "name": "stdout",
     "output_type": "stream",
     "text": [
      "                   all        492       1263      0.536      0.551      0.523      0.344\n"
     ]
    },
    {
     "name": "stderr",
     "output_type": "stream",
     "text": [
      "\n"
     ]
    },
    {
     "name": "stdout",
     "output_type": "stream",
     "text": [
      "\n",
      "      Epoch    GPU_mem   box_loss   cls_loss   dfl_loss  Instances       Size\n"
     ]
    },
    {
     "name": "stderr",
     "output_type": "stream",
     "text": [
      "     55/100      7.51G      1.267      1.064     0.9974          7        640: 100%|██████████| 124/124 [02:20<00:00,  1.13s/it]\n",
      "                 Class     Images  Instances      Box(P          R      mAP50  mAP50-95): 100%|██████████| 8/8 [00:13<00:00,  1.71s/it]"
     ]
    },
    {
     "name": "stdout",
     "output_type": "stream",
     "text": [
      "                   all        492       1263       0.55       0.53      0.529      0.348\n"
     ]
    },
    {
     "name": "stderr",
     "output_type": "stream",
     "text": [
      "\n"
     ]
    },
    {
     "name": "stdout",
     "output_type": "stream",
     "text": [
      "\n",
      "      Epoch    GPU_mem   box_loss   cls_loss   dfl_loss  Instances       Size\n"
     ]
    },
    {
     "name": "stderr",
     "output_type": "stream",
     "text": [
      "     56/100       7.5G      1.274      1.061      0.997          1        640: 100%|██████████| 124/124 [02:45<00:00,  1.33s/it]\n",
      "                 Class     Images  Instances      Box(P          R      mAP50  mAP50-95): 100%|██████████| 8/8 [00:11<00:00,  1.43s/it]"
     ]
    },
    {
     "name": "stdout",
     "output_type": "stream",
     "text": [
      "                   all        492       1263      0.575      0.489      0.525      0.349\n"
     ]
    },
    {
     "name": "stderr",
     "output_type": "stream",
     "text": [
      "\n"
     ]
    },
    {
     "name": "stdout",
     "output_type": "stream",
     "text": [
      "\n",
      "      Epoch    GPU_mem   box_loss   cls_loss   dfl_loss  Instances       Size\n"
     ]
    },
    {
     "name": "stderr",
     "output_type": "stream",
     "text": [
      "     57/100      7.52G      1.244      1.038     0.9915          1        640: 100%|██████████| 124/124 [02:45<00:00,  1.33s/it]\n",
      "                 Class     Images  Instances      Box(P          R      mAP50  mAP50-95): 100%|██████████| 8/8 [00:13<00:00,  1.66s/it]"
     ]
    },
    {
     "name": "stdout",
     "output_type": "stream",
     "text": [
      "                   all        492       1263       0.62      0.474      0.518      0.347\n"
     ]
    },
    {
     "name": "stderr",
     "output_type": "stream",
     "text": [
      "\n"
     ]
    },
    {
     "name": "stdout",
     "output_type": "stream",
     "text": [
      "\n",
      "      Epoch    GPU_mem   box_loss   cls_loss   dfl_loss  Instances       Size\n"
     ]
    },
    {
     "name": "stderr",
     "output_type": "stream",
     "text": [
      "     58/100      7.51G      1.255       1.04     0.9924          3        640: 100%|██████████| 124/124 [02:19<00:00,  1.12s/it]\n",
      "                 Class     Images  Instances      Box(P          R      mAP50  mAP50-95): 100%|██████████| 8/8 [00:11<00:00,  1.50s/it]"
     ]
    },
    {
     "name": "stdout",
     "output_type": "stream",
     "text": [
      "                   all        492       1263      0.582      0.466      0.517       0.34\n"
     ]
    },
    {
     "name": "stderr",
     "output_type": "stream",
     "text": [
      "\n"
     ]
    },
    {
     "name": "stdout",
     "output_type": "stream",
     "text": [
      "\n",
      "      Epoch    GPU_mem   box_loss   cls_loss   dfl_loss  Instances       Size\n"
     ]
    },
    {
     "name": "stderr",
     "output_type": "stream",
     "text": [
      "     59/100      7.51G      1.242      1.033     0.9888          2        640: 100%|██████████| 124/124 [02:41<00:00,  1.30s/it]\n",
      "                 Class     Images  Instances      Box(P          R      mAP50  mAP50-95): 100%|██████████| 8/8 [00:11<00:00,  1.46s/it]"
     ]
    },
    {
     "name": "stdout",
     "output_type": "stream",
     "text": [
      "                   all        492       1263      0.591      0.496      0.518      0.347\n"
     ]
    },
    {
     "name": "stderr",
     "output_type": "stream",
     "text": [
      "\n"
     ]
    },
    {
     "name": "stdout",
     "output_type": "stream",
     "text": [
      "\n",
      "      Epoch    GPU_mem   box_loss   cls_loss   dfl_loss  Instances       Size\n"
     ]
    },
    {
     "name": "stderr",
     "output_type": "stream",
     "text": [
      "     60/100      7.51G      1.229      1.007     0.9845          1        640: 100%|██████████| 124/124 [02:36<00:00,  1.26s/it]\n",
      "                 Class     Images  Instances      Box(P          R      mAP50  mAP50-95): 100%|██████████| 8/8 [00:09<00:00,  1.24s/it]"
     ]
    },
    {
     "name": "stdout",
     "output_type": "stream",
     "text": [
      "                   all        492       1263      0.558      0.546      0.544      0.359\n"
     ]
    },
    {
     "name": "stderr",
     "output_type": "stream",
     "text": [
      "\n"
     ]
    },
    {
     "name": "stdout",
     "output_type": "stream",
     "text": [
      "\n",
      "      Epoch    GPU_mem   box_loss   cls_loss   dfl_loss  Instances       Size\n"
     ]
    },
    {
     "name": "stderr",
     "output_type": "stream",
     "text": [
      "     61/100      7.53G      1.242     0.9992     0.9898          2        640: 100%|██████████| 124/124 [02:38<00:00,  1.27s/it]\n",
      "                 Class     Images  Instances      Box(P          R      mAP50  mAP50-95): 100%|██████████| 8/8 [00:13<00:00,  1.64s/it]"
     ]
    },
    {
     "name": "stdout",
     "output_type": "stream",
     "text": [
      "                   all        492       1263      0.545       0.55      0.534      0.351\n"
     ]
    },
    {
     "name": "stderr",
     "output_type": "stream",
     "text": [
      "\n"
     ]
    },
    {
     "name": "stdout",
     "output_type": "stream",
     "text": [
      "\n",
      "      Epoch    GPU_mem   box_loss   cls_loss   dfl_loss  Instances       Size\n"
     ]
    },
    {
     "name": "stderr",
     "output_type": "stream",
     "text": [
      "     62/100      7.52G      1.205     0.9728     0.9769          7        640: 100%|██████████| 124/124 [02:16<00:00,  1.10s/it]\n",
      "                 Class     Images  Instances      Box(P          R      mAP50  mAP50-95): 100%|██████████| 8/8 [00:11<00:00,  1.44s/it]"
     ]
    },
    {
     "name": "stdout",
     "output_type": "stream",
     "text": [
      "                   all        492       1263      0.584      0.537      0.553      0.369\n"
     ]
    },
    {
     "name": "stderr",
     "output_type": "stream",
     "text": [
      "\n"
     ]
    },
    {
     "name": "stdout",
     "output_type": "stream",
     "text": [
      "\n",
      "      Epoch    GPU_mem   box_loss   cls_loss   dfl_loss  Instances       Size\n"
     ]
    },
    {
     "name": "stderr",
     "output_type": "stream",
     "text": [
      "     63/100      7.53G      1.216     0.9958     0.9797          4        640: 100%|██████████| 124/124 [02:50<00:00,  1.37s/it]\n",
      "                 Class     Images  Instances      Box(P          R      mAP50  mAP50-95): 100%|██████████| 8/8 [00:10<00:00,  1.27s/it]"
     ]
    },
    {
     "name": "stdout",
     "output_type": "stream",
     "text": [
      "                   all        492       1263      0.541       0.56      0.546      0.366\n"
     ]
    },
    {
     "name": "stderr",
     "output_type": "stream",
     "text": [
      "\n"
     ]
    },
    {
     "name": "stdout",
     "output_type": "stream",
     "text": [
      "\n",
      "      Epoch    GPU_mem   box_loss   cls_loss   dfl_loss  Instances       Size\n"
     ]
    },
    {
     "name": "stderr",
     "output_type": "stream",
     "text": [
      "     64/100      7.48G       1.22      1.006      0.981          1        640: 100%|██████████| 124/124 [02:36<00:00,  1.26s/it]\n",
      "                 Class     Images  Instances      Box(P          R      mAP50  mAP50-95): 100%|██████████| 8/8 [00:08<00:00,  1.11s/it]"
     ]
    },
    {
     "name": "stdout",
     "output_type": "stream",
     "text": [
      "                   all        492       1263      0.579      0.593      0.551      0.368\n"
     ]
    },
    {
     "name": "stderr",
     "output_type": "stream",
     "text": [
      "\n"
     ]
    },
    {
     "name": "stdout",
     "output_type": "stream",
     "text": [
      "\n",
      "      Epoch    GPU_mem   box_loss   cls_loss   dfl_loss  Instances       Size\n"
     ]
    },
    {
     "name": "stderr",
     "output_type": "stream",
     "text": [
      "     65/100      7.52G      1.235     0.9727     0.9712          2        640: 100%|██████████| 124/124 [02:06<00:00,  1.02s/it]\n",
      "                 Class     Images  Instances      Box(P          R      mAP50  mAP50-95): 100%|██████████| 8/8 [00:11<00:00,  1.43s/it]"
     ]
    },
    {
     "name": "stdout",
     "output_type": "stream",
     "text": [
      "                   all        492       1263      0.592      0.508      0.532      0.357\n"
     ]
    },
    {
     "name": "stderr",
     "output_type": "stream",
     "text": [
      "\n"
     ]
    },
    {
     "name": "stdout",
     "output_type": "stream",
     "text": [
      "\n",
      "      Epoch    GPU_mem   box_loss   cls_loss   dfl_loss  Instances       Size\n"
     ]
    },
    {
     "name": "stderr",
     "output_type": "stream",
     "text": [
      "     66/100       7.5G      1.208      0.973     0.9716          3        640: 100%|██████████| 124/124 [02:21<00:00,  1.14s/it]\n",
      "                 Class     Images  Instances      Box(P          R      mAP50  mAP50-95): 100%|██████████| 8/8 [00:11<00:00,  1.50s/it]"
     ]
    },
    {
     "name": "stdout",
     "output_type": "stream",
     "text": [
      "                   all        492       1263        0.6      0.539      0.556      0.374\n"
     ]
    },
    {
     "name": "stderr",
     "output_type": "stream",
     "text": [
      "\n"
     ]
    },
    {
     "name": "stdout",
     "output_type": "stream",
     "text": [
      "\n",
      "      Epoch    GPU_mem   box_loss   cls_loss   dfl_loss  Instances       Size\n"
     ]
    },
    {
     "name": "stderr",
     "output_type": "stream",
     "text": [
      "     67/100      7.51G      1.201     0.9545     0.9706          3        640: 100%|██████████| 124/124 [02:43<00:00,  1.32s/it]\n",
      "                 Class     Images  Instances      Box(P          R      mAP50  mAP50-95): 100%|██████████| 8/8 [00:11<00:00,  1.43s/it]"
     ]
    },
    {
     "name": "stdout",
     "output_type": "stream",
     "text": [
      "                   all        492       1263      0.609      0.532      0.546      0.369\n"
     ]
    },
    {
     "name": "stderr",
     "output_type": "stream",
     "text": [
      "\n"
     ]
    },
    {
     "name": "stdout",
     "output_type": "stream",
     "text": [
      "\n",
      "      Epoch    GPU_mem   box_loss   cls_loss   dfl_loss  Instances       Size\n"
     ]
    },
    {
     "name": "stderr",
     "output_type": "stream",
     "text": [
      "     68/100      7.52G      1.198     0.9559     0.9757          3        640: 100%|██████████| 124/124 [02:50<00:00,  1.37s/it]\n",
      "                 Class     Images  Instances      Box(P          R      mAP50  mAP50-95): 100%|██████████| 8/8 [00:13<00:00,  1.71s/it]"
     ]
    },
    {
     "name": "stdout",
     "output_type": "stream",
     "text": [
      "                   all        492       1263      0.591      0.536      0.546      0.363\n"
     ]
    },
    {
     "name": "stderr",
     "output_type": "stream",
     "text": [
      "\n"
     ]
    },
    {
     "name": "stdout",
     "output_type": "stream",
     "text": [
      "\n",
      "      Epoch    GPU_mem   box_loss   cls_loss   dfl_loss  Instances       Size\n"
     ]
    },
    {
     "name": "stderr",
     "output_type": "stream",
     "text": [
      "     69/100      7.48G      1.173     0.9387     0.9663          2        640: 100%|██████████| 124/124 [02:39<00:00,  1.29s/it]\n",
      "                 Class     Images  Instances      Box(P          R      mAP50  mAP50-95): 100%|██████████| 8/8 [00:11<00:00,  1.47s/it]"
     ]
    },
    {
     "name": "stdout",
     "output_type": "stream",
     "text": [
      "                   all        492       1263      0.586      0.547      0.562      0.371\n"
     ]
    },
    {
     "name": "stderr",
     "output_type": "stream",
     "text": [
      "\n"
     ]
    },
    {
     "name": "stdout",
     "output_type": "stream",
     "text": [
      "\n",
      "      Epoch    GPU_mem   box_loss   cls_loss   dfl_loss  Instances       Size\n"
     ]
    },
    {
     "name": "stderr",
     "output_type": "stream",
     "text": [
      "     70/100      7.52G      1.172     0.9291     0.9665          2        640: 100%|██████████| 124/124 [02:37<00:00,  1.27s/it]\n",
      "                 Class     Images  Instances      Box(P          R      mAP50  mAP50-95): 100%|██████████| 8/8 [00:13<00:00,  1.68s/it]"
     ]
    },
    {
     "name": "stdout",
     "output_type": "stream",
     "text": [
      "                   all        492       1263      0.617      0.551      0.567      0.368\n"
     ]
    },
    {
     "name": "stderr",
     "output_type": "stream",
     "text": [
      "\n"
     ]
    },
    {
     "name": "stdout",
     "output_type": "stream",
     "text": [
      "\n",
      "      Epoch    GPU_mem   box_loss   cls_loss   dfl_loss  Instances       Size\n"
     ]
    },
    {
     "name": "stderr",
     "output_type": "stream",
     "text": [
      "     71/100      7.51G      1.183     0.9223     0.9686         12        640: 100%|██████████| 124/124 [02:19<00:00,  1.13s/it]\n",
      "                 Class     Images  Instances      Box(P          R      mAP50  mAP50-95): 100%|██████████| 8/8 [00:12<00:00,  1.50s/it]"
     ]
    },
    {
     "name": "stdout",
     "output_type": "stream",
     "text": [
      "                   all        492       1263      0.658       0.55      0.589      0.385\n"
     ]
    },
    {
     "name": "stderr",
     "output_type": "stream",
     "text": [
      "\n"
     ]
    },
    {
     "name": "stdout",
     "output_type": "stream",
     "text": [
      "\n",
      "      Epoch    GPU_mem   box_loss   cls_loss   dfl_loss  Instances       Size\n"
     ]
    },
    {
     "name": "stderr",
     "output_type": "stream",
     "text": [
      "     72/100      7.52G      1.179     0.9082     0.9628          4        640: 100%|██████████| 124/124 [02:31<00:00,  1.22s/it]\n",
      "                 Class     Images  Instances      Box(P          R      mAP50  mAP50-95): 100%|██████████| 8/8 [00:10<00:00,  1.37s/it]"
     ]
    },
    {
     "name": "stdout",
     "output_type": "stream",
     "text": [
      "                   all        492       1263      0.654      0.539      0.579      0.387\n"
     ]
    },
    {
     "name": "stderr",
     "output_type": "stream",
     "text": [
      "\n"
     ]
    },
    {
     "name": "stdout",
     "output_type": "stream",
     "text": [
      "\n",
      "      Epoch    GPU_mem   box_loss   cls_loss   dfl_loss  Instances       Size\n"
     ]
    },
    {
     "name": "stderr",
     "output_type": "stream",
     "text": [
      "     73/100      7.52G      1.166     0.9132     0.9618          2        640: 100%|██████████| 124/124 [02:32<00:00,  1.23s/it]\n",
      "                 Class     Images  Instances      Box(P          R      mAP50  mAP50-95): 100%|██████████| 8/8 [00:10<00:00,  1.35s/it]"
     ]
    },
    {
     "name": "stdout",
     "output_type": "stream",
     "text": [
      "                   all        492       1263      0.733      0.516      0.609      0.412\n"
     ]
    },
    {
     "name": "stderr",
     "output_type": "stream",
     "text": [
      "\n"
     ]
    },
    {
     "name": "stdout",
     "output_type": "stream",
     "text": [
      "\n",
      "      Epoch    GPU_mem   box_loss   cls_loss   dfl_loss  Instances       Size\n"
     ]
    },
    {
     "name": "stderr",
     "output_type": "stream",
     "text": [
      "     74/100      7.51G      1.171     0.9078       0.96          2        640: 100%|██████████| 124/124 [02:58<00:00,  1.44s/it]\n",
      "                 Class     Images  Instances      Box(P          R      mAP50  mAP50-95): 100%|██████████| 8/8 [00:12<00:00,  1.58s/it]"
     ]
    },
    {
     "name": "stdout",
     "output_type": "stream",
     "text": [
      "                   all        492       1263      0.659      0.553      0.592      0.399\n"
     ]
    },
    {
     "name": "stderr",
     "output_type": "stream",
     "text": [
      "\n"
     ]
    },
    {
     "name": "stdout",
     "output_type": "stream",
     "text": [
      "\n",
      "      Epoch    GPU_mem   box_loss   cls_loss   dfl_loss  Instances       Size\n"
     ]
    },
    {
     "name": "stderr",
     "output_type": "stream",
     "text": [
      "     75/100      7.51G      1.158     0.8847     0.9601          1        640: 100%|██████████| 124/124 [02:25<00:00,  1.18s/it]\n",
      "                 Class     Images  Instances      Box(P          R      mAP50  mAP50-95): 100%|██████████| 8/8 [00:11<00:00,  1.41s/it]"
     ]
    },
    {
     "name": "stdout",
     "output_type": "stream",
     "text": [
      "                   all        492       1263      0.646      0.571      0.588      0.395\n"
     ]
    },
    {
     "name": "stderr",
     "output_type": "stream",
     "text": [
      "\n"
     ]
    },
    {
     "name": "stdout",
     "output_type": "stream",
     "text": [
      "\n",
      "      Epoch    GPU_mem   box_loss   cls_loss   dfl_loss  Instances       Size\n"
     ]
    },
    {
     "name": "stderr",
     "output_type": "stream",
     "text": [
      "     76/100      7.52G      1.132     0.8763     0.9523          1        640: 100%|██████████| 124/124 [02:13<00:00,  1.08s/it]\n",
      "                 Class     Images  Instances      Box(P          R      mAP50  mAP50-95): 100%|██████████| 8/8 [00:10<00:00,  1.35s/it]"
     ]
    },
    {
     "name": "stdout",
     "output_type": "stream",
     "text": [
      "                   all        492       1263      0.636      0.581      0.593      0.394\n"
     ]
    },
    {
     "name": "stderr",
     "output_type": "stream",
     "text": [
      "\n"
     ]
    },
    {
     "name": "stdout",
     "output_type": "stream",
     "text": [
      "\n",
      "      Epoch    GPU_mem   box_loss   cls_loss   dfl_loss  Instances       Size\n"
     ]
    },
    {
     "name": "stderr",
     "output_type": "stream",
     "text": [
      "     77/100      7.51G       1.14     0.8871     0.9522          2        640: 100%|██████████| 124/124 [02:30<00:00,  1.21s/it]\n",
      "                 Class     Images  Instances      Box(P          R      mAP50  mAP50-95): 100%|██████████| 8/8 [00:10<00:00,  1.36s/it]"
     ]
    },
    {
     "name": "stdout",
     "output_type": "stream",
     "text": [
      "                   all        492       1263      0.688      0.559      0.602      0.409\n"
     ]
    },
    {
     "name": "stderr",
     "output_type": "stream",
     "text": [
      "\n"
     ]
    },
    {
     "name": "stdout",
     "output_type": "stream",
     "text": [
      "\n",
      "      Epoch    GPU_mem   box_loss   cls_loss   dfl_loss  Instances       Size\n"
     ]
    },
    {
     "name": "stderr",
     "output_type": "stream",
     "text": [
      "     78/100      7.52G      1.128     0.8895     0.9535          2        640: 100%|██████████| 124/124 [02:31<00:00,  1.22s/it]\n",
      "                 Class     Images  Instances      Box(P          R      mAP50  mAP50-95): 100%|██████████| 8/8 [00:11<00:00,  1.50s/it]"
     ]
    },
    {
     "name": "stdout",
     "output_type": "stream",
     "text": [
      "                   all        492       1263       0.65      0.563      0.605      0.403\n"
     ]
    },
    {
     "name": "stderr",
     "output_type": "stream",
     "text": [
      "\n"
     ]
    },
    {
     "name": "stdout",
     "output_type": "stream",
     "text": [
      "\n",
      "      Epoch    GPU_mem   box_loss   cls_loss   dfl_loss  Instances       Size\n"
     ]
    },
    {
     "name": "stderr",
     "output_type": "stream",
     "text": [
      "     79/100      7.49G      1.121     0.8627     0.9514          8        640: 100%|██████████| 124/124 [02:35<00:00,  1.25s/it]\n",
      "                 Class     Images  Instances      Box(P          R      mAP50  mAP50-95): 100%|██████████| 8/8 [00:09<00:00,  1.17s/it]"
     ]
    },
    {
     "name": "stdout",
     "output_type": "stream",
     "text": [
      "                   all        492       1263       0.62      0.545       0.58      0.385\n"
     ]
    },
    {
     "name": "stderr",
     "output_type": "stream",
     "text": [
      "\n"
     ]
    },
    {
     "name": "stdout",
     "output_type": "stream",
     "text": [
      "\n",
      "      Epoch    GPU_mem   box_loss   cls_loss   dfl_loss  Instances       Size\n"
     ]
    },
    {
     "name": "stderr",
     "output_type": "stream",
     "text": [
      "     80/100      7.51G      1.124     0.8516     0.9544          1        640: 100%|██████████| 124/124 [02:24<00:00,  1.17s/it]\n",
      "                 Class     Images  Instances      Box(P          R      mAP50  mAP50-95): 100%|██████████| 8/8 [00:11<00:00,  1.41s/it]"
     ]
    },
    {
     "name": "stdout",
     "output_type": "stream",
     "text": [
      "                   all        492       1263      0.642       0.56      0.587      0.395\n"
     ]
    },
    {
     "name": "stderr",
     "output_type": "stream",
     "text": [
      "\n"
     ]
    },
    {
     "name": "stdout",
     "output_type": "stream",
     "text": [
      "\n",
      "      Epoch    GPU_mem   box_loss   cls_loss   dfl_loss  Instances       Size\n"
     ]
    },
    {
     "name": "stderr",
     "output_type": "stream",
     "text": [
      "     81/100      7.51G      1.118     0.8495     0.9492          2        640: 100%|██████████| 124/124 [02:42<00:00,  1.31s/it]\n",
      "                 Class     Images  Instances      Box(P          R      mAP50  mAP50-95): 100%|██████████| 8/8 [00:12<00:00,  1.62s/it]"
     ]
    },
    {
     "name": "stdout",
     "output_type": "stream",
     "text": [
      "                   all        492       1263      0.636      0.539       0.59      0.401\n"
     ]
    },
    {
     "name": "stderr",
     "output_type": "stream",
     "text": [
      "\n"
     ]
    },
    {
     "name": "stdout",
     "output_type": "stream",
     "text": [
      "\n",
      "      Epoch    GPU_mem   box_loss   cls_loss   dfl_loss  Instances       Size\n"
     ]
    },
    {
     "name": "stderr",
     "output_type": "stream",
     "text": [
      "     82/100      7.51G      1.104     0.8431      0.943          0        640: 100%|██████████| 124/124 [02:36<00:00,  1.26s/it]\n",
      "                 Class     Images  Instances      Box(P          R      mAP50  mAP50-95): 100%|██████████| 8/8 [00:09<00:00,  1.14s/it]"
     ]
    },
    {
     "name": "stdout",
     "output_type": "stream",
     "text": [
      "                   all        492       1263      0.643      0.528      0.569      0.384\n"
     ]
    },
    {
     "name": "stderr",
     "output_type": "stream",
     "text": [
      "\n"
     ]
    },
    {
     "name": "stdout",
     "output_type": "stream",
     "text": [
      "\n",
      "      Epoch    GPU_mem   box_loss   cls_loss   dfl_loss  Instances       Size\n"
     ]
    },
    {
     "name": "stderr",
     "output_type": "stream",
     "text": [
      "     83/100      7.51G      1.101     0.8352     0.9426          4        640: 100%|██████████| 124/124 [02:45<00:00,  1.34s/it]\n",
      "                 Class     Images  Instances      Box(P          R      mAP50  mAP50-95): 100%|██████████| 8/8 [00:09<00:00,  1.16s/it]"
     ]
    },
    {
     "name": "stdout",
     "output_type": "stream",
     "text": [
      "                   all        492       1263       0.71      0.543      0.601      0.404\n"
     ]
    },
    {
     "name": "stderr",
     "output_type": "stream",
     "text": [
      "\n"
     ]
    },
    {
     "name": "stdout",
     "output_type": "stream",
     "text": [
      "\n",
      "      Epoch    GPU_mem   box_loss   cls_loss   dfl_loss  Instances       Size\n"
     ]
    },
    {
     "name": "stderr",
     "output_type": "stream",
     "text": [
      "     84/100      7.49G      1.103     0.8282     0.9475          2        640: 100%|██████████| 124/124 [02:25<00:00,  1.17s/it]\n",
      "                 Class     Images  Instances      Box(P          R      mAP50  mAP50-95): 100%|██████████| 8/8 [00:11<00:00,  1.43s/it]"
     ]
    },
    {
     "name": "stdout",
     "output_type": "stream",
     "text": [
      "                   all        492       1263      0.736      0.519      0.611      0.412\n"
     ]
    },
    {
     "name": "stderr",
     "output_type": "stream",
     "text": [
      "\n"
     ]
    },
    {
     "name": "stdout",
     "output_type": "stream",
     "text": [
      "\n",
      "      Epoch    GPU_mem   box_loss   cls_loss   dfl_loss  Instances       Size\n"
     ]
    },
    {
     "name": "stderr",
     "output_type": "stream",
     "text": [
      "     85/100      7.62G      1.074     0.8111     0.9375          0        640: 100%|██████████| 124/124 [02:50<00:00,  1.38s/it]\n",
      "                 Class     Images  Instances      Box(P          R      mAP50  mAP50-95): 100%|██████████| 8/8 [00:12<00:00,  1.58s/it]"
     ]
    },
    {
     "name": "stdout",
     "output_type": "stream",
     "text": [
      "                   all        492       1263      0.664      0.541      0.602      0.406\n"
     ]
    },
    {
     "name": "stderr",
     "output_type": "stream",
     "text": [
      "\n"
     ]
    },
    {
     "name": "stdout",
     "output_type": "stream",
     "text": [
      "\n",
      "      Epoch    GPU_mem   box_loss   cls_loss   dfl_loss  Instances       Size\n"
     ]
    },
    {
     "name": "stderr",
     "output_type": "stream",
     "text": [
      "     86/100      7.52G      1.109     0.8612       0.95          7        640: 100%|██████████| 124/124 [02:25<00:00,  1.17s/it]\n",
      "                 Class     Images  Instances      Box(P          R      mAP50  mAP50-95): 100%|██████████| 8/8 [00:12<00:00,  1.54s/it]"
     ]
    },
    {
     "name": "stdout",
     "output_type": "stream",
     "text": [
      "                   all        492       1263      0.751      0.498      0.595      0.403\n"
     ]
    },
    {
     "name": "stderr",
     "output_type": "stream",
     "text": [
      "\n"
     ]
    },
    {
     "name": "stdout",
     "output_type": "stream",
     "text": [
      "\n",
      "      Epoch    GPU_mem   box_loss   cls_loss   dfl_loss  Instances       Size\n"
     ]
    },
    {
     "name": "stderr",
     "output_type": "stream",
     "text": [
      "     87/100      7.51G      1.093     0.8108     0.9413          4        640: 100%|██████████| 124/124 [02:22<00:00,  1.15s/it]\n",
      "                 Class     Images  Instances      Box(P          R      mAP50  mAP50-95): 100%|██████████| 8/8 [00:08<00:00,  1.09s/it]"
     ]
    },
    {
     "name": "stdout",
     "output_type": "stream",
     "text": [
      "                   all        492       1263      0.631      0.583      0.583      0.394\n"
     ]
    },
    {
     "name": "stderr",
     "output_type": "stream",
     "text": [
      "\n"
     ]
    },
    {
     "name": "stdout",
     "output_type": "stream",
     "text": [
      "\n",
      "      Epoch    GPU_mem   box_loss   cls_loss   dfl_loss  Instances       Size\n"
     ]
    },
    {
     "name": "stderr",
     "output_type": "stream",
     "text": [
      "     88/100      7.48G      1.081      0.813     0.9375          2        640: 100%|██████████| 124/124 [02:33<00:00,  1.23s/it]\n",
      "                 Class     Images  Instances      Box(P          R      mAP50  mAP50-95): 100%|██████████| 8/8 [00:11<00:00,  1.38s/it]"
     ]
    },
    {
     "name": "stdout",
     "output_type": "stream",
     "text": [
      "                   all        492       1263      0.678      0.533      0.587      0.398\n"
     ]
    },
    {
     "name": "stderr",
     "output_type": "stream",
     "text": [
      "\n"
     ]
    },
    {
     "name": "stdout",
     "output_type": "stream",
     "text": [
      "\n",
      "      Epoch    GPU_mem   box_loss   cls_loss   dfl_loss  Instances       Size\n"
     ]
    },
    {
     "name": "stderr",
     "output_type": "stream",
     "text": [
      "     89/100      7.51G      1.066     0.8007     0.9362          3        640: 100%|██████████| 124/124 [02:34<00:00,  1.25s/it]\n",
      "                 Class     Images  Instances      Box(P          R      mAP50  mAP50-95): 100%|██████████| 8/8 [00:09<00:00,  1.22s/it]"
     ]
    },
    {
     "name": "stdout",
     "output_type": "stream",
     "text": [
      "                   all        492       1263      0.703      0.553      0.612      0.411\n"
     ]
    },
    {
     "name": "stderr",
     "output_type": "stream",
     "text": [
      "\n"
     ]
    },
    {
     "name": "stdout",
     "output_type": "stream",
     "text": [
      "\n",
      "      Epoch    GPU_mem   box_loss   cls_loss   dfl_loss  Instances       Size\n"
     ]
    },
    {
     "name": "stderr",
     "output_type": "stream",
     "text": [
      "     90/100      7.51G      1.067     0.7904     0.9384          1        640: 100%|██████████| 124/124 [02:30<00:00,  1.22s/it]\n",
      "                 Class     Images  Instances      Box(P          R      mAP50  mAP50-95): 100%|██████████| 8/8 [00:11<00:00,  1.40s/it]"
     ]
    },
    {
     "name": "stdout",
     "output_type": "stream",
     "text": [
      "                   all        492       1263      0.698      0.578      0.611      0.413\n"
     ]
    },
    {
     "name": "stderr",
     "output_type": "stream",
     "text": [
      "\n"
     ]
    },
    {
     "name": "stdout",
     "output_type": "stream",
     "text": [
      "Closing dataloader mosaic\n",
      "\n",
      "      Epoch    GPU_mem   box_loss   cls_loss   dfl_loss  Instances       Size\n"
     ]
    },
    {
     "name": "stderr",
     "output_type": "stream",
     "text": [
      "     91/100      7.52G      1.024     0.7366     0.9306          1        640: 100%|██████████| 124/124 [02:25<00:00,  1.17s/it]\n",
      "                 Class     Images  Instances      Box(P          R      mAP50  mAP50-95): 100%|██████████| 8/8 [00:08<00:00,  1.09s/it]"
     ]
    },
    {
     "name": "stdout",
     "output_type": "stream",
     "text": [
      "                   all        492       1263      0.665      0.573      0.609      0.414\n"
     ]
    },
    {
     "name": "stderr",
     "output_type": "stream",
     "text": [
      "\n"
     ]
    },
    {
     "name": "stdout",
     "output_type": "stream",
     "text": [
      "\n",
      "      Epoch    GPU_mem   box_loss   cls_loss   dfl_loss  Instances       Size\n"
     ]
    },
    {
     "name": "stderr",
     "output_type": "stream",
     "text": [
      "     92/100       7.5G      1.014     0.7198     0.9195          3        640: 100%|██████████| 124/124 [02:27<00:00,  1.19s/it]\n",
      "                 Class     Images  Instances      Box(P          R      mAP50  mAP50-95): 100%|██████████| 8/8 [00:10<00:00,  1.37s/it]"
     ]
    },
    {
     "name": "stdout",
     "output_type": "stream",
     "text": [
      "                   all        492       1263      0.713      0.531      0.599      0.408\n"
     ]
    },
    {
     "name": "stderr",
     "output_type": "stream",
     "text": [
      "\n"
     ]
    },
    {
     "name": "stdout",
     "output_type": "stream",
     "text": [
      "\n",
      "      Epoch    GPU_mem   box_loss   cls_loss   dfl_loss  Instances       Size\n"
     ]
    },
    {
     "name": "stderr",
     "output_type": "stream",
     "text": [
      "     93/100      7.51G      1.014     0.7388      0.921          1        640: 100%|██████████| 124/124 [02:34<00:00,  1.25s/it]\n",
      "                 Class     Images  Instances      Box(P          R      mAP50  mAP50-95): 100%|██████████| 8/8 [00:09<00:00,  1.16s/it]"
     ]
    },
    {
     "name": "stdout",
     "output_type": "stream",
     "text": [
      "                   all        492       1263      0.769      0.518      0.613      0.416\n"
     ]
    },
    {
     "name": "stderr",
     "output_type": "stream",
     "text": [
      "\n"
     ]
    },
    {
     "name": "stdout",
     "output_type": "stream",
     "text": [
      "\n",
      "      Epoch    GPU_mem   box_loss   cls_loss   dfl_loss  Instances       Size\n"
     ]
    },
    {
     "name": "stderr",
     "output_type": "stream",
     "text": [
      "     94/100      7.51G     0.9995     0.7078     0.9177          2        640: 100%|██████████| 124/124 [02:14<00:00,  1.08s/it]\n",
      "                 Class     Images  Instances      Box(P          R      mAP50  mAP50-95): 100%|██████████| 8/8 [00:11<00:00,  1.44s/it]"
     ]
    },
    {
     "name": "stdout",
     "output_type": "stream",
     "text": [
      "                   all        492       1263      0.733      0.542      0.616      0.419\n"
     ]
    },
    {
     "name": "stderr",
     "output_type": "stream",
     "text": [
      "\n"
     ]
    },
    {
     "name": "stdout",
     "output_type": "stream",
     "text": [
      "\n",
      "      Epoch    GPU_mem   box_loss   cls_loss   dfl_loss  Instances       Size\n"
     ]
    },
    {
     "name": "stderr",
     "output_type": "stream",
     "text": [
      "     95/100      7.52G      1.002     0.7017     0.9193          4        640: 100%|██████████| 124/124 [02:17<00:00,  1.11s/it]\n",
      "                 Class     Images  Instances      Box(P          R      mAP50  mAP50-95): 100%|██████████| 8/8 [00:10<00:00,  1.36s/it]"
     ]
    },
    {
     "name": "stdout",
     "output_type": "stream",
     "text": [
      "                   all        492       1263      0.752      0.544      0.615      0.417\n"
     ]
    },
    {
     "name": "stderr",
     "output_type": "stream",
     "text": [
      "\n"
     ]
    },
    {
     "name": "stdout",
     "output_type": "stream",
     "text": [
      "\n",
      "      Epoch    GPU_mem   box_loss   cls_loss   dfl_loss  Instances       Size\n"
     ]
    },
    {
     "name": "stderr",
     "output_type": "stream",
     "text": [
      "     96/100      7.51G     0.9844     0.6865     0.9108          1        640: 100%|██████████| 124/124 [02:38<00:00,  1.28s/it]\n",
      "                 Class     Images  Instances      Box(P          R      mAP50  mAP50-95): 100%|██████████| 8/8 [00:09<00:00,  1.15s/it]"
     ]
    },
    {
     "name": "stdout",
     "output_type": "stream",
     "text": [
      "                   all        492       1263      0.771      0.518       0.61      0.412\n"
     ]
    },
    {
     "name": "stderr",
     "output_type": "stream",
     "text": [
      "\n"
     ]
    },
    {
     "name": "stdout",
     "output_type": "stream",
     "text": [
      "\n",
      "      Epoch    GPU_mem   box_loss   cls_loss   dfl_loss  Instances       Size\n"
     ]
    },
    {
     "name": "stderr",
     "output_type": "stream",
     "text": [
      "     97/100      7.52G     0.9764     0.6791     0.9113          6        640: 100%|██████████| 124/124 [02:52<00:00,  1.39s/it]\n",
      "                 Class     Images  Instances      Box(P          R      mAP50  mAP50-95): 100%|██████████| 8/8 [00:12<00:00,  1.59s/it]"
     ]
    },
    {
     "name": "stdout",
     "output_type": "stream",
     "text": [
      "                   all        492       1263      0.792      0.528      0.622       0.42\n"
     ]
    },
    {
     "name": "stderr",
     "output_type": "stream",
     "text": [
      "\n"
     ]
    },
    {
     "name": "stdout",
     "output_type": "stream",
     "text": [
      "\n",
      "      Epoch    GPU_mem   box_loss   cls_loss   dfl_loss  Instances       Size\n"
     ]
    },
    {
     "name": "stderr",
     "output_type": "stream",
     "text": [
      "     98/100      7.51G     0.9707     0.6826     0.9016          1        640: 100%|██████████| 124/124 [02:38<00:00,  1.28s/it]\n",
      "                 Class     Images  Instances      Box(P          R      mAP50  mAP50-95): 100%|██████████| 8/8 [00:09<00:00,  1.15s/it]"
     ]
    },
    {
     "name": "stdout",
     "output_type": "stream",
     "text": [
      "                   all        492       1263      0.765      0.538      0.626      0.425\n"
     ]
    },
    {
     "name": "stderr",
     "output_type": "stream",
     "text": [
      "\n"
     ]
    },
    {
     "name": "stdout",
     "output_type": "stream",
     "text": [
      "\n",
      "      Epoch    GPU_mem   box_loss   cls_loss   dfl_loss  Instances       Size\n"
     ]
    },
    {
     "name": "stderr",
     "output_type": "stream",
     "text": [
      "     99/100      7.52G     0.9933     0.7053     0.9074          2        640: 100%|██████████| 124/124 [02:23<00:00,  1.16s/it]\n",
      "                 Class     Images  Instances      Box(P          R      mAP50  mAP50-95): 100%|██████████| 8/8 [00:08<00:00,  1.09s/it]"
     ]
    },
    {
     "name": "stdout",
     "output_type": "stream",
     "text": [
      "                   all        492       1263      0.765      0.545      0.625      0.423\n"
     ]
    },
    {
     "name": "stderr",
     "output_type": "stream",
     "text": [
      "\n"
     ]
    },
    {
     "name": "stdout",
     "output_type": "stream",
     "text": [
      "\n",
      "      Epoch    GPU_mem   box_loss   cls_loss   dfl_loss  Instances       Size\n"
     ]
    },
    {
     "name": "stderr",
     "output_type": "stream",
     "text": [
      "    100/100      7.51G      0.972     0.6977     0.9059          2        640: 100%|██████████| 124/124 [02:23<00:00,  1.16s/it]\n",
      "                 Class     Images  Instances      Box(P          R      mAP50  mAP50-95): 100%|██████████| 8/8 [00:11<00:00,  1.41s/it]"
     ]
    },
    {
     "name": "stdout",
     "output_type": "stream",
     "text": [
      "                   all        492       1263      0.761       0.54       0.62      0.421\n"
     ]
    },
    {
     "name": "stderr",
     "output_type": "stream",
     "text": [
      "\n"
     ]
    },
    {
     "name": "stdout",
     "output_type": "stream",
     "text": [
      "\n",
      "100 epochs completed in 4.521 hours.\n",
      "Optimizer stripped from C:\\Users\\vravula\\Downloads\\final_pie_env\\training\\training_results\\train2\\weights\\last.pt, 22.5MB\n",
      "Optimizer stripped from C:\\Users\\vravula\\Downloads\\final_pie_env\\training\\training_results\\train2\\weights\\best.pt, 22.5MB\n",
      "\n",
      "Validating C:\\Users\\vravula\\Downloads\\final_pie_env\\training\\training_results\\train2\\weights\\best.pt...\n",
      "Ultralytics YOLOv8.0.217 🚀 Python-3.9.13 torch-2.1.1+cu118 CUDA:0 (NVIDIA GeForce RTX 3070, 8192MiB)\n",
      "Model summary (fused): 168 layers, 11126745 parameters, 0 gradients, 28.4 GFLOPs\n"
     ]
    },
    {
     "name": "stderr",
     "output_type": "stream",
     "text": [
      "                 Class     Images  Instances      Box(P          R      mAP50  mAP50-95): 100%|██████████| 8/8 [00:02<00:00,  2.82it/s]\n"
     ]
    },
    {
     "name": "stdout",
     "output_type": "stream",
     "text": [
      "                   all        492       1263      0.765      0.538      0.626      0.425\n",
      "              crossing        492        234      0.777      0.688      0.764      0.547\n",
      "          not-crossing        492        999      0.819      0.459       0.61      0.384\n",
      "   crossing-irrelevant        492         30      0.699      0.467      0.502      0.343\n",
      "Speed: 0.1ms preprocess, 2.4ms inference, 0.0ms loss, 0.6ms postprocess per image\n",
      "Results saved to \u001b[1mC:\\Users\\vravula\\Downloads\\final_pie_env\\training\\training_results\\train2\u001b[0m\n"
     ]
    }
   ],
   "source": [
    "if training_option == 'Train new CNN':\n",
    "  model.train(data=data, epochs=epochs, imgsz=640, batch=batch, cache=True, patience=50, project=project)\n",
    "else:\n",
    "  model.train(data=data, epochs=epochs, imgsz=640, batch=batch, cache=True, patience=50, project=project, resume=True, model=model)"
   ]
  },
  {
   "cell_type": "code",
   "execution_count": 6,
   "metadata": {},
   "outputs": [
    {
     "name": "stdout",
     "output_type": "stream",
     "text": [
      "Ultralytics YOLOv8.0.217 🚀 Python-3.9.13 torch-2.1.1+cu118 CUDA:0 (NVIDIA GeForce RTX 3070, 8192MiB)\n",
      "Model summary (fused): 168 layers, 11126745 parameters, 0 gradients, 28.4 GFLOPs\n"
     ]
    },
    {
     "name": "stderr",
     "output_type": "stream",
     "text": [
      "\u001b[34m\u001b[1mval: \u001b[0mScanning C:\\Users\\vravula\\Downloads\\final_pie_env\\training\\training_dataset\\test\\labels.cache... 493 images, 0 backgrounds, 0 corrupt: 100%|██████████| 493/493 [00:00<?, ?it/s]\n",
      "\u001b[34m\u001b[1mval: \u001b[0mCaching images (0.6GB True): 100%|██████████| 493/493 [00:00<00:00, 1366.52it/s]\n",
      "                 Class     Images  Instances      Box(P          R      mAP50  mAP50-95): 100%|██████████| 16/16 [00:05<00:00,  3.18it/s]\n"
     ]
    },
    {
     "name": "stdout",
     "output_type": "stream",
     "text": [
      "                   all        493       1339      0.734      0.531       0.59      0.412\n",
      "              crossing        493        258       0.76      0.705      0.787      0.587\n",
      "          not-crossing        493       1043      0.804      0.518       0.64      0.411\n",
      "   crossing-irrelevant        493         38      0.637      0.368      0.343      0.239\n",
      "Speed: 1.0ms preprocess, 4.7ms inference, 0.0ms loss, 0.9ms postprocess per image\n",
      "Results saved to \u001b[1mC:\\Users\\vravula\\Downloads\\final_pie_env\\training\\training_results\\train23\u001b[0m\n"
     ]
    }
   ],
   "source": [
    "data_test = r\"C:\\Users\\vravula\\Downloads\\final_pie_env\\training\\training_dataset\\test\\data.yaml\"\n",
    "metrics = model.val(data=data_test)"
   ]
  },
  {
   "cell_type": "code",
   "execution_count": 7,
   "metadata": {},
   "outputs": [
    {
     "name": "stdout",
     "output_type": "stream",
     "text": [
      "F1 Training\n"
     ]
    },
    {
     "data": {
      "image/png": "[encoded data removed]",
      "text/plain": [
       "<PIL.PngImagePlugin.PngImageFile image mode=RGBA size=2250x1500>"
      ]
     },
     "metadata": {},
     "output_type": "display_data"
    },
    {
     "name": "stdout",
     "output_type": "stream",
     "text": [
      "F1 Test\n"
     ]
    },
    {
     "data": {
      "image/png": "[encoded data removed]",
      "text/plain": [
       "<PIL.PngImagePlugin.PngImageFile image mode=RGBA size=2250x1500>"
      ]
     },
     "metadata": {},
     "output_type": "display_data"
    }
   ],
   "source": [
    "#Printing result to confront\n",
    "from PIL import Image\n",
    "\n",
    "precision_training = r'C:\\Users\\vravula\\Downloads\\final_pie_env\\training\\training_results\\train2\\F1_curve.png'\n",
    "precision_test = r'C:\\Users\\vravula\\Downloads\\final_pie_env\\training\\training_results\\train23\\F1_curve.png'\n",
    "\n",
    "im1 = Image.open(precision_training)\n",
    "im2 = Image.open(precision_test)\n",
    "\n",
    "print(\"F1 Training\")\n",
    "display(im1)\n",
    "print(\"F1 Test\")\n",
    "display(im2)"
   ]
  },
  {
   "cell_type": "markdown",
   "metadata": {},
   "source": [
    "## Detection"
   ]
  },
  {
   "cell_type": "code",
   "execution_count": 8,
   "metadata": {},
   "outputs": [],
   "source": [
    "import glob\n",
    "import os\n",
    "import shutil\n",
    "import numpy as np\n",
    "import cv2 as cv\n",
    "# from google.colab.patches import cv2_imshow\n",
    "from matplotlib import pyplot as plt\n",
    "\n",
    "#Bounding Box Merge Algorithm\n",
    "def merge_bounding_boxes(bounding_boxes,image_width,image_height):\n",
    "  [x,y] = [image_height,image_width]\n",
    "  [w,h] = [0,0]\n",
    "  for i in range(0,bounding_boxes.shape[0]):\n",
    "    if(bounding_boxes.ndim == 1):\n",
    "      center_x_1 = int(bounding_boxes[0]*image_width)\n",
    "      center_y_1 = int(bounding_boxes[1]*image_height) \n",
    "      width_1 = int(bounding_boxes[2]*image_width) \n",
    "      height_1 = int(bounding_boxes[3]*image_height)\n",
    "      x = int(center_x_1 - (width_1/2))\n",
    "      y = int(center_y_1 - (height_1/2))\n",
    "      w = int(center_x_1 + (width_1/2))\n",
    "      h = int(center_y_1 + (height_1/2))\n",
    "    else:\n",
    "      center_x_1 = int(bounding_boxes[i,0]*image_width)\n",
    "      center_y_1 = int(bounding_boxes[i,1]*image_height) \n",
    "      width_1 = int(bounding_boxes[i,2]*image_width) \n",
    "      height_1 = int(bounding_boxes[i,3]*image_height)\n",
    "      vert_x = int(center_x_1 - (width_1/2))\n",
    "      vert_y = int(center_y_1 - (height_1/2))\n",
    "      vert_w = int(center_x_1 + (width_1/2))\n",
    "      vert_h = int(center_y_1 + (height_1/2))\n",
    "      if(vert_x < x):\n",
    "        x = vert_x\n",
    "      if(vert_y < y):\n",
    "        y = vert_y\n",
    "      if(vert_w > w):\n",
    "        w = vert_w\n",
    "      if(vert_h > h):\n",
    "        h = vert_h\n",
    "    return np.array([x,y,w,h])"
   ]
  },
  {
   "cell_type": "code",
   "execution_count": 9,
   "metadata": {},
   "outputs": [
    {
     "name": "stdout",
     "output_type": "stream",
     "text": [
      "Ultralytics YOLOv8.0.217 🚀 Python-3.9.13 torch-2.1.1+cu118 CUDA:0 (NVIDIA GeForce RTX 3070, 8192MiB)\n",
      "Model summary (fused): 168 layers, 11126745 parameters, 0 gradients, 28.4 GFLOPs\n",
      "\n",
      "image 1/790 C:\\Users\\vravula\\Downloads\\final_pie_env\\detection\\dataset\\detection_set04_video_0005_04260.png: 640x640 1 not-crossing, 6.0ms\n",
      "image 2/790 C:\\Users\\vravula\\Downloads\\final_pie_env\\detection\\dataset\\detection_set04_video_0005_04290.png: 640x640 (no detections), 6.0ms\n",
      "image 3/790 C:\\Users\\vravula\\Downloads\\final_pie_env\\detection\\dataset\\detection_set04_video_0005_04320.png: 640x640 (no detections), 5.0ms\n",
      "image 4/790 C:\\Users\\vravula\\Downloads\\final_pie_env\\detection\\dataset\\detection_set04_video_0005_04350.png: 640x640 2 not-crossings, 6.0ms\n",
      "image 5/790 C:\\Users\\vravula\\Downloads\\final_pie_env\\detection\\dataset\\detection_set04_video_0005_04380.png: 640x640 (no detections), 6.0ms\n",
      "image 6/790 C:\\Users\\vravula\\Downloads\\final_pie_env\\detection\\dataset\\detection_set04_video_0005_04410.png: 640x640 (no detections), 6.0ms\n",
      "image 7/790 C:\\Users\\vravula\\Downloads\\final_pie_env\\detection\\dataset\\detection_set04_video_0005_04440.png: 640x640 1 not-crossing, 6.1ms\n",
      "image 8/790 C:\\Users\\vravula\\Downloads\\final_pie_env\\detection\\dataset\\detection_set04_video_0005_05160.png: 640x640 (no detections), 6.0ms\n",
      "image 9/790 C:\\Users\\vravula\\Downloads\\final_pie_env\\detection\\dataset\\detection_set04_video_0005_05190.png: 640x640 (no detections), 5.5ms\n",
      "image 10/790 C:\\Users\\vravula\\Downloads\\final_pie_env\\detection\\dataset\\detection_set04_video_0005_05220.png: 640x640 (no detections), 5.0ms\n",
      "image 11/790 C:\\Users\\vravula\\Downloads\\final_pie_env\\detection\\dataset\\detection_set04_video_0005_05250.png: 640x640 1 not-crossing, 6.6ms\n",
      "image 12/790 C:\\Users\\vravula\\Downloads\\final_pie_env\\detection\\dataset\\detection_set04_video_0005_05280.png: 640x640 1 not-crossing, 7.0ms\n",
      "image 13/790 C:\\Users\\vravula\\Downloads\\final_pie_env\\detection\\dataset\\detection_set04_video_0005_05310.png: 640x640 (no detections), 6.5ms\n",
      "image 14/790 C:\\Users\\vravula\\Downloads\\final_pie_env\\detection\\dataset\\detection_set04_video_0005_05340.png: 640x640 1 not-crossing, 6.0ms\n",
      "image 15/790 C:\\Users\\vravula\\Downloads\\final_pie_env\\detection\\dataset\\detection_set04_video_0005_05370.png: 640x640 1 not-crossing, 6.0ms\n",
      "image 16/790 C:\\Users\\vravula\\Downloads\\final_pie_env\\detection\\dataset\\detection_set04_video_0005_05400.png: 640x640 1 not-crossing, 5.5ms\n",
      "image 17/790 C:\\Users\\vravula\\Downloads\\final_pie_env\\detection\\dataset\\detection_set04_video_0005_05430.png: 640x640 1 not-crossing, 5.0ms\n",
      "image 18/790 C:\\Users\\vravula\\Downloads\\final_pie_env\\detection\\dataset\\detection_set04_video_0005_05460.png: 640x640 1 not-crossing, 7.3ms\n",
      "image 19/790 C:\\Users\\vravula\\Downloads\\final_pie_env\\detection\\dataset\\detection_set04_video_0005_05490.png: 640x640 1 not-crossing, 5.0ms\n",
      "image 20/790 C:\\Users\\vravula\\Downloads\\final_pie_env\\detection\\dataset\\detection_set04_video_0005_05520.png: 640x640 1 not-crossing, 6.1ms\n",
      "image 21/790 C:\\Users\\vravula\\Downloads\\final_pie_env\\detection\\dataset\\detection_set04_video_0005_05550.png: 640x640 1 not-crossing, 6.0ms\n",
      "image 22/790 C:\\Users\\vravula\\Downloads\\final_pie_env\\detection\\dataset\\detection_set04_video_0005_05580.png: 640x640 1 not-crossing, 6.2ms\n",
      "image 23/790 C:\\Users\\vravula\\Downloads\\final_pie_env\\detection\\dataset\\detection_set04_video_0005_05610.png: 640x640 1 not-crossing, 5.1ms\n",
      "image 24/790 C:\\Users\\vravula\\Downloads\\final_pie_env\\detection\\dataset\\detection_set04_video_0005_05640.png: 640x640 1 not-crossing, 5.6ms\n",
      "image 25/790 C:\\Users\\vravula\\Downloads\\final_pie_env\\detection\\dataset\\detection_set04_video_0005_05670.png: 640x640 1 not-crossing, 6.0ms\n",
      "image 26/790 C:\\Users\\vravula\\Downloads\\final_pie_env\\detection\\dataset\\detection_set04_video_0005_05700.png: 640x640 1 not-crossing, 5.0ms\n",
      "image 27/790 C:\\Users\\vravula\\Downloads\\final_pie_env\\detection\\dataset\\detection_set04_video_0005_05730.png: 640x640 1 not-crossing, 6.0ms\n",
      "image 28/790 C:\\Users\\vravula\\Downloads\\final_pie_env\\detection\\dataset\\detection_set04_video_0005_05760.png: 640x640 1 not-crossing, 5.0ms\n",
      "image 29/790 C:\\Users\\vravula\\Downloads\\final_pie_env\\detection\\dataset\\detection_set04_video_0005_05790.png: 640x640 1 not-crossing, 5.0ms\n",
      "image 30/790 C:\\Users\\vravula\\Downloads\\final_pie_env\\detection\\dataset\\detection_set04_video_0005_05820.png: 640x640 1 not-crossing, 5.0ms\n",
      "image 31/790 C:\\Users\\vravula\\Downloads\\final_pie_env\\detection\\dataset\\detection_set04_video_0005_05850.png: 640x640 1 not-crossing, 6.0ms\n",
      "image 32/790 C:\\Users\\vravula\\Downloads\\final_pie_env\\detection\\dataset\\detection_set04_video_0005_05880.png: 640x640 1 not-crossing, 6.1ms\n",
      "image 33/790 C:\\Users\\vravula\\Downloads\\final_pie_env\\detection\\dataset\\detection_set04_video_0005_05910.png: 640x640 1 not-crossing, 5.0ms\n",
      "image 34/790 C:\\Users\\vravula\\Downloads\\final_pie_env\\detection\\dataset\\detection_set04_video_0005_05940.png: 640x640 1 not-crossing, 6.5ms\n",
      "image 35/790 C:\\Users\\vravula\\Downloads\\final_pie_env\\detection\\dataset\\detection_set04_video_0005_05970.png: 640x640 1 not-crossing, 6.2ms\n",
      "image 36/790 C:\\Users\\vravula\\Downloads\\final_pie_env\\detection\\dataset\\detection_set04_video_0005_06000.png: 640x640 1 not-crossing, 6.0ms\n",
      "image 37/790 C:\\Users\\vravula\\Downloads\\final_pie_env\\detection\\dataset\\detection_set04_video_0005_06030.png: 640x640 1 not-crossing, 6.1ms\n",
      "image 38/790 C:\\Users\\vravula\\Downloads\\final_pie_env\\detection\\dataset\\detection_set04_video_0005_06060.png: 640x640 (no detections), 6.0ms\n",
      "image 39/790 C:\\Users\\vravula\\Downloads\\final_pie_env\\detection\\dataset\\detection_set04_video_0005_06090.png: 640x640 1 not-crossing, 6.1ms\n",
      "image 40/790 C:\\Users\\vravula\\Downloads\\final_pie_env\\detection\\dataset\\detection_set04_video_0005_06120.png: 640x640 (no detections), 6.0ms\n",
      "image 41/790 C:\\Users\\vravula\\Downloads\\final_pie_env\\detection\\dataset\\detection_set04_video_0005_06150.png: 640x640 1 not-crossing, 5.0ms\n",
      "image 42/790 C:\\Users\\vravula\\Downloads\\final_pie_env\\detection\\dataset\\detection_set04_video_0005_06180.png: 640x640 1 not-crossing, 6.5ms\n",
      "image 43/790 C:\\Users\\vravula\\Downloads\\final_pie_env\\detection\\dataset\\detection_set04_video_0005_06210.png: 640x640 1 not-crossing, 6.0ms\n",
      "image 44/790 C:\\Users\\vravula\\Downloads\\final_pie_env\\detection\\dataset\\detection_set04_video_0005_06240.png: 640x640 1 not-crossing, 5.0ms\n",
      "image 45/790 C:\\Users\\vravula\\Downloads\\final_pie_env\\detection\\dataset\\detection_set04_video_0005_06270.png: 640x640 (no detections), 6.0ms\n",
      "image 46/790 C:\\Users\\vravula\\Downloads\\final_pie_env\\detection\\dataset\\detection_set04_video_0005_06300.png: 640x640 (no detections), 6.1ms\n",
      "image 47/790 C:\\Users\\vravula\\Downloads\\final_pie_env\\detection\\dataset\\detection_set04_video_0005_06330.png: 640x640 1 not-crossing, 5.0ms\n",
      "image 48/790 C:\\Users\\vravula\\Downloads\\final_pie_env\\detection\\dataset\\detection_set04_video_0005_06360.png: 640x640 1 not-crossing, 5.1ms\n",
      "image 49/790 C:\\Users\\vravula\\Downloads\\final_pie_env\\detection\\dataset\\detection_set04_video_0005_06390.png: 640x640 1 not-crossing, 6.0ms\n",
      "image 50/790 C:\\Users\\vravula\\Downloads\\final_pie_env\\detection\\dataset\\detection_set04_video_0005_06420.png: 640x640 2 not-crossings, 5.1ms\n",
      "image 51/790 C:\\Users\\vravula\\Downloads\\final_pie_env\\detection\\dataset\\detection_set04_video_0005_06450.png: 640x640 3 not-crossings, 6.0ms\n",
      "image 52/790 C:\\Users\\vravula\\Downloads\\final_pie_env\\detection\\dataset\\detection_set04_video_0005_06480.png: 640x640 2 not-crossings, 6.0ms\n",
      "image 53/790 C:\\Users\\vravula\\Downloads\\final_pie_env\\detection\\dataset\\detection_set04_video_0005_08730.png: 640x640 (no detections), 6.2ms\n",
      "image 54/790 C:\\Users\\vravula\\Downloads\\final_pie_env\\detection\\dataset\\detection_set04_video_0005_08760.png: 640x640 (no detections), 6.0ms\n",
      "image 55/790 C:\\Users\\vravula\\Downloads\\final_pie_env\\detection\\dataset\\detection_set04_video_0005_08790.png: 640x640 (no detections), 5.1ms\n",
      "image 56/790 C:\\Users\\vravula\\Downloads\\final_pie_env\\detection\\dataset\\detection_set04_video_0005_08820.png: 640x640 (no detections), 6.0ms\n",
      "image 57/790 C:\\Users\\vravula\\Downloads\\final_pie_env\\detection\\dataset\\detection_set04_video_0005_08850.png: 640x640 (no detections), 5.0ms\n",
      "image 58/790 C:\\Users\\vravula\\Downloads\\final_pie_env\\detection\\dataset\\detection_set04_video_0005_08880.png: 640x640 1 not-crossing, 5.0ms\n",
      "image 59/790 C:\\Users\\vravula\\Downloads\\final_pie_env\\detection\\dataset\\detection_set04_video_0005_08910.png: 640x640 (no detections), 5.7ms\n",
      "image 60/790 C:\\Users\\vravula\\Downloads\\final_pie_env\\detection\\dataset\\detection_set04_video_0005_08940.png: 640x640 (no detections), 6.1ms\n",
      "image 61/790 C:\\Users\\vravula\\Downloads\\final_pie_env\\detection\\dataset\\detection_set04_video_0005_08970.png: 640x640 (no detections), 7.0ms\n",
      "image 62/790 C:\\Users\\vravula\\Downloads\\final_pie_env\\detection\\dataset\\detection_set04_video_0005_09000.png: 640x640 (no detections), 6.0ms\n",
      "image 63/790 C:\\Users\\vravula\\Downloads\\final_pie_env\\detection\\dataset\\detection_set04_video_0005_09030.png: 640x640 (no detections), 5.0ms\n",
      "image 64/790 C:\\Users\\vravula\\Downloads\\final_pie_env\\detection\\dataset\\detection_set04_video_0005_09060.png: 640x640 (no detections), 6.0ms\n",
      "image 65/790 C:\\Users\\vravula\\Downloads\\final_pie_env\\detection\\dataset\\detection_set04_video_0005_09090.png: 640x640 (no detections), 6.6ms\n",
      "image 66/790 C:\\Users\\vravula\\Downloads\\final_pie_env\\detection\\dataset\\detection_set04_video_0005_09120.png: 640x640 (no detections), 6.0ms\n",
      "image 67/790 C:\\Users\\vravula\\Downloads\\final_pie_env\\detection\\dataset\\detection_set04_video_0005_09150.png: 640x640 (no detections), 5.0ms\n",
      "image 68/790 C:\\Users\\vravula\\Downloads\\final_pie_env\\detection\\dataset\\detection_set04_video_0005_09180.png: 640x640 (no detections), 6.0ms\n",
      "image 69/790 C:\\Users\\vravula\\Downloads\\final_pie_env\\detection\\dataset\\detection_set04_video_0005_09210.png: 640x640 (no detections), 5.0ms\n",
      "image 70/790 C:\\Users\\vravula\\Downloads\\final_pie_env\\detection\\dataset\\detection_set04_video_0005_09240.png: 640x640 (no detections), 6.1ms\n",
      "image 71/790 C:\\Users\\vravula\\Downloads\\final_pie_env\\detection\\dataset\\detection_set04_video_0005_09270.png: 640x640 (no detections), 6.0ms\n",
      "image 72/790 C:\\Users\\vravula\\Downloads\\final_pie_env\\detection\\dataset\\detection_set04_video_0005_09300.png: 640x640 (no detections), 5.0ms\n",
      "image 73/790 C:\\Users\\vravula\\Downloads\\final_pie_env\\detection\\dataset\\detection_set04_video_0005_09330.png: 640x640 (no detections), 5.1ms\n",
      "image 74/790 C:\\Users\\vravula\\Downloads\\final_pie_env\\detection\\dataset\\detection_set04_video_0005_09360.png: 640x640 (no detections), 5.0ms\n",
      "image 75/790 C:\\Users\\vravula\\Downloads\\final_pie_env\\detection\\dataset\\detection_set04_video_0005_09390.png: 640x640 (no detections), 4.0ms\n",
      "image 76/790 C:\\Users\\vravula\\Downloads\\final_pie_env\\detection\\dataset\\detection_set04_video_0005_09420.png: 640x640 1 not-crossing, 5.1ms\n",
      "image 77/790 C:\\Users\\vravula\\Downloads\\final_pie_env\\detection\\dataset\\detection_set04_video_0005_09450.png: 640x640 1 not-crossing, 5.0ms\n",
      "image 78/790 C:\\Users\\vravula\\Downloads\\final_pie_env\\detection\\dataset\\detection_set04_video_0005_09480.png: 640x640 1 not-crossing, 6.0ms\n",
      "image 79/790 C:\\Users\\vravula\\Downloads\\final_pie_env\\detection\\dataset\\detection_set04_video_0005_09510.png: 640x640 3 not-crossings, 5.0ms\n",
      "image 80/790 C:\\Users\\vravula\\Downloads\\final_pie_env\\detection\\dataset\\detection_set04_video_0005_09540.png: 640x640 2 not-crossings, 5.5ms\n",
      "image 81/790 C:\\Users\\vravula\\Downloads\\final_pie_env\\detection\\dataset\\detection_set04_video_0005_10890.png: 640x640 (no detections), 5.0ms\n",
      "image 82/790 C:\\Users\\vravula\\Downloads\\final_pie_env\\detection\\dataset\\detection_set04_video_0005_10920.png: 640x640 1 not-crossing, 4.3ms\n",
      "image 83/790 C:\\Users\\vravula\\Downloads\\final_pie_env\\detection\\dataset\\detection_set04_video_0005_10950.png: 640x640 (no detections), 5.1ms\n",
      "image 84/790 C:\\Users\\vravula\\Downloads\\final_pie_env\\detection\\dataset\\detection_set04_video_0005_10980.png: 640x640 (no detections), 5.0ms\n",
      "image 85/790 C:\\Users\\vravula\\Downloads\\final_pie_env\\detection\\dataset\\detection_set04_video_0005_11010.png: 640x640 1 not-crossing, 5.0ms\n",
      "image 86/790 C:\\Users\\vravula\\Downloads\\final_pie_env\\detection\\dataset\\detection_set04_video_0005_11040.png: 640x640 1 not-crossing, 5.0ms\n",
      "image 87/790 C:\\Users\\vravula\\Downloads\\final_pie_env\\detection\\dataset\\detection_set04_video_0005_11070.png: 640x640 1 not-crossing, 7.0ms\n",
      "image 88/790 C:\\Users\\vravula\\Downloads\\final_pie_env\\detection\\dataset\\detection_set04_video_0005_11100.png: 640x640 2 not-crossings, 5.1ms\n",
      "image 89/790 C:\\Users\\vravula\\Downloads\\final_pie_env\\detection\\dataset\\detection_set04_video_0005_11130.png: 640x640 3 crossings, 1 not-crossing, 5.0ms\n",
      "image 90/790 C:\\Users\\vravula\\Downloads\\final_pie_env\\detection\\dataset\\detection_set04_video_0005_11160.png: 640x640 3 crossings, 1 not-crossing, 5.1ms\n",
      "image 91/790 C:\\Users\\vravula\\Downloads\\final_pie_env\\detection\\dataset\\detection_set04_video_0005_11190.png: 640x640 2 crossings, 1 not-crossing, 5.0ms\n",
      "image 92/790 C:\\Users\\vravula\\Downloads\\final_pie_env\\detection\\dataset\\detection_set04_video_0005_11220.png: 640x640 3 crossings, 5.0ms\n",
      "image 93/790 C:\\Users\\vravula\\Downloads\\final_pie_env\\detection\\dataset\\detection_set04_video_0005_11250.png: 640x640 4 crossings, 5.5ms\n",
      "image 94/790 C:\\Users\\vravula\\Downloads\\final_pie_env\\detection\\dataset\\detection_set04_video_0005_11280.png: 640x640 3 crossings, 5.1ms\n",
      "image 95/790 C:\\Users\\vravula\\Downloads\\final_pie_env\\detection\\dataset\\detection_set04_video_0005_11310.png: 640x640 5 crossings, 1 not-crossing, 5.0ms\n",
      "image 96/790 C:\\Users\\vravula\\Downloads\\final_pie_env\\detection\\dataset\\detection_set04_video_0005_11340.png: 640x640 2 crossings, 1 not-crossing, 5.0ms\n",
      "image 97/790 C:\\Users\\vravula\\Downloads\\final_pie_env\\detection\\dataset\\detection_set04_video_0005_11370.png: 640x640 2 crossings, 1 not-crossing, 5.0ms\n",
      "image 98/790 C:\\Users\\vravula\\Downloads\\final_pie_env\\detection\\dataset\\detection_set04_video_0005_11400.png: 640x640 3 crossings, 1 not-crossing, 5.0ms\n",
      "image 99/790 C:\\Users\\vravula\\Downloads\\final_pie_env\\detection\\dataset\\detection_set04_video_0005_11430.png: 640x640 1 crossing, 2 not-crossings, 5.0ms\n",
      "image 100/790 C:\\Users\\vravula\\Downloads\\final_pie_env\\detection\\dataset\\detection_set04_video_0005_11460.png: 640x640 1 crossing, 1 not-crossing, 5.0ms\n",
      "image 101/790 C:\\Users\\vravula\\Downloads\\final_pie_env\\detection\\dataset\\detection_set04_video_0005_11490.png: 640x640 1 crossing, 1 not-crossing, 5.5ms\n",
      "image 102/790 C:\\Users\\vravula\\Downloads\\final_pie_env\\detection\\dataset\\detection_set04_video_0005_11520.png: 640x640 1 crossing, 1 not-crossing, 5.0ms\n",
      "image 103/790 C:\\Users\\vravula\\Downloads\\final_pie_env\\detection\\dataset\\detection_set04_video_0005_11550.png: 640x640 1 crossing, 5.1ms\n",
      "image 104/790 C:\\Users\\vravula\\Downloads\\final_pie_env\\detection\\dataset\\detection_set04_video_0005_11580.png: 640x640 1 crossing, 5.5ms\n",
      "image 105/790 C:\\Users\\vravula\\Downloads\\final_pie_env\\detection\\dataset\\detection_set04_video_0005_11610.png: 640x640 1 crossing, 2 not-crossings, 5.0ms\n",
      "image 106/790 C:\\Users\\vravula\\Downloads\\final_pie_env\\detection\\dataset\\detection_set04_video_0005_11640.png: 640x640 (no detections), 5.4ms\n",
      "image 107/790 C:\\Users\\vravula\\Downloads\\final_pie_env\\detection\\dataset\\detection_set04_video_0005_11670.png: 640x640 3 not-crossings, 5.1ms\n",
      "image 108/790 C:\\Users\\vravula\\Downloads\\final_pie_env\\detection\\dataset\\detection_set04_video_0005_11700.png: 640x640 1 not-crossing, 6.0ms\n",
      "image 109/790 C:\\Users\\vravula\\Downloads\\final_pie_env\\detection\\dataset\\detection_set04_video_0005_11730.png: 640x640 1 not-crossing, 5.0ms\n",
      "image 110/790 C:\\Users\\vravula\\Downloads\\final_pie_env\\detection\\dataset\\detection_set04_video_0005_11760.png: 640x640 (no detections), 5.5ms\n",
      "image 111/790 C:\\Users\\vravula\\Downloads\\final_pie_env\\detection\\dataset\\detection_set04_video_0005_11790.png: 640x640 1 crossing, 5.0ms\n",
      "image 112/790 C:\\Users\\vravula\\Downloads\\final_pie_env\\detection\\dataset\\detection_set04_video_0005_11820.png: 640x640 1 crossing, 5.1ms\n",
      "image 113/790 C:\\Users\\vravula\\Downloads\\final_pie_env\\detection\\dataset\\detection_set04_video_0005_11850.png: 640x640 1 crossing, 5.0ms\n",
      "image 114/790 C:\\Users\\vravula\\Downloads\\final_pie_env\\detection\\dataset\\detection_set04_video_0005_13350.png: 640x640 (no detections), 6.0ms\n",
      "image 115/790 C:\\Users\\vravula\\Downloads\\final_pie_env\\detection\\dataset\\detection_set04_video_0005_13380.png: 640x640 (no detections), 5.5ms\n",
      "image 116/790 C:\\Users\\vravula\\Downloads\\final_pie_env\\detection\\dataset\\detection_set04_video_0005_13410.png: 640x640 (no detections), 6.0ms\n",
      "image 117/790 C:\\Users\\vravula\\Downloads\\final_pie_env\\detection\\dataset\\detection_set04_video_0005_13440.png: 640x640 (no detections), 5.0ms\n",
      "image 118/790 C:\\Users\\vravula\\Downloads\\final_pie_env\\detection\\dataset\\detection_set04_video_0005_13470.png: 640x640 (no detections), 5.1ms\n",
      "image 119/790 C:\\Users\\vravula\\Downloads\\final_pie_env\\detection\\dataset\\detection_set04_video_0005_13500.png: 640x640 1 not-crossing, 5.0ms\n",
      "image 120/790 C:\\Users\\vravula\\Downloads\\final_pie_env\\detection\\dataset\\detection_set04_video_0005_13530.png: 640x640 (no detections), 5.1ms\n",
      "image 121/790 C:\\Users\\vravula\\Downloads\\final_pie_env\\detection\\dataset\\detection_set04_video_0005_13560.png: 640x640 1 crossing-irrelevant, 5.0ms\n",
      "image 122/790 C:\\Users\\vravula\\Downloads\\final_pie_env\\detection\\dataset\\detection_set04_video_0005_13590.png: 640x640 1 crossing, 2 not-crossings, 5.0ms\n",
      "image 123/790 C:\\Users\\vravula\\Downloads\\final_pie_env\\detection\\dataset\\detection_set04_video_0005_13620.png: 640x640 2 not-crossings, 5.0ms\n",
      "image 124/790 C:\\Users\\vravula\\Downloads\\final_pie_env\\detection\\dataset\\detection_set04_video_0005_13650.png: 640x640 1 not-crossing, 6.0ms\n",
      "image 125/790 C:\\Users\\vravula\\Downloads\\final_pie_env\\detection\\dataset\\detection_set04_video_0005_13680.png: 640x640 1 not-crossing, 4.6ms\n",
      "image 126/790 C:\\Users\\vravula\\Downloads\\final_pie_env\\detection\\dataset\\detection_set04_video_0005_13710.png: 640x640 1 not-crossing, 6.0ms\n",
      "image 127/790 C:\\Users\\vravula\\Downloads\\final_pie_env\\detection\\dataset\\detection_set04_video_0005_13740.png: 640x640 (no detections), 6.0ms\n",
      "image 128/790 C:\\Users\\vravula\\Downloads\\final_pie_env\\detection\\dataset\\detection_set04_video_0005_13770.png: 640x640 (no detections), 5.0ms\n",
      "image 129/790 C:\\Users\\vravula\\Downloads\\final_pie_env\\detection\\dataset\\detection_set04_video_0005_13800.png: 640x640 (no detections), 4.5ms\n",
      "image 130/790 C:\\Users\\vravula\\Downloads\\final_pie_env\\detection\\dataset\\detection_set04_video_0005_14880.png: 640x640 (no detections), 5.0ms\n",
      "image 131/790 C:\\Users\\vravula\\Downloads\\final_pie_env\\detection\\dataset\\detection_set04_video_0005_14910.png: 640x640 3 not-crossings, 4.2ms\n",
      "image 132/790 C:\\Users\\vravula\\Downloads\\final_pie_env\\detection\\dataset\\detection_set04_video_0005_14940.png: 640x640 (no detections), 6.1ms\n",
      "image 133/790 C:\\Users\\vravula\\Downloads\\final_pie_env\\detection\\dataset\\detection_set04_video_0005_14970.png: 640x640 (no detections), 5.0ms\n",
      "image 134/790 C:\\Users\\vravula\\Downloads\\final_pie_env\\detection\\dataset\\detection_set04_video_0005_15000.png: 640x640 2 crossings, 5.0ms\n",
      "image 135/790 C:\\Users\\vravula\\Downloads\\final_pie_env\\detection\\dataset\\detection_set04_video_0005_15030.png: 640x640 3 crossings, 5.0ms\n",
      "image 136/790 C:\\Users\\vravula\\Downloads\\final_pie_env\\detection\\dataset\\detection_set04_video_0005_15060.png: 640x640 3 crossings, 5.0ms\n",
      "image 137/790 C:\\Users\\vravula\\Downloads\\final_pie_env\\detection\\dataset\\detection_set04_video_0005_15090.png: 640x640 3 crossings, 5.0ms\n",
      "image 138/790 C:\\Users\\vravula\\Downloads\\final_pie_env\\detection\\dataset\\detection_set04_video_0005_15120.png: 640x640 2 crossings, 5.5ms\n",
      "image 139/790 C:\\Users\\vravula\\Downloads\\final_pie_env\\detection\\dataset\\detection_set04_video_0005_15150.png: 640x640 1 crossing, 6.1ms\n",
      "image 140/790 C:\\Users\\vravula\\Downloads\\final_pie_env\\detection\\dataset\\detection_set04_video_0005_15180.png: 640x640 1 crossing, 6.0ms\n",
      "image 141/790 C:\\Users\\vravula\\Downloads\\final_pie_env\\detection\\dataset\\detection_set04_video_0005_15210.png: 640x640 1 not-crossing, 5.1ms\n",
      "image 142/790 C:\\Users\\vravula\\Downloads\\final_pie_env\\detection\\dataset\\detection_set04_video_0005_15240.png: 640x640 (no detections), 5.0ms\n",
      "image 143/790 C:\\Users\\vravula\\Downloads\\final_pie_env\\detection\\dataset\\detection_set04_video_0005_15270.png: 640x640 1 not-crossing, 5.0ms\n",
      "image 144/790 C:\\Users\\vravula\\Downloads\\final_pie_env\\detection\\dataset\\detection_set04_video_0005_15300.png: 640x640 (no detections), 5.0ms\n",
      "image 145/790 C:\\Users\\vravula\\Downloads\\final_pie_env\\detection\\dataset\\detection_set04_video_0005_15330.png: 640x640 (no detections), 5.0ms\n",
      "image 146/790 C:\\Users\\vravula\\Downloads\\final_pie_env\\detection\\dataset\\detection_set04_video_0007_00060.png: 640x640 (no detections), 5.0ms\n",
      "image 147/790 C:\\Users\\vravula\\Downloads\\final_pie_env\\detection\\dataset\\detection_set04_video_0007_00090.png: 640x640 (no detections), 5.0ms\n",
      "image 148/790 C:\\Users\\vravula\\Downloads\\final_pie_env\\detection\\dataset\\detection_set04_video_0007_00120.png: 640x640 (no detections), 4.0ms\n",
      "image 149/790 C:\\Users\\vravula\\Downloads\\final_pie_env\\detection\\dataset\\detection_set04_video_0007_00150.png: 640x640 1 not-crossing, 4.0ms\n",
      "image 150/790 C:\\Users\\vravula\\Downloads\\final_pie_env\\detection\\dataset\\detection_set04_video_0007_00180.png: 640x640 (no detections), 5.0ms\n",
      "image 151/790 C:\\Users\\vravula\\Downloads\\final_pie_env\\detection\\dataset\\detection_set04_video_0007_00210.png: 640x640 (no detections), 4.5ms\n",
      "image 152/790 C:\\Users\\vravula\\Downloads\\final_pie_env\\detection\\dataset\\detection_set04_video_0007_00240.png: 640x640 2 not-crossings, 5.0ms\n",
      "image 153/790 C:\\Users\\vravula\\Downloads\\final_pie_env\\detection\\dataset\\detection_set04_video_0007_00270.png: 640x640 1 not-crossing, 5.0ms\n",
      "image 154/790 C:\\Users\\vravula\\Downloads\\final_pie_env\\detection\\dataset\\detection_set04_video_0007_00300.png: 640x640 2 not-crossings, 5.0ms\n",
      "image 155/790 C:\\Users\\vravula\\Downloads\\final_pie_env\\detection\\dataset\\detection_set04_video_0007_00330.png: 640x640 1 crossing, 5.0ms\n",
      "image 156/790 C:\\Users\\vravula\\Downloads\\final_pie_env\\detection\\dataset\\detection_set04_video_0007_00360.png: 640x640 1 crossing, 1 not-crossing, 5.0ms\n",
      "image 157/790 C:\\Users\\vravula\\Downloads\\final_pie_env\\detection\\dataset\\detection_set04_video_0007_00390.png: 640x640 2 not-crossings, 5.4ms\n",
      "image 158/790 C:\\Users\\vravula\\Downloads\\final_pie_env\\detection\\dataset\\detection_set04_video_0007_00420.png: 640x640 1 not-crossing, 5.0ms\n",
      "image 159/790 C:\\Users\\vravula\\Downloads\\final_pie_env\\detection\\dataset\\detection_set04_video_0007_00780.png: 640x640 1 not-crossing, 5.0ms\n",
      "image 160/790 C:\\Users\\vravula\\Downloads\\final_pie_env\\detection\\dataset\\detection_set04_video_0007_00810.png: 640x640 1 not-crossing, 5.0ms\n",
      "image 161/790 C:\\Users\\vravula\\Downloads\\final_pie_env\\detection\\dataset\\detection_set04_video_0007_00840.png: 640x640 2 not-crossings, 5.0ms\n",
      "image 162/790 C:\\Users\\vravula\\Downloads\\final_pie_env\\detection\\dataset\\detection_set04_video_0007_00870.png: 640x640 1 not-crossing, 5.1ms\n",
      "image 163/790 C:\\Users\\vravula\\Downloads\\final_pie_env\\detection\\dataset\\detection_set04_video_0007_00900.png: 640x640 (no detections), 5.0ms\n",
      "image 164/790 C:\\Users\\vravula\\Downloads\\final_pie_env\\detection\\dataset\\detection_set04_video_0007_00930.png: 640x640 1 not-crossing, 5.0ms\n",
      "image 165/790 C:\\Users\\vravula\\Downloads\\final_pie_env\\detection\\dataset\\detection_set04_video_0007_00960.png: 640x640 1 not-crossing, 5.0ms\n",
      "image 166/790 C:\\Users\\vravula\\Downloads\\final_pie_env\\detection\\dataset\\detection_set04_video_0007_00990.png: 640x640 1 not-crossing, 5.0ms\n",
      "image 167/790 C:\\Users\\vravula\\Downloads\\final_pie_env\\detection\\dataset\\detection_set04_video_0007_01020.png: 640x640 1 not-crossing, 5.1ms\n",
      "image 168/790 C:\\Users\\vravula\\Downloads\\final_pie_env\\detection\\dataset\\detection_set04_video_0007_01050.png: 640x640 2 not-crossings, 5.0ms\n",
      "image 169/790 C:\\Users\\vravula\\Downloads\\final_pie_env\\detection\\dataset\\detection_set04_video_0007_01080.png: 640x640 1 not-crossing, 5.0ms\n",
      "image 170/790 C:\\Users\\vravula\\Downloads\\final_pie_env\\detection\\dataset\\detection_set04_video_0007_01110.png: 640x640 1 crossing, 1 not-crossing, 5.0ms\n",
      "image 171/790 C:\\Users\\vravula\\Downloads\\final_pie_env\\detection\\dataset\\detection_set04_video_0007_01140.png: 640x640 1 crossing, 1 not-crossing, 5.0ms\n",
      "image 172/790 C:\\Users\\vravula\\Downloads\\final_pie_env\\detection\\dataset\\detection_set04_video_0007_01170.png: 640x640 1 crossing, 1 not-crossing, 5.5ms\n",
      "image 173/790 C:\\Users\\vravula\\Downloads\\final_pie_env\\detection\\dataset\\detection_set04_video_0007_01200.png: 640x640 1 crossing, 5.0ms\n",
      "image 174/790 C:\\Users\\vravula\\Downloads\\final_pie_env\\detection\\dataset\\detection_set04_video_0007_01230.png: 640x640 1 crossing, 5.1ms\n",
      "image 175/790 C:\\Users\\vravula\\Downloads\\final_pie_env\\detection\\dataset\\detection_set04_video_0007_01260.png: 640x640 (no detections), 5.0ms\n",
      "image 176/790 C:\\Users\\vravula\\Downloads\\final_pie_env\\detection\\dataset\\detection_set04_video_0007_01290.png: 640x640 1 not-crossing, 6.0ms\n",
      "image 177/790 C:\\Users\\vravula\\Downloads\\final_pie_env\\detection\\dataset\\detection_set04_video_0007_01320.png: 640x640 (no detections), 5.1ms\n",
      "image 178/790 C:\\Users\\vravula\\Downloads\\final_pie_env\\detection\\dataset\\detection_set04_video_0007_01350.png: 640x640 (no detections), 5.0ms\n",
      "image 179/790 C:\\Users\\vravula\\Downloads\\final_pie_env\\detection\\dataset\\detection_set04_video_0007_01380.png: 640x640 (no detections), 5.0ms\n",
      "image 180/790 C:\\Users\\vravula\\Downloads\\final_pie_env\\detection\\dataset\\detection_set04_video_0007_01410.png: 640x640 (no detections), 6.0ms\n",
      "image 181/790 C:\\Users\\vravula\\Downloads\\final_pie_env\\detection\\dataset\\detection_set04_video_0007_01440.png: 640x640 (no detections), 5.0ms\n",
      "image 182/790 C:\\Users\\vravula\\Downloads\\final_pie_env\\detection\\dataset\\detection_set04_video_0007_01470.png: 640x640 (no detections), 5.0ms\n",
      "image 183/790 C:\\Users\\vravula\\Downloads\\final_pie_env\\detection\\dataset\\detection_set04_video_0007_01500.png: 640x640 1 not-crossing, 6.0ms\n",
      "image 184/790 C:\\Users\\vravula\\Downloads\\final_pie_env\\detection\\dataset\\detection_set04_video_0007_01530.png: 640x640 2 not-crossings, 6.0ms\n",
      "image 185/790 C:\\Users\\vravula\\Downloads\\final_pie_env\\detection\\dataset\\detection_set04_video_0007_01560.png: 640x640 2 not-crossings, 6.0ms\n",
      "image 186/790 C:\\Users\\vravula\\Downloads\\final_pie_env\\detection\\dataset\\detection_set04_video_0007_01590.png: 640x640 1 not-crossing, 6.0ms\n",
      "image 187/790 C:\\Users\\vravula\\Downloads\\final_pie_env\\detection\\dataset\\detection_set04_video_0007_01620.png: 640x640 (no detections), 6.0ms\n",
      "image 188/790 C:\\Users\\vravula\\Downloads\\final_pie_env\\detection\\dataset\\detection_set04_video_0007_01650.png: 640x640 1 not-crossing, 6.0ms\n",
      "image 189/790 C:\\Users\\vravula\\Downloads\\final_pie_env\\detection\\dataset\\detection_set04_video_0007_01680.png: 640x640 (no detections), 5.1ms\n",
      "image 190/790 C:\\Users\\vravula\\Downloads\\final_pie_env\\detection\\dataset\\detection_set04_video_0007_01710.png: 640x640 (no detections), 5.0ms\n",
      "image 191/790 C:\\Users\\vravula\\Downloads\\final_pie_env\\detection\\dataset\\detection_set04_video_0007_01740.png: 640x640 1 not-crossing, 5.0ms\n",
      "image 192/790 C:\\Users\\vravula\\Downloads\\final_pie_env\\detection\\dataset\\detection_set04_video_0007_01770.png: 640x640 1 crossing, 2 not-crossings, 5.5ms\n",
      "image 193/790 C:\\Users\\vravula\\Downloads\\final_pie_env\\detection\\dataset\\detection_set04_video_0007_01800.png: 640x640 2 crossings, 1 not-crossing, 5.0ms\n",
      "image 194/790 C:\\Users\\vravula\\Downloads\\final_pie_env\\detection\\dataset\\detection_set04_video_0007_01830.png: 640x640 2 not-crossings, 5.1ms\n",
      "image 195/790 C:\\Users\\vravula\\Downloads\\final_pie_env\\detection\\dataset\\detection_set04_video_0007_01860.png: 640x640 1 not-crossing, 5.0ms\n",
      "image 196/790 C:\\Users\\vravula\\Downloads\\final_pie_env\\detection\\dataset\\detection_set04_video_0007_01890.png: 640x640 1 not-crossing, 5.5ms\n",
      "image 197/790 C:\\Users\\vravula\\Downloads\\final_pie_env\\detection\\dataset\\detection_set04_video_0007_01920.png: 640x640 1 not-crossing, 5.0ms\n",
      "image 198/790 C:\\Users\\vravula\\Downloads\\final_pie_env\\detection\\dataset\\detection_set04_video_0007_01950.png: 640x640 1 not-crossing, 5.0ms\n",
      "image 199/790 C:\\Users\\vravula\\Downloads\\final_pie_env\\detection\\dataset\\detection_set04_video_0007_02100.png: 640x640 (no detections), 5.2ms\n",
      "image 200/790 C:\\Users\\vravula\\Downloads\\final_pie_env\\detection\\dataset\\detection_set04_video_0007_02130.png: 640x640 (no detections), 5.0ms\n",
      "image 201/790 C:\\Users\\vravula\\Downloads\\final_pie_env\\detection\\dataset\\detection_set04_video_0007_02160.png: 640x640 (no detections), 6.5ms\n",
      "image 202/790 C:\\Users\\vravula\\Downloads\\final_pie_env\\detection\\dataset\\detection_set04_video_0007_02190.png: 640x640 (no detections), 5.2ms\n",
      "image 203/790 C:\\Users\\vravula\\Downloads\\final_pie_env\\detection\\dataset\\detection_set04_video_0007_02220.png: 640x640 (no detections), 6.0ms\n",
      "image 204/790 C:\\Users\\vravula\\Downloads\\final_pie_env\\detection\\dataset\\detection_set04_video_0007_02250.png: 640x640 (no detections), 5.0ms\n",
      "image 205/790 C:\\Users\\vravula\\Downloads\\final_pie_env\\detection\\dataset\\detection_set04_video_0007_02280.png: 640x640 1 not-crossing, 5.1ms\n",
      "image 206/790 C:\\Users\\vravula\\Downloads\\final_pie_env\\detection\\dataset\\detection_set04_video_0007_02310.png: 640x640 1 not-crossing, 6.0ms\n",
      "image 207/790 C:\\Users\\vravula\\Downloads\\final_pie_env\\detection\\dataset\\detection_set04_video_0007_02340.png: 640x640 4 not-crossings, 6.2ms\n",
      "image 208/790 C:\\Users\\vravula\\Downloads\\final_pie_env\\detection\\dataset\\detection_set04_video_0007_02370.png: 640x640 1 crossing, 3 not-crossings, 5.0ms\n",
      "image 209/790 C:\\Users\\vravula\\Downloads\\final_pie_env\\detection\\dataset\\detection_set04_video_0007_02400.png: 640x640 1 crossing, 2 not-crossings, 5.0ms\n",
      "image 210/790 C:\\Users\\vravula\\Downloads\\final_pie_env\\detection\\dataset\\detection_set04_video_0007_02430.png: 640x640 1 crossing, 2 not-crossings, 5.0ms\n",
      "image 211/790 C:\\Users\\vravula\\Downloads\\final_pie_env\\detection\\dataset\\detection_set04_video_0007_02460.png: 640x640 2 not-crossings, 5.0ms\n",
      "image 212/790 C:\\Users\\vravula\\Downloads\\final_pie_env\\detection\\dataset\\detection_set04_video_0007_02490.png: 640x640 (no detections), 5.1ms\n",
      "image 213/790 C:\\Users\\vravula\\Downloads\\final_pie_env\\detection\\dataset\\detection_set04_video_0007_02520.png: 640x640 1 not-crossing, 6.0ms\n",
      "image 214/790 C:\\Users\\vravula\\Downloads\\final_pie_env\\detection\\dataset\\detection_set04_video_0007_02550.png: 640x640 2 not-crossings, 6.0ms\n",
      "image 215/790 C:\\Users\\vravula\\Downloads\\final_pie_env\\detection\\dataset\\detection_set04_video_0007_02580.png: 640x640 1 crossing, 1 not-crossing, 4.5ms\n",
      "image 216/790 C:\\Users\\vravula\\Downloads\\final_pie_env\\detection\\dataset\\detection_set04_video_0007_02610.png: 640x640 1 crossing, 1 not-crossing, 6.0ms\n",
      "image 217/790 C:\\Users\\vravula\\Downloads\\final_pie_env\\detection\\dataset\\detection_set04_video_0007_02640.png: 640x640 1 crossing, 1 not-crossing, 5.0ms\n",
      "image 218/790 C:\\Users\\vravula\\Downloads\\final_pie_env\\detection\\dataset\\detection_set04_video_0007_02670.png: 640x640 1 crossing, 1 not-crossing, 6.0ms\n",
      "image 219/790 C:\\Users\\vravula\\Downloads\\final_pie_env\\detection\\dataset\\detection_set04_video_0007_03150.png: 640x640 1 not-crossing, 5.0ms\n",
      "image 220/790 C:\\Users\\vravula\\Downloads\\final_pie_env\\detection\\dataset\\detection_set04_video_0007_03390.png: 640x640 1 not-crossing, 5.0ms\n",
      "image 221/790 C:\\Users\\vravula\\Downloads\\final_pie_env\\detection\\dataset\\detection_set04_video_0007_03420.png: 640x640 1 not-crossing, 5.0ms\n",
      "image 222/790 C:\\Users\\vravula\\Downloads\\final_pie_env\\detection\\dataset\\detection_set04_video_0007_03450.png: 640x640 1 crossing, 1 not-crossing, 5.0ms\n",
      "image 223/790 C:\\Users\\vravula\\Downloads\\final_pie_env\\detection\\dataset\\detection_set04_video_0007_03480.png: 640x640 (no detections), 6.1ms\n",
      "image 224/790 C:\\Users\\vravula\\Downloads\\final_pie_env\\detection\\dataset\\detection_set04_video_0007_03510.png: 640x640 (no detections), 6.0ms\n",
      "image 225/790 C:\\Users\\vravula\\Downloads\\final_pie_env\\detection\\dataset\\detection_set04_video_0007_03540.png: 640x640 (no detections), 5.5ms\n",
      "image 226/790 C:\\Users\\vravula\\Downloads\\final_pie_env\\detection\\dataset\\detection_set04_video_0007_03570.png: 640x640 (no detections), 5.7ms\n",
      "image 227/790 C:\\Users\\vravula\\Downloads\\final_pie_env\\detection\\dataset\\detection_set04_video_0007_03600.png: 640x640 1 not-crossing, 5.0ms\n",
      "image 228/790 C:\\Users\\vravula\\Downloads\\final_pie_env\\detection\\dataset\\detection_set04_video_0007_03630.png: 640x640 (no detections), 5.0ms\n",
      "image 229/790 C:\\Users\\vravula\\Downloads\\final_pie_env\\detection\\dataset\\detection_set04_video_0007_03660.png: 640x640 1 not-crossing, 5.3ms\n",
      "image 230/790 C:\\Users\\vravula\\Downloads\\final_pie_env\\detection\\dataset\\detection_set04_video_0007_03690.png: 640x640 2 not-crossings, 5.0ms\n",
      "image 231/790 C:\\Users\\vravula\\Downloads\\final_pie_env\\detection\\dataset\\detection_set04_video_0007_03720.png: 640x640 1 crossing, 1 not-crossing, 5.5ms\n",
      "image 232/790 C:\\Users\\vravula\\Downloads\\final_pie_env\\detection\\dataset\\detection_set04_video_0007_03750.png: 640x640 (no detections), 5.0ms\n",
      "image 233/790 C:\\Users\\vravula\\Downloads\\final_pie_env\\detection\\dataset\\detection_set04_video_0007_03780.png: 640x640 (no detections), 5.1ms\n",
      "image 234/790 C:\\Users\\vravula\\Downloads\\final_pie_env\\detection\\dataset\\detection_set04_video_0007_03810.png: 640x640 1 crossing, 6.0ms\n",
      "image 235/790 C:\\Users\\vravula\\Downloads\\final_pie_env\\detection\\dataset\\detection_set04_video_0007_03840.png: 640x640 1 crossing, 6.0ms\n",
      "image 236/790 C:\\Users\\vravula\\Downloads\\final_pie_env\\detection\\dataset\\detection_set04_video_0007_03870.png: 640x640 1 crossing, 1 crossing-irrelevant, 5.0ms\n",
      "image 237/790 C:\\Users\\vravula\\Downloads\\final_pie_env\\detection\\dataset\\detection_set04_video_0007_03900.png: 640x640 1 crossing, 1 not-crossing, 6.0ms\n",
      "image 238/790 C:\\Users\\vravula\\Downloads\\final_pie_env\\detection\\dataset\\detection_set04_video_0007_03930.png: 640x640 1 crossing, 5.0ms\n",
      "image 239/790 C:\\Users\\vravula\\Downloads\\final_pie_env\\detection\\dataset\\detection_set04_video_0007_03960.png: 640x640 1 not-crossing, 6.0ms\n",
      "image 240/790 C:\\Users\\vravula\\Downloads\\final_pie_env\\detection\\dataset\\detection_set04_video_0007_03990.png: 640x640 (no detections), 6.0ms\n",
      "image 241/790 C:\\Users\\vravula\\Downloads\\final_pie_env\\detection\\dataset\\detection_set04_video_0007_04020.png: 640x640 (no detections), 5.1ms\n",
      "image 242/790 C:\\Users\\vravula\\Downloads\\final_pie_env\\detection\\dataset\\detection_set04_video_0007_04050.png: 640x640 (no detections), 5.0ms\n",
      "image 243/790 C:\\Users\\vravula\\Downloads\\final_pie_env\\detection\\dataset\\detection_set04_video_0007_04080.png: 640x640 (no detections), 6.4ms\n",
      "image 244/790 C:\\Users\\vravula\\Downloads\\final_pie_env\\detection\\dataset\\detection_set04_video_0007_04110.png: 640x640 (no detections), 5.0ms\n",
      "image 245/790 C:\\Users\\vravula\\Downloads\\final_pie_env\\detection\\dataset\\detection_set04_video_0007_04140.png: 640x640 (no detections), 4.1ms\n",
      "image 246/790 C:\\Users\\vravula\\Downloads\\final_pie_env\\detection\\dataset\\detection_set04_video_0007_04170.png: 640x640 (no detections), 5.0ms\n",
      "image 247/790 C:\\Users\\vravula\\Downloads\\final_pie_env\\detection\\dataset\\detection_set04_video_0007_04200.png: 640x640 (no detections), 5.0ms\n",
      "image 248/790 C:\\Users\\vravula\\Downloads\\final_pie_env\\detection\\dataset\\detection_set04_video_0007_04230.png: 640x640 (no detections), 5.1ms\n",
      "image 249/790 C:\\Users\\vravula\\Downloads\\final_pie_env\\detection\\dataset\\detection_set04_video_0007_04260.png: 640x640 1 not-crossing, 6.0ms\n",
      "image 250/790 C:\\Users\\vravula\\Downloads\\final_pie_env\\detection\\dataset\\detection_set04_video_0007_04290.png: 640x640 (no detections), 5.0ms\n",
      "image 251/790 C:\\Users\\vravula\\Downloads\\final_pie_env\\detection\\dataset\\detection_set04_video_0007_04320.png: 640x640 (no detections), 6.0ms\n",
      "image 252/790 C:\\Users\\vravula\\Downloads\\final_pie_env\\detection\\dataset\\detection_set04_video_0007_04350.png: 640x640 (no detections), 5.0ms\n",
      "image 253/790 C:\\Users\\vravula\\Downloads\\final_pie_env\\detection\\dataset\\detection_set04_video_0007_04380.png: 640x640 2 not-crossings, 4.5ms\n",
      "image 254/790 C:\\Users\\vravula\\Downloads\\final_pie_env\\detection\\dataset\\detection_set04_video_0007_04410.png: 640x640 4 not-crossings, 6.0ms\n",
      "image 255/790 C:\\Users\\vravula\\Downloads\\final_pie_env\\detection\\dataset\\detection_set04_video_0007_04440.png: 640x640 2 not-crossings, 5.0ms\n",
      "image 256/790 C:\\Users\\vravula\\Downloads\\final_pie_env\\detection\\dataset\\detection_set04_video_0007_04470.png: 640x640 2 not-crossings, 5.1ms\n",
      "image 257/790 C:\\Users\\vravula\\Downloads\\final_pie_env\\detection\\dataset\\detection_set04_video_0007_04500.png: 640x640 3 not-crossings, 5.0ms\n",
      "image 258/790 C:\\Users\\vravula\\Downloads\\final_pie_env\\detection\\dataset\\detection_set04_video_0007_04530.png: 640x640 4 not-crossings, 5.1ms\n",
      "image 259/790 C:\\Users\\vravula\\Downloads\\final_pie_env\\detection\\dataset\\detection_set04_video_0007_04560.png: 640x640 3 not-crossings, 5.2ms\n",
      "image 260/790 C:\\Users\\vravula\\Downloads\\final_pie_env\\detection\\dataset\\detection_set04_video_0007_04590.png: 640x640 3 not-crossings, 5.5ms\n",
      "image 261/790 C:\\Users\\vravula\\Downloads\\final_pie_env\\detection\\dataset\\detection_set04_video_0007_04620.png: 640x640 1 crossing, 5 not-crossings, 5.0ms\n",
      "image 262/790 C:\\Users\\vravula\\Downloads\\final_pie_env\\detection\\dataset\\detection_set04_video_0007_04650.png: 640x640 4 crossings, 6.0ms\n",
      "image 263/790 C:\\Users\\vravula\\Downloads\\final_pie_env\\detection\\dataset\\detection_set04_video_0007_04680.png: 640x640 4 crossings, 5.0ms\n",
      "image 264/790 C:\\Users\\vravula\\Downloads\\final_pie_env\\detection\\dataset\\detection_set04_video_0007_04710.png: 640x640 3 crossings, 5.0ms\n",
      "image 265/790 C:\\Users\\vravula\\Downloads\\final_pie_env\\detection\\dataset\\detection_set04_video_0007_04740.png: 640x640 6 crossings, 5.1ms\n",
      "image 266/790 C:\\Users\\vravula\\Downloads\\final_pie_env\\detection\\dataset\\detection_set04_video_0007_04770.png: 640x640 4 crossings, 5.5ms\n",
      "image 267/790 C:\\Users\\vravula\\Downloads\\final_pie_env\\detection\\dataset\\detection_set04_video_0007_04800.png: 640x640 3 crossings, 5.1ms\n",
      "image 268/790 C:\\Users\\vravula\\Downloads\\final_pie_env\\detection\\dataset\\detection_set04_video_0007_04830.png: 640x640 2 crossings, 5.0ms\n",
      "image 269/790 C:\\Users\\vravula\\Downloads\\final_pie_env\\detection\\dataset\\detection_set04_video_0007_04860.png: 640x640 3 crossings, 1 not-crossing, 5.1ms\n",
      "image 270/790 C:\\Users\\vravula\\Downloads\\final_pie_env\\detection\\dataset\\detection_set04_video_0007_04890.png: 640x640 2 crossings, 1 not-crossing, 5.0ms\n",
      "image 271/790 C:\\Users\\vravula\\Downloads\\final_pie_env\\detection\\dataset\\detection_set04_video_0007_04920.png: 640x640 2 crossings, 6 not-crossings, 6.0ms\n",
      "image 272/790 C:\\Users\\vravula\\Downloads\\final_pie_env\\detection\\dataset\\detection_set04_video_0007_04950.png: 640x640 2 crossings, 3 not-crossings, 5.5ms\n",
      "image 273/790 C:\\Users\\vravula\\Downloads\\final_pie_env\\detection\\dataset\\detection_set04_video_0007_04980.png: 640x640 3 crossings, 4 not-crossings, 5.0ms\n",
      "image 274/790 C:\\Users\\vravula\\Downloads\\final_pie_env\\detection\\dataset\\detection_set04_video_0007_05010.png: 640x640 3 crossings, 2 not-crossings, 5.0ms\n",
      "image 275/790 C:\\Users\\vravula\\Downloads\\final_pie_env\\detection\\dataset\\detection_set04_video_0007_05040.png: 640x640 3 crossings, 2 not-crossings, 5.0ms\n",
      "image 276/790 C:\\Users\\vravula\\Downloads\\final_pie_env\\detection\\dataset\\detection_set04_video_0007_05070.png: 640x640 2 crossings, 3 not-crossings, 5.5ms\n",
      "image 277/790 C:\\Users\\vravula\\Downloads\\final_pie_env\\detection\\dataset\\detection_set04_video_0007_05100.png: 640x640 2 crossings, 1 not-crossing, 5.0ms\n",
      "image 278/790 C:\\Users\\vravula\\Downloads\\final_pie_env\\detection\\dataset\\detection_set04_video_0007_05130.png: 640x640 2 crossings, 2 not-crossings, 5.0ms\n",
      "image 279/790 C:\\Users\\vravula\\Downloads\\final_pie_env\\detection\\dataset\\detection_set04_video_0007_05160.png: 640x640 1 crossing, 4 not-crossings, 5.0ms\n",
      "image 280/790 C:\\Users\\vravula\\Downloads\\final_pie_env\\detection\\dataset\\detection_set04_video_0007_05190.png: 640x640 3 not-crossings, 6.1ms\n",
      "image 281/790 C:\\Users\\vravula\\Downloads\\final_pie_env\\detection\\dataset\\detection_set04_video_0007_05220.png: 640x640 2 not-crossings, 5.0ms\n",
      "image 282/790 C:\\Users\\vravula\\Downloads\\final_pie_env\\detection\\dataset\\detection_set04_video_0007_05250.png: 640x640 3 not-crossings, 5.0ms\n",
      "image 283/790 C:\\Users\\vravula\\Downloads\\final_pie_env\\detection\\dataset\\detection_set04_video_0007_05280.png: 640x640 3 not-crossings, 5.2ms\n",
      "image 284/790 C:\\Users\\vravula\\Downloads\\final_pie_env\\detection\\dataset\\detection_set04_video_0007_05310.png: 640x640 2 not-crossings, 5.0ms\n",
      "image 285/790 C:\\Users\\vravula\\Downloads\\final_pie_env\\detection\\dataset\\detection_set04_video_0007_05340.png: 640x640 1 not-crossing, 5.0ms\n",
      "image 286/790 C:\\Users\\vravula\\Downloads\\final_pie_env\\detection\\dataset\\detection_set04_video_0007_05370.png: 640x640 1 not-crossing, 5.0ms\n",
      "image 287/790 C:\\Users\\vravula\\Downloads\\final_pie_env\\detection\\dataset\\detection_set04_video_0007_05400.png: 640x640 2 not-crossings, 5.0ms\n",
      "image 288/790 C:\\Users\\vravula\\Downloads\\final_pie_env\\detection\\dataset\\detection_set04_video_0007_05430.png: 640x640 2 not-crossings, 6.0ms\n",
      "image 289/790 C:\\Users\\vravula\\Downloads\\final_pie_env\\detection\\dataset\\detection_set04_video_0007_05460.png: 640x640 1 not-crossing, 6.0ms\n",
      "image 290/790 C:\\Users\\vravula\\Downloads\\final_pie_env\\detection\\dataset\\detection_set04_video_0007_05490.png: 640x640 4 not-crossings, 6.2ms\n",
      "image 291/790 C:\\Users\\vravula\\Downloads\\final_pie_env\\detection\\dataset\\detection_set04_video_0007_05520.png: 640x640 2 not-crossings, 5.0ms\n",
      "image 292/790 C:\\Users\\vravula\\Downloads\\final_pie_env\\detection\\dataset\\detection_set04_video_0007_05550.png: 640x640 1 crossing, 8 not-crossings, 5.0ms\n",
      "image 293/790 C:\\Users\\vravula\\Downloads\\final_pie_env\\detection\\dataset\\detection_set04_video_0007_05580.png: 640x640 5 not-crossings, 5.6ms\n",
      "image 294/790 C:\\Users\\vravula\\Downloads\\final_pie_env\\detection\\dataset\\detection_set04_video_0007_05610.png: 640x640 1 crossing, 6 not-crossings, 5.0ms\n",
      "image 295/790 C:\\Users\\vravula\\Downloads\\final_pie_env\\detection\\dataset\\detection_set04_video_0007_05640.png: 640x640 3 crossings, 6 not-crossings, 5.6ms\n",
      "image 296/790 C:\\Users\\vravula\\Downloads\\final_pie_env\\detection\\dataset\\detection_set04_video_0007_05670.png: 640x640 3 not-crossings, 5.0ms\n",
      "image 297/790 C:\\Users\\vravula\\Downloads\\final_pie_env\\detection\\dataset\\detection_set04_video_0007_05700.png: 640x640 (no detections), 5.6ms\n",
      "image 298/790 C:\\Users\\vravula\\Downloads\\final_pie_env\\detection\\dataset\\detection_set04_video_0007_05730.png: 640x640 6 not-crossings, 5.0ms\n",
      "image 299/790 C:\\Users\\vravula\\Downloads\\final_pie_env\\detection\\dataset\\detection_set04_video_0007_05760.png: 640x640 9 not-crossings, 5.0ms\n",
      "image 300/790 C:\\Users\\vravula\\Downloads\\final_pie_env\\detection\\dataset\\detection_set04_video_0007_05790.png: 640x640 6 not-crossings, 5.0ms\n",
      "image 301/790 C:\\Users\\vravula\\Downloads\\final_pie_env\\detection\\dataset\\detection_set04_video_0007_05820.png: 640x640 7 not-crossings, 5.0ms\n",
      "image 302/790 C:\\Users\\vravula\\Downloads\\final_pie_env\\detection\\dataset\\detection_set04_video_0007_05850.png: 640x640 7 not-crossings, 6.0ms\n",
      "image 303/790 C:\\Users\\vravula\\Downloads\\final_pie_env\\detection\\dataset\\detection_set04_video_0007_05880.png: 640x640 7 not-crossings, 4.5ms\n",
      "image 304/790 C:\\Users\\vravula\\Downloads\\final_pie_env\\detection\\dataset\\detection_set04_video_0007_05910.png: 640x640 1 crossing, 4 not-crossings, 7.0ms\n",
      "image 305/790 C:\\Users\\vravula\\Downloads\\final_pie_env\\detection\\dataset\\detection_set04_video_0007_05940.png: 640x640 1 crossing, 6 not-crossings, 5.0ms\n",
      "image 306/790 C:\\Users\\vravula\\Downloads\\final_pie_env\\detection\\dataset\\detection_set04_video_0007_05970.png: 640x640 1 crossing, 5 not-crossings, 6.0ms\n",
      "image 307/790 C:\\Users\\vravula\\Downloads\\final_pie_env\\detection\\dataset\\detection_set04_video_0007_06000.png: 640x640 2 crossings, 5 not-crossings, 6.2ms\n",
      "image 308/790 C:\\Users\\vravula\\Downloads\\final_pie_env\\detection\\dataset\\detection_set04_video_0007_06030.png: 640x640 1 crossing, 6 not-crossings, 5.0ms\n",
      "image 309/790 C:\\Users\\vravula\\Downloads\\final_pie_env\\detection\\dataset\\detection_set04_video_0007_06060.png: 640x640 7 not-crossings, 5.2ms\n",
      "image 310/790 C:\\Users\\vravula\\Downloads\\final_pie_env\\detection\\dataset\\detection_set04_video_0007_06090.png: 640x640 1 crossing, 7 not-crossings, 6.0ms\n",
      "image 311/790 C:\\Users\\vravula\\Downloads\\final_pie_env\\detection\\dataset\\detection_set04_video_0007_06120.png: 640x640 1 crossing, 7 not-crossings, 6.0ms\n",
      "image 312/790 C:\\Users\\vravula\\Downloads\\final_pie_env\\detection\\dataset\\detection_set04_video_0007_06150.png: 640x640 6 not-crossings, 5.5ms\n",
      "image 313/790 C:\\Users\\vravula\\Downloads\\final_pie_env\\detection\\dataset\\detection_set04_video_0007_06180.png: 640x640 7 not-crossings, 5.0ms\n",
      "image 314/790 C:\\Users\\vravula\\Downloads\\final_pie_env\\detection\\dataset\\detection_set04_video_0007_06210.png: 640x640 2 crossings, 6 not-crossings, 5.0ms\n",
      "image 315/790 C:\\Users\\vravula\\Downloads\\final_pie_env\\detection\\dataset\\detection_set04_video_0007_06240.png: 640x640 5 not-crossings, 5.0ms\n",
      "image 316/790 C:\\Users\\vravula\\Downloads\\final_pie_env\\detection\\dataset\\detection_set04_video_0007_06270.png: 640x640 2 not-crossings, 5.0ms\n",
      "image 317/790 C:\\Users\\vravula\\Downloads\\final_pie_env\\detection\\dataset\\detection_set04_video_0007_06300.png: 640x640 1 not-crossing, 5.0ms\n",
      "image 318/790 C:\\Users\\vravula\\Downloads\\final_pie_env\\detection\\dataset\\detection_set04_video_0007_06540.png: 640x640 (no detections), 5.0ms\n",
      "image 319/790 C:\\Users\\vravula\\Downloads\\final_pie_env\\detection\\dataset\\detection_set04_video_0007_06570.png: 640x640 (no detections), 5.1ms\n",
      "image 320/790 C:\\Users\\vravula\\Downloads\\final_pie_env\\detection\\dataset\\detection_set04_video_0007_06600.png: 640x640 (no detections), 5.0ms\n",
      "image 321/790 C:\\Users\\vravula\\Downloads\\final_pie_env\\detection\\dataset\\detection_set04_video_0007_06630.png: 640x640 1 not-crossing, 6.0ms\n",
      "image 322/790 C:\\Users\\vravula\\Downloads\\final_pie_env\\detection\\dataset\\detection_set04_video_0007_06660.png: 640x640 1 not-crossing, 5.2ms\n",
      "image 323/790 C:\\Users\\vravula\\Downloads\\final_pie_env\\detection\\dataset\\detection_set04_video_0007_06690.png: 640x640 (no detections), 5.0ms\n",
      "image 324/790 C:\\Users\\vravula\\Downloads\\final_pie_env\\detection\\dataset\\detection_set04_video_0007_06720.png: 640x640 1 crossing, 1 not-crossing, 5.5ms\n",
      "image 325/790 C:\\Users\\vravula\\Downloads\\final_pie_env\\detection\\dataset\\detection_set04_video_0007_06750.png: 640x640 1 crossing, 5.5ms\n",
      "image 326/790 C:\\Users\\vravula\\Downloads\\final_pie_env\\detection\\dataset\\detection_set04_video_0007_06780.png: 640x640 1 crossing, 1 not-crossing, 5.0ms\n",
      "image 327/790 C:\\Users\\vravula\\Downloads\\final_pie_env\\detection\\dataset\\detection_set04_video_0007_06810.png: 640x640 (no detections), 5.0ms\n",
      "image 328/790 C:\\Users\\vravula\\Downloads\\final_pie_env\\detection\\dataset\\detection_set04_video_0007_06840.png: 640x640 1 not-crossing, 5.0ms\n",
      "image 329/790 C:\\Users\\vravula\\Downloads\\final_pie_env\\detection\\dataset\\detection_set04_video_0007_06870.png: 640x640 (no detections), 6.1ms\n",
      "image 330/790 C:\\Users\\vravula\\Downloads\\final_pie_env\\detection\\dataset\\detection_set04_video_0007_07980.png: 640x640 (no detections), 6.5ms\n",
      "image 331/790 C:\\Users\\vravula\\Downloads\\final_pie_env\\detection\\dataset\\detection_set04_video_0007_08010.png: 640x640 (no detections), 5.0ms\n",
      "image 332/790 C:\\Users\\vravula\\Downloads\\final_pie_env\\detection\\dataset\\detection_set04_video_0007_08040.png: 640x640 1 not-crossing, 5.0ms\n",
      "image 333/790 C:\\Users\\vravula\\Downloads\\final_pie_env\\detection\\dataset\\detection_set04_video_0007_08070.png: 640x640 1 not-crossing, 5.5ms\n",
      "image 334/790 C:\\Users\\vravula\\Downloads\\final_pie_env\\detection\\dataset\\detection_set04_video_0007_08100.png: 640x640 1 not-crossing, 4.1ms\n",
      "image 335/790 C:\\Users\\vravula\\Downloads\\final_pie_env\\detection\\dataset\\detection_set04_video_0007_08130.png: 640x640 1 crossing, 5.0ms\n",
      "image 336/790 C:\\Users\\vravula\\Downloads\\final_pie_env\\detection\\dataset\\detection_set04_video_0007_08160.png: 640x640 1 crossing, 5.0ms\n",
      "image 337/790 C:\\Users\\vravula\\Downloads\\final_pie_env\\detection\\dataset\\detection_set04_video_0007_08190.png: 640x640 1 crossing, 5.5ms\n",
      "image 338/790 C:\\Users\\vravula\\Downloads\\final_pie_env\\detection\\dataset\\detection_set04_video_0007_08220.png: 640x640 1 crossing, 6.0ms\n",
      "image 339/790 C:\\Users\\vravula\\Downloads\\final_pie_env\\detection\\dataset\\detection_set04_video_0007_08250.png: 640x640 1 crossing, 1 not-crossing, 5.0ms\n",
      "image 340/790 C:\\Users\\vravula\\Downloads\\final_pie_env\\detection\\dataset\\detection_set04_video_0007_08280.png: 640x640 (no detections), 5.0ms\n",
      "image 341/790 C:\\Users\\vravula\\Downloads\\final_pie_env\\detection\\dataset\\detection_set04_video_0007_09060.png: 640x640 1 not-crossing, 5.0ms\n",
      "image 342/790 C:\\Users\\vravula\\Downloads\\final_pie_env\\detection\\dataset\\detection_set04_video_0007_09090.png: 640x640 1 not-crossing, 5.0ms\n",
      "image 343/790 C:\\Users\\vravula\\Downloads\\final_pie_env\\detection\\dataset\\detection_set04_video_0007_09120.png: 640x640 1 not-crossing, 6.0ms\n",
      "image 344/790 C:\\Users\\vravula\\Downloads\\final_pie_env\\detection\\dataset\\detection_set04_video_0007_09150.png: 640x640 1 not-crossing, 7.1ms\n",
      "image 345/790 C:\\Users\\vravula\\Downloads\\final_pie_env\\detection\\dataset\\detection_set04_video_0007_09180.png: 640x640 (no detections), 6.0ms\n",
      "image 346/790 C:\\Users\\vravula\\Downloads\\final_pie_env\\detection\\dataset\\detection_set04_video_0007_09210.png: 640x640 1 not-crossing, 5.0ms\n",
      "image 347/790 C:\\Users\\vravula\\Downloads\\final_pie_env\\detection\\dataset\\detection_set04_video_0007_09240.png: 640x640 (no detections), 5.0ms\n",
      "image 348/790 C:\\Users\\vravula\\Downloads\\final_pie_env\\detection\\dataset\\detection_set04_video_0007_09270.png: 640x640 (no detections), 5.0ms\n",
      "image 349/790 C:\\Users\\vravula\\Downloads\\final_pie_env\\detection\\dataset\\detection_set04_video_0007_09300.png: 640x640 (no detections), 5.3ms\n",
      "image 350/790 C:\\Users\\vravula\\Downloads\\final_pie_env\\detection\\dataset\\detection_set04_video_0007_09330.png: 640x640 (no detections), 5.0ms\n",
      "image 351/790 C:\\Users\\vravula\\Downloads\\final_pie_env\\detection\\dataset\\detection_set04_video_0007_09360.png: 640x640 (no detections), 5.0ms\n",
      "image 352/790 C:\\Users\\vravula\\Downloads\\final_pie_env\\detection\\dataset\\detection_set04_video_0007_09390.png: 640x640 (no detections), 5.0ms\n",
      "image 353/790 C:\\Users\\vravula\\Downloads\\final_pie_env\\detection\\dataset\\detection_set04_video_0007_09420.png: 640x640 (no detections), 5.0ms\n",
      "image 354/790 C:\\Users\\vravula\\Downloads\\final_pie_env\\detection\\dataset\\detection_set04_video_0007_09450.png: 640x640 (no detections), 6.1ms\n",
      "image 355/790 C:\\Users\\vravula\\Downloads\\final_pie_env\\detection\\dataset\\detection_set04_video_0007_09480.png: 640x640 (no detections), 6.0ms\n",
      "image 356/790 C:\\Users\\vravula\\Downloads\\final_pie_env\\detection\\dataset\\detection_set04_video_0007_10290.png: 640x640 (no detections), 5.0ms\n",
      "image 357/790 C:\\Users\\vravula\\Downloads\\final_pie_env\\detection\\dataset\\detection_set04_video_0007_10320.png: 640x640 (no detections), 5.1ms\n",
      "image 358/790 C:\\Users\\vravula\\Downloads\\final_pie_env\\detection\\dataset\\detection_set04_video_0007_10350.png: 640x640 (no detections), 5.0ms\n",
      "image 359/790 C:\\Users\\vravula\\Downloads\\final_pie_env\\detection\\dataset\\detection_set04_video_0007_10380.png: 640x640 1 not-crossing, 5.0ms\n",
      "image 360/790 C:\\Users\\vravula\\Downloads\\final_pie_env\\detection\\dataset\\detection_set04_video_0007_10410.png: 640x640 2 not-crossings, 5.0ms\n",
      "image 361/790 C:\\Users\\vravula\\Downloads\\final_pie_env\\detection\\dataset\\detection_set04_video_0007_10440.png: 640x640 3 not-crossings, 5.0ms\n",
      "image 362/790 C:\\Users\\vravula\\Downloads\\final_pie_env\\detection\\dataset\\detection_set04_video_0007_10470.png: 640x640 5 not-crossings, 6.1ms\n",
      "image 363/790 C:\\Users\\vravula\\Downloads\\final_pie_env\\detection\\dataset\\detection_set04_video_0007_10500.png: 640x640 7 not-crossings, 5.0ms\n",
      "image 364/790 C:\\Users\\vravula\\Downloads\\final_pie_env\\detection\\dataset\\detection_set04_video_0007_10530.png: 640x640 10 not-crossings, 5.6ms\n",
      "image 365/790 C:\\Users\\vravula\\Downloads\\final_pie_env\\detection\\dataset\\detection_set04_video_0007_10560.png: 640x640 10 not-crossings, 5.0ms\n",
      "image 366/790 C:\\Users\\vravula\\Downloads\\final_pie_env\\detection\\dataset\\detection_set04_video_0007_10590.png: 640x640 6 not-crossings, 5.5ms\n",
      "image 367/790 C:\\Users\\vravula\\Downloads\\final_pie_env\\detection\\dataset\\detection_set04_video_0007_10620.png: 640x640 4 crossings, 6 not-crossings, 4.0ms\n",
      "image 368/790 C:\\Users\\vravula\\Downloads\\final_pie_env\\detection\\dataset\\detection_set04_video_0007_10650.png: 640x640 4 crossings, 1 not-crossing, 5.1ms\n",
      "image 369/790 C:\\Users\\vravula\\Downloads\\final_pie_env\\detection\\dataset\\detection_set04_video_0007_10680.png: 640x640 3 crossings, 5.0ms\n",
      "image 370/790 C:\\Users\\vravula\\Downloads\\final_pie_env\\detection\\dataset\\detection_set04_video_0007_10710.png: 640x640 5 crossings, 2 not-crossings, 5.2ms\n",
      "image 371/790 C:\\Users\\vravula\\Downloads\\final_pie_env\\detection\\dataset\\detection_set04_video_0007_10740.png: 640x640 6 crossings, 2 not-crossings, 5.0ms\n",
      "image 372/790 C:\\Users\\vravula\\Downloads\\final_pie_env\\detection\\dataset\\detection_set04_video_0007_10770.png: 640x640 5 crossings, 1 not-crossing, 5.1ms\n",
      "image 373/790 C:\\Users\\vravula\\Downloads\\final_pie_env\\detection\\dataset\\detection_set04_video_0007_10800.png: 640x640 10 crossings, 5.1ms\n",
      "image 374/790 C:\\Users\\vravula\\Downloads\\final_pie_env\\detection\\dataset\\detection_set04_video_0007_10830.png: 640x640 8 crossings, 2 not-crossings, 5.0ms\n",
      "image 375/790 C:\\Users\\vravula\\Downloads\\final_pie_env\\detection\\dataset\\detection_set04_video_0007_10860.png: 640x640 7 crossings, 3 not-crossings, 5.0ms\n",
      "image 376/790 C:\\Users\\vravula\\Downloads\\final_pie_env\\detection\\dataset\\detection_set04_video_0007_10890.png: 640x640 6 crossings, 6.0ms\n",
      "image 377/790 C:\\Users\\vravula\\Downloads\\final_pie_env\\detection\\dataset\\detection_set04_video_0007_10920.png: 640x640 4 crossings, 2 not-crossings, 5.0ms\n",
      "image 378/790 C:\\Users\\vravula\\Downloads\\final_pie_env\\detection\\dataset\\detection_set04_video_0007_10950.png: 640x640 5 crossings, 1 not-crossing, 5.0ms\n",
      "image 379/790 C:\\Users\\vravula\\Downloads\\final_pie_env\\detection\\dataset\\detection_set04_video_0007_10980.png: 640x640 1 crossing, 1 not-crossing, 5.0ms\n",
      "image 380/790 C:\\Users\\vravula\\Downloads\\final_pie_env\\detection\\dataset\\detection_set04_video_0007_11010.png: 640x640 3 crossings, 5.1ms\n",
      "image 381/790 C:\\Users\\vravula\\Downloads\\final_pie_env\\detection\\dataset\\detection_set04_video_0007_11040.png: 640x640 2 crossings, 1 not-crossing, 4.0ms\n",
      "image 382/790 C:\\Users\\vravula\\Downloads\\final_pie_env\\detection\\dataset\\detection_set04_video_0007_11070.png: 640x640 2 crossings, 5.0ms\n",
      "image 383/790 C:\\Users\\vravula\\Downloads\\final_pie_env\\detection\\dataset\\detection_set04_video_0007_11100.png: 640x640 2 crossings, 5.5ms\n",
      "image 384/790 C:\\Users\\vravula\\Downloads\\final_pie_env\\detection\\dataset\\detection_set04_video_0007_11130.png: 640x640 3 crossings, 2 not-crossings, 5.0ms\n",
      "image 385/790 C:\\Users\\vravula\\Downloads\\final_pie_env\\detection\\dataset\\detection_set04_video_0007_11160.png: 640x640 1 not-crossing, 5.0ms\n",
      "image 386/790 C:\\Users\\vravula\\Downloads\\final_pie_env\\detection\\dataset\\detection_set04_video_0007_11190.png: 640x640 1 crossing, 5.0ms\n",
      "image 387/790 C:\\Users\\vravula\\Downloads\\final_pie_env\\detection\\dataset\\detection_set04_video_0007_11220.png: 640x640 2 crossings, 5.1ms\n",
      "image 388/790 C:\\Users\\vravula\\Downloads\\final_pie_env\\detection\\dataset\\detection_set04_video_0007_11250.png: 640x640 2 crossings, 2 not-crossings, 5.0ms\n",
      "image 389/790 C:\\Users\\vravula\\Downloads\\final_pie_env\\detection\\dataset\\detection_set04_video_0007_11280.png: 640x640 1 crossing, 1 not-crossing, 4.0ms\n",
      "image 390/790 C:\\Users\\vravula\\Downloads\\final_pie_env\\detection\\dataset\\detection_set04_video_0007_11310.png: 640x640 4 crossings, 1 not-crossing, 5.2ms\n",
      "image 391/790 C:\\Users\\vravula\\Downloads\\final_pie_env\\detection\\dataset\\detection_set04_video_0007_11340.png: 640x640 4 crossings, 2 not-crossings, 5.0ms\n",
      "image 392/790 C:\\Users\\vravula\\Downloads\\final_pie_env\\detection\\dataset\\detection_set04_video_0007_11370.png: 640x640 2 crossings, 5.5ms\n",
      "image 393/790 C:\\Users\\vravula\\Downloads\\final_pie_env\\detection\\dataset\\detection_set04_video_0007_11400.png: 640x640 3 crossings, 5.0ms\n",
      "image 394/790 C:\\Users\\vravula\\Downloads\\final_pie_env\\detection\\dataset\\detection_set04_video_0007_11430.png: 640x640 3 not-crossings, 5.1ms\n",
      "image 395/790 C:\\Users\\vravula\\Downloads\\final_pie_env\\detection\\dataset\\detection_set04_video_0007_11460.png: 640x640 2 crossings, 1 not-crossing, 5.0ms\n",
      "image 396/790 C:\\Users\\vravula\\Downloads\\final_pie_env\\detection\\dataset\\detection_set04_video_0007_11490.png: 640x640 1 crossing, 3 not-crossings, 5.2ms\n",
      "image 397/790 C:\\Users\\vravula\\Downloads\\final_pie_env\\detection\\dataset\\detection_set04_video_0007_11520.png: 640x640 1 crossing, 3 not-crossings, 5.0ms\n",
      "image 398/790 C:\\Users\\vravula\\Downloads\\final_pie_env\\detection\\dataset\\detection_set04_video_0007_11550.png: 640x640 2 not-crossings, 5.0ms\n",
      "image 399/790 C:\\Users\\vravula\\Downloads\\final_pie_env\\detection\\dataset\\detection_set04_video_0007_11580.png: 640x640 2 not-crossings, 5.0ms\n",
      "image 400/790 C:\\Users\\vravula\\Downloads\\final_pie_env\\detection\\dataset\\detection_set04_video_0007_11610.png: 640x640 1 not-crossing, 5.0ms\n",
      "image 401/790 C:\\Users\\vravula\\Downloads\\final_pie_env\\detection\\dataset\\detection_set04_video_0007_11640.png: 640x640 1 not-crossing, 5.0ms\n",
      "image 402/790 C:\\Users\\vravula\\Downloads\\final_pie_env\\detection\\dataset\\detection_set04_video_0007_11670.png: 640x640 2 crossings, 2 not-crossings, 5.0ms\n",
      "image 403/790 C:\\Users\\vravula\\Downloads\\final_pie_env\\detection\\dataset\\detection_set04_video_0007_11700.png: 640x640 2 crossings, 6.1ms\n",
      "image 404/790 C:\\Users\\vravula\\Downloads\\final_pie_env\\detection\\dataset\\detection_set04_video_0007_11730.png: 640x640 3 crossings, 6.0ms\n",
      "image 405/790 C:\\Users\\vravula\\Downloads\\final_pie_env\\detection\\dataset\\detection_set04_video_0007_11760.png: 640x640 4 crossings, 5.5ms\n",
      "image 406/790 C:\\Users\\vravula\\Downloads\\final_pie_env\\detection\\dataset\\detection_set04_video_0007_11790.png: 640x640 1 not-crossing, 5.0ms\n",
      "image 407/790 C:\\Users\\vravula\\Downloads\\final_pie_env\\detection\\dataset\\detection_set04_video_0007_11820.png: 640x640 3 crossings, 1 not-crossing, 5.6ms\n",
      "image 408/790 C:\\Users\\vravula\\Downloads\\final_pie_env\\detection\\dataset\\detection_set04_video_0007_11850.png: 640x640 3 crossings, 1 not-crossing, 5.0ms\n",
      "image 409/790 C:\\Users\\vravula\\Downloads\\final_pie_env\\detection\\dataset\\detection_set04_video_0007_11880.png: 640x640 2 crossings, 5.5ms\n",
      "image 410/790 C:\\Users\\vravula\\Downloads\\final_pie_env\\detection\\dataset\\detection_set04_video_0007_11910.png: 640x640 1 crossing, 1 not-crossing, 5.5ms\n",
      "image 411/790 C:\\Users\\vravula\\Downloads\\final_pie_env\\detection\\dataset\\detection_set04_video_0007_11940.png: 640x640 3 crossings, 5.0ms\n",
      "image 412/790 C:\\Users\\vravula\\Downloads\\final_pie_env\\detection\\dataset\\detection_set04_video_0007_11970.png: 640x640 4 crossings, 5.0ms\n",
      "image 413/790 C:\\Users\\vravula\\Downloads\\final_pie_env\\detection\\dataset\\detection_set04_video_0007_12000.png: 640x640 2 crossings, 1 not-crossing, 5.0ms\n",
      "image 414/790 C:\\Users\\vravula\\Downloads\\final_pie_env\\detection\\dataset\\detection_set04_video_0007_12030.png: 640x640 3 crossings, 1 not-crossing, 5.1ms\n",
      "image 415/790 C:\\Users\\vravula\\Downloads\\final_pie_env\\detection\\dataset\\detection_set04_video_0007_12060.png: 640x640 4 crossings, 5.0ms\n",
      "image 416/790 C:\\Users\\vravula\\Downloads\\final_pie_env\\detection\\dataset\\detection_set04_video_0007_12090.png: 640x640 2 crossings, 5.0ms\n",
      "image 417/790 C:\\Users\\vravula\\Downloads\\final_pie_env\\detection\\dataset\\detection_set04_video_0007_12120.png: 640x640 3 crossings, 1 not-crossing, 5.0ms\n",
      "image 418/790 C:\\Users\\vravula\\Downloads\\final_pie_env\\detection\\dataset\\detection_set04_video_0007_12150.png: 640x640 4 crossings, 5.5ms\n",
      "image 419/790 C:\\Users\\vravula\\Downloads\\final_pie_env\\detection\\dataset\\detection_set04_video_0007_12180.png: 640x640 2 crossings, 3 not-crossings, 5.0ms\n",
      "image 420/790 C:\\Users\\vravula\\Downloads\\final_pie_env\\detection\\dataset\\detection_set04_video_0007_12210.png: 640x640 2 crossings, 1 not-crossing, 5.5ms\n",
      "image 421/790 C:\\Users\\vravula\\Downloads\\final_pie_env\\detection\\dataset\\detection_set04_video_0007_12240.png: 640x640 1 crossing, 5.0ms\n",
      "image 422/790 C:\\Users\\vravula\\Downloads\\final_pie_env\\detection\\dataset\\detection_set04_video_0007_12270.png: 640x640 2 crossings, 5.0ms\n",
      "image 423/790 C:\\Users\\vravula\\Downloads\\final_pie_env\\detection\\dataset\\detection_set04_video_0007_12300.png: 640x640 2 crossings, 5.1ms\n",
      "image 424/790 C:\\Users\\vravula\\Downloads\\final_pie_env\\detection\\dataset\\detection_set04_video_0007_12330.png: 640x640 1 crossing, 2 not-crossings, 5.0ms\n",
      "image 425/790 C:\\Users\\vravula\\Downloads\\final_pie_env\\detection\\dataset\\detection_set04_video_0007_12360.png: 640x640 (no detections), 5.0ms\n",
      "image 426/790 C:\\Users\\vravula\\Downloads\\final_pie_env\\detection\\dataset\\detection_set04_video_0007_12390.png: 640x640 2 crossings, 5.0ms\n",
      "image 427/790 C:\\Users\\vravula\\Downloads\\final_pie_env\\detection\\dataset\\detection_set04_video_0007_12420.png: 640x640 1 crossing, 5.5ms\n",
      "image 428/790 C:\\Users\\vravula\\Downloads\\final_pie_env\\detection\\dataset\\detection_set04_video_0007_12450.png: 640x640 (no detections), 5.1ms\n",
      "image 429/790 C:\\Users\\vravula\\Downloads\\final_pie_env\\detection\\dataset\\detection_set04_video_0007_12480.png: 640x640 1 crossing, 5.0ms\n",
      "image 430/790 C:\\Users\\vravula\\Downloads\\final_pie_env\\detection\\dataset\\detection_set04_video_0007_12510.png: 640x640 1 crossing, 5.0ms\n",
      "image 431/790 C:\\Users\\vravula\\Downloads\\final_pie_env\\detection\\dataset\\detection_set04_video_0007_12540.png: 640x640 1 crossing, 5.0ms\n",
      "image 432/790 C:\\Users\\vravula\\Downloads\\final_pie_env\\detection\\dataset\\detection_set04_video_0007_12570.png: 640x640 1 crossing, 5.0ms\n",
      "image 433/790 C:\\Users\\vravula\\Downloads\\final_pie_env\\detection\\dataset\\detection_set04_video_0007_12600.png: 640x640 1 crossing, 1 not-crossing, 5.1ms\n",
      "image 434/790 C:\\Users\\vravula\\Downloads\\final_pie_env\\detection\\dataset\\detection_set04_video_0007_12630.png: 640x640 1 not-crossing, 5.5ms\n",
      "image 435/790 C:\\Users\\vravula\\Downloads\\final_pie_env\\detection\\dataset\\detection_set04_video_0007_12660.png: 640x640 4 not-crossings, 5.0ms\n",
      "image 436/790 C:\\Users\\vravula\\Downloads\\final_pie_env\\detection\\dataset\\detection_set04_video_0007_12690.png: 640x640 2 not-crossings, 5.0ms\n",
      "image 437/790 C:\\Users\\vravula\\Downloads\\final_pie_env\\detection\\dataset\\detection_set04_video_0007_12720.png: 640x640 1 not-crossing, 5.0ms\n",
      "image 438/790 C:\\Users\\vravula\\Downloads\\final_pie_env\\detection\\dataset\\detection_set04_video_0007_12750.png: 640x640 (no detections), 5.0ms\n",
      "image 439/790 C:\\Users\\vravula\\Downloads\\final_pie_env\\detection\\dataset\\detection_set04_video_0007_12780.png: 640x640 1 not-crossing, 5.0ms\n",
      "image 440/790 C:\\Users\\vravula\\Downloads\\final_pie_env\\detection\\dataset\\detection_set04_video_0007_12900.png: 640x640 (no detections), 5.1ms\n",
      "image 441/790 C:\\Users\\vravula\\Downloads\\final_pie_env\\detection\\dataset\\detection_set04_video_0007_12930.png: 640x640 2 not-crossings, 5.0ms\n",
      "image 442/790 C:\\Users\\vravula\\Downloads\\final_pie_env\\detection\\dataset\\detection_set04_video_0007_12990.png: 640x640 (no detections), 5.0ms\n",
      "image 443/790 C:\\Users\\vravula\\Downloads\\final_pie_env\\detection\\dataset\\detection_set04_video_0007_13020.png: 640x640 (no detections), 5.1ms\n",
      "image 444/790 C:\\Users\\vravula\\Downloads\\final_pie_env\\detection\\dataset\\detection_set04_video_0007_13050.png: 640x640 (no detections), 5.5ms\n",
      "image 445/790 C:\\Users\\vravula\\Downloads\\final_pie_env\\detection\\dataset\\detection_set04_video_0007_13080.png: 640x640 (no detections), 5.0ms\n",
      "image 446/790 C:\\Users\\vravula\\Downloads\\final_pie_env\\detection\\dataset\\detection_set04_video_0007_13110.png: 640x640 (no detections), 5.1ms\n",
      "image 447/790 C:\\Users\\vravula\\Downloads\\final_pie_env\\detection\\dataset\\detection_set04_video_0007_13140.png: 640x640 5 not-crossings, 5.0ms\n",
      "image 448/790 C:\\Users\\vravula\\Downloads\\final_pie_env\\detection\\dataset\\detection_set04_video_0007_13170.png: 640x640 5 not-crossings, 5.0ms\n",
      "image 449/790 C:\\Users\\vravula\\Downloads\\final_pie_env\\detection\\dataset\\detection_set04_video_0007_13200.png: 640x640 2 not-crossings, 6.5ms\n",
      "image 450/790 C:\\Users\\vravula\\Downloads\\final_pie_env\\detection\\dataset\\detection_set04_video_0007_13230.png: 640x640 2 not-crossings, 4.0ms\n",
      "image 451/790 C:\\Users\\vravula\\Downloads\\final_pie_env\\detection\\dataset\\detection_set04_video_0007_13260.png: 640x640 (no detections), 5.5ms\n",
      "image 452/790 C:\\Users\\vravula\\Downloads\\final_pie_env\\detection\\dataset\\detection_set04_video_0007_13290.png: 640x640 1 crossing, 5.0ms\n",
      "image 453/790 C:\\Users\\vravula\\Downloads\\final_pie_env\\detection\\dataset\\detection_set04_video_0007_13320.png: 640x640 (no detections), 5.0ms\n",
      "image 454/790 C:\\Users\\vravula\\Downloads\\final_pie_env\\detection\\dataset\\detection_set04_video_0007_14250.png: 640x640 (no detections), 5.5ms\n",
      "image 455/790 C:\\Users\\vravula\\Downloads\\final_pie_env\\detection\\dataset\\detection_set04_video_0007_14280.png: 640x640 (no detections), 5.0ms\n",
      "image 456/790 C:\\Users\\vravula\\Downloads\\final_pie_env\\detection\\dataset\\detection_set04_video_0007_14310.png: 640x640 (no detections), 5.1ms\n",
      "image 457/790 C:\\Users\\vravula\\Downloads\\final_pie_env\\detection\\dataset\\detection_set04_video_0007_14340.png: 640x640 (no detections), 5.0ms\n",
      "image 458/790 C:\\Users\\vravula\\Downloads\\final_pie_env\\detection\\dataset\\detection_set04_video_0007_14370.png: 640x640 (no detections), 5.0ms\n",
      "image 459/790 C:\\Users\\vravula\\Downloads\\final_pie_env\\detection\\dataset\\detection_set04_video_0007_14400.png: 640x640 3 not-crossings, 5.0ms\n",
      "image 460/790 C:\\Users\\vravula\\Downloads\\final_pie_env\\detection\\dataset\\detection_set04_video_0007_14430.png: 640x640 5 not-crossings, 5.0ms\n",
      "image 461/790 C:\\Users\\vravula\\Downloads\\final_pie_env\\detection\\dataset\\detection_set04_video_0007_14460.png: 640x640 3 not-crossings, 6.0ms\n",
      "image 462/790 C:\\Users\\vravula\\Downloads\\final_pie_env\\detection\\dataset\\detection_set04_video_0007_14490.png: 640x640 3 not-crossings, 5.0ms\n",
      "image 463/790 C:\\Users\\vravula\\Downloads\\final_pie_env\\detection\\dataset\\detection_set04_video_0007_14520.png: 640x640 3 not-crossings, 5.0ms\n",
      "image 464/790 C:\\Users\\vravula\\Downloads\\final_pie_env\\detection\\dataset\\detection_set04_video_0007_14550.png: 640x640 7 not-crossings, 5.0ms\n",
      "image 465/790 C:\\Users\\vravula\\Downloads\\final_pie_env\\detection\\dataset\\detection_set04_video_0007_14580.png: 640x640 6 not-crossings, 5.0ms\n",
      "image 466/790 C:\\Users\\vravula\\Downloads\\final_pie_env\\detection\\dataset\\detection_set04_video_0007_14610.png: 640x640 5 not-crossings, 5.1ms\n",
      "image 467/790 C:\\Users\\vravula\\Downloads\\final_pie_env\\detection\\dataset\\detection_set04_video_0007_14640.png: 640x640 4 not-crossings, 4.0ms\n",
      "image 468/790 C:\\Users\\vravula\\Downloads\\final_pie_env\\detection\\dataset\\detection_set04_video_0007_14670.png: 640x640 4 not-crossings, 5.7ms\n",
      "image 469/790 C:\\Users\\vravula\\Downloads\\final_pie_env\\detection\\dataset\\detection_set04_video_0007_14700.png: 640x640 5 not-crossings, 5.0ms\n",
      "image 470/790 C:\\Users\\vravula\\Downloads\\final_pie_env\\detection\\dataset\\detection_set04_video_0007_14730.png: 640x640 2 not-crossings, 5.6ms\n",
      "image 471/790 C:\\Users\\vravula\\Downloads\\final_pie_env\\detection\\dataset\\detection_set04_video_0007_14760.png: 640x640 5 not-crossings, 5.0ms\n",
      "image 472/790 C:\\Users\\vravula\\Downloads\\final_pie_env\\detection\\dataset\\detection_set04_video_0007_14790.png: 640x640 (no detections), 5.5ms\n",
      "image 473/790 C:\\Users\\vravula\\Downloads\\final_pie_env\\detection\\dataset\\detection_set04_video_0007_14820.png: 640x640 1 not-crossing, 5.0ms\n",
      "image 474/790 C:\\Users\\vravula\\Downloads\\final_pie_env\\detection\\dataset\\detection_set04_video_0007_15210.png: 640x640 (no detections), 5.0ms\n",
      "image 475/790 C:\\Users\\vravula\\Downloads\\final_pie_env\\detection\\dataset\\detection_set04_video_0007_15240.png: 640x640 (no detections), 6.0ms\n",
      "image 476/790 C:\\Users\\vravula\\Downloads\\final_pie_env\\detection\\dataset\\detection_set04_video_0007_15270.png: 640x640 (no detections), 5.0ms\n",
      "image 477/790 C:\\Users\\vravula\\Downloads\\final_pie_env\\detection\\dataset\\detection_set04_video_0007_15300.png: 640x640 (no detections), 5.0ms\n",
      "image 478/790 C:\\Users\\vravula\\Downloads\\final_pie_env\\detection\\dataset\\detection_set04_video_0007_15330.png: 640x640 (no detections), 5.0ms\n",
      "image 479/790 C:\\Users\\vravula\\Downloads\\final_pie_env\\detection\\dataset\\detection_set04_video_0007_15360.png: 640x640 (no detections), 6.0ms\n",
      "image 480/790 C:\\Users\\vravula\\Downloads\\final_pie_env\\detection\\dataset\\detection_set04_video_0007_15390.png: 640x640 1 not-crossing, 5.5ms\n",
      "image 481/790 C:\\Users\\vravula\\Downloads\\final_pie_env\\detection\\dataset\\detection_set04_video_0007_15420.png: 640x640 1 not-crossing, 5.0ms\n",
      "image 482/790 C:\\Users\\vravula\\Downloads\\final_pie_env\\detection\\dataset\\detection_set04_video_0007_15450.png: 640x640 1 not-crossing, 5.0ms\n",
      "image 483/790 C:\\Users\\vravula\\Downloads\\final_pie_env\\detection\\dataset\\detection_set04_video_0007_15960.png: 640x640 (no detections), 5.0ms\n",
      "image 484/790 C:\\Users\\vravula\\Downloads\\final_pie_env\\detection\\dataset\\detection_set04_video_0007_15990.png: 640x640 (no detections), 5.0ms\n",
      "image 485/790 C:\\Users\\vravula\\Downloads\\final_pie_env\\detection\\dataset\\detection_set04_video_0007_16020.png: 640x640 (no detections), 5.5ms\n",
      "image 486/790 C:\\Users\\vravula\\Downloads\\final_pie_env\\detection\\dataset\\detection_set04_video_0007_16050.png: 640x640 2 not-crossings, 5.0ms\n",
      "image 487/790 C:\\Users\\vravula\\Downloads\\final_pie_env\\detection\\dataset\\detection_set04_video_0007_16080.png: 640x640 1 crossing, 1 not-crossing, 5.0ms\n",
      "image 488/790 C:\\Users\\vravula\\Downloads\\final_pie_env\\detection\\dataset\\detection_set04_video_0007_16110.png: 640x640 1 crossing, 2 not-crossings, 5.0ms\n",
      "image 489/790 C:\\Users\\vravula\\Downloads\\final_pie_env\\detection\\dataset\\detection_set04_video_0007_16560.png: 640x640 (no detections), 5.0ms\n",
      "image 490/790 C:\\Users\\vravula\\Downloads\\final_pie_env\\detection\\dataset\\detection_set04_video_0007_16590.png: 640x640 2 not-crossings, 5.5ms\n",
      "image 491/790 C:\\Users\\vravula\\Downloads\\final_pie_env\\detection\\dataset\\detection_set04_video_0007_16620.png: 640x640 3 not-crossings, 5.0ms\n",
      "image 492/790 C:\\Users\\vravula\\Downloads\\final_pie_env\\detection\\dataset\\detection_set04_video_0007_16650.png: 640x640 1 not-crossing, 5.5ms\n",
      "image 493/790 C:\\Users\\vravula\\Downloads\\final_pie_env\\detection\\dataset\\detection_set04_video_0007_16680.png: 640x640 2 not-crossings, 7.0ms\n",
      "image 494/790 C:\\Users\\vravula\\Downloads\\final_pie_env\\detection\\dataset\\detection_set04_video_0007_16710.png: 640x640 1 not-crossing, 5.5ms\n",
      "image 495/790 C:\\Users\\vravula\\Downloads\\final_pie_env\\detection\\dataset\\detection_set04_video_0007_16740.png: 640x640 1 crossing, 1 not-crossing, 5.0ms\n",
      "image 496/790 C:\\Users\\vravula\\Downloads\\final_pie_env\\detection\\dataset\\detection_set04_video_0007_16770.png: 640x640 1 crossing, 1 not-crossing, 5.0ms\n",
      "image 497/790 C:\\Users\\vravula\\Downloads\\final_pie_env\\detection\\dataset\\detection_set04_video_0007_16800.png: 640x640 1 crossing, 5.0ms\n",
      "image 498/790 C:\\Users\\vravula\\Downloads\\final_pie_env\\detection\\dataset\\detection_set04_video_0007_16830.png: 640x640 (no detections), 5.1ms\n",
      "image 499/790 C:\\Users\\vravula\\Downloads\\final_pie_env\\detection\\dataset\\detection_set04_video_0007_16860.png: 640x640 (no detections), 5.5ms\n",
      "image 500/790 C:\\Users\\vravula\\Downloads\\final_pie_env\\detection\\dataset\\detection_set04_video_0007_16890.png: 640x640 1 not-crossing, 5.0ms\n",
      "image 501/790 C:\\Users\\vravula\\Downloads\\final_pie_env\\detection\\dataset\\detection_set04_video_0007_16920.png: 640x640 1 not-crossing, 5.5ms\n",
      "image 502/790 C:\\Users\\vravula\\Downloads\\final_pie_env\\detection\\dataset\\detection_set04_video_0007_16950.png: 640x640 2 not-crossings, 5.0ms\n",
      "image 503/790 C:\\Users\\vravula\\Downloads\\final_pie_env\\detection\\dataset\\detection_set04_video_0007_17250.png: 640x640 5 crossings, 1 not-crossing, 5.1ms\n",
      "image 504/790 C:\\Users\\vravula\\Downloads\\final_pie_env\\detection\\dataset\\detection_set04_video_0007_17280.png: 640x640 2 crossings, 6.0ms\n",
      "image 505/790 C:\\Users\\vravula\\Downloads\\final_pie_env\\detection\\dataset\\detection_set04_video_0007_17310.png: 640x640 1 not-crossing, 5.1ms\n",
      "image 506/790 C:\\Users\\vravula\\Downloads\\final_pie_env\\detection\\dataset\\detection_set04_video_0007_17340.png: 640x640 1 not-crossing, 5.0ms\n",
      "image 507/790 C:\\Users\\vravula\\Downloads\\final_pie_env\\detection\\dataset\\detection_set04_video_0007_17370.png: 640x640 1 crossing, 6.0ms\n",
      "image 508/790 C:\\Users\\vravula\\Downloads\\final_pie_env\\detection\\dataset\\detection_set04_video_0007_17400.png: 640x640 1 crossing, 1 not-crossing, 6.5ms\n",
      "image 509/790 C:\\Users\\vravula\\Downloads\\final_pie_env\\detection\\dataset\\detection_set04_video_0007_17430.png: 640x640 2 crossings, 1 not-crossing, 5.0ms\n",
      "image 510/790 C:\\Users\\vravula\\Downloads\\final_pie_env\\detection\\dataset\\detection_set04_video_0007_17460.png: 640x640 2 crossings, 6.0ms\n",
      "image 511/790 C:\\Users\\vravula\\Downloads\\final_pie_env\\detection\\dataset\\detection_set04_video_0007_17490.png: 640x640 1 crossing, 5.0ms\n",
      "image 512/790 C:\\Users\\vravula\\Downloads\\final_pie_env\\detection\\dataset\\detection_set04_video_0007_17520.png: 640x640 1 crossing, 6.0ms\n",
      "image 513/790 C:\\Users\\vravula\\Downloads\\final_pie_env\\detection\\dataset\\detection_set04_video_0007_17850.png: 640x640 (no detections), 5.0ms\n",
      "image 514/790 C:\\Users\\vravula\\Downloads\\final_pie_env\\detection\\dataset\\detection_set04_video_0007_17880.png: 640x640 (no detections), 5.1ms\n",
      "image 515/790 C:\\Users\\vravula\\Downloads\\final_pie_env\\detection\\dataset\\detection_set04_video_0007_17910.png: 640x640 (no detections), 5.5ms\n",
      "image 516/790 C:\\Users\\vravula\\Downloads\\final_pie_env\\detection\\dataset\\detection_set04_video_0007_17940.png: 640x640 1 not-crossing, 5.0ms\n",
      "image 517/790 C:\\Users\\vravula\\Downloads\\final_pie_env\\detection\\dataset\\detection_set04_video_0007_17970.png: 640x640 (no detections), 4.8ms\n",
      "image 518/790 C:\\Users\\vravula\\Downloads\\final_pie_env\\detection\\dataset\\detection_set04_video_0007_18000.png: 640x640 1 not-crossing, 5.0ms\n",
      "image 519/790 C:\\Users\\vravula\\Downloads\\final_pie_env\\detection\\dataset\\detection_set04_video_0007_18030.png: 640x640 1 not-crossing, 7.0ms\n",
      "image 520/790 C:\\Users\\vravula\\Downloads\\final_pie_env\\detection\\dataset\\detection_set04_video_0009_03960.png: 640x640 (no detections), 5.0ms\n",
      "image 521/790 C:\\Users\\vravula\\Downloads\\final_pie_env\\detection\\dataset\\detection_set04_video_0009_03990.png: 640x640 (no detections), 5.0ms\n",
      "image 522/790 C:\\Users\\vravula\\Downloads\\final_pie_env\\detection\\dataset\\detection_set04_video_0009_04020.png: 640x640 1 not-crossing, 5.1ms\n",
      "image 523/790 C:\\Users\\vravula\\Downloads\\final_pie_env\\detection\\dataset\\detection_set04_video_0009_04050.png: 640x640 (no detections), 5.0ms\n",
      "image 524/790 C:\\Users\\vravula\\Downloads\\final_pie_env\\detection\\dataset\\detection_set04_video_0009_04080.png: 640x640 1 not-crossing, 4.5ms\n",
      "image 525/790 C:\\Users\\vravula\\Downloads\\final_pie_env\\detection\\dataset\\detection_set04_video_0009_04110.png: 640x640 1 crossing, 5.0ms\n",
      "image 526/790 C:\\Users\\vravula\\Downloads\\final_pie_env\\detection\\dataset\\detection_set04_video_0009_04140.png: 640x640 1 crossing, 5.0ms\n",
      "image 527/790 C:\\Users\\vravula\\Downloads\\final_pie_env\\detection\\dataset\\detection_set04_video_0009_04170.png: 640x640 1 crossing, 6.0ms\n",
      "image 528/790 C:\\Users\\vravula\\Downloads\\final_pie_env\\detection\\dataset\\detection_set04_video_0009_04200.png: 640x640 1 crossing, 5.0ms\n",
      "image 529/790 C:\\Users\\vravula\\Downloads\\final_pie_env\\detection\\dataset\\detection_set04_video_0009_04230.png: 640x640 (no detections), 6.1ms\n",
      "image 530/790 C:\\Users\\vravula\\Downloads\\final_pie_env\\detection\\dataset\\detection_set04_video_0009_04260.png: 640x640 (no detections), 4.5ms\n",
      "image 531/790 C:\\Users\\vravula\\Downloads\\final_pie_env\\detection\\dataset\\detection_set04_video_0009_04290.png: 640x640 (no detections), 4.5ms\n",
      "image 532/790 C:\\Users\\vravula\\Downloads\\final_pie_env\\detection\\dataset\\detection_set04_video_0009_04320.png: 640x640 (no detections), 6.0ms\n",
      "image 533/790 C:\\Users\\vravula\\Downloads\\final_pie_env\\detection\\dataset\\detection_set04_video_0009_04350.png: 640x640 (no detections), 5.0ms\n",
      "image 534/790 C:\\Users\\vravula\\Downloads\\final_pie_env\\detection\\dataset\\detection_set04_video_0009_04380.png: 640x640 (no detections), 5.0ms\n",
      "image 535/790 C:\\Users\\vravula\\Downloads\\final_pie_env\\detection\\dataset\\detection_set04_video_0009_04410.png: 640x640 (no detections), 5.0ms\n",
      "image 536/790 C:\\Users\\vravula\\Downloads\\final_pie_env\\detection\\dataset\\detection_set04_video_0009_04440.png: 640x640 (no detections), 5.0ms\n",
      "image 537/790 C:\\Users\\vravula\\Downloads\\final_pie_env\\detection\\dataset\\detection_set04_video_0009_04470.png: 640x640 (no detections), 5.1ms\n",
      "image 538/790 C:\\Users\\vravula\\Downloads\\final_pie_env\\detection\\dataset\\detection_set04_video_0009_04500.png: 640x640 (no detections), 5.0ms\n",
      "image 539/790 C:\\Users\\vravula\\Downloads\\final_pie_env\\detection\\dataset\\detection_set04_video_0009_04530.png: 640x640 (no detections), 5.5ms\n",
      "image 540/790 C:\\Users\\vravula\\Downloads\\final_pie_env\\detection\\dataset\\detection_set04_video_0009_04560.png: 640x640 (no detections), 6.1ms\n",
      "image 541/790 C:\\Users\\vravula\\Downloads\\final_pie_env\\detection\\dataset\\detection_set04_video_0009_04590.png: 640x640 1 not-crossing, 5.0ms\n",
      "image 542/790 C:\\Users\\vravula\\Downloads\\final_pie_env\\detection\\dataset\\detection_set04_video_0009_04620.png: 640x640 2 not-crossings, 5.0ms\n",
      "image 543/790 C:\\Users\\vravula\\Downloads\\final_pie_env\\detection\\dataset\\detection_set04_video_0009_04650.png: 640x640 1 not-crossing, 5.0ms\n",
      "image 544/790 C:\\Users\\vravula\\Downloads\\final_pie_env\\detection\\dataset\\detection_set04_video_0009_04680.png: 640x640 2 not-crossings, 5.5ms\n",
      "image 545/790 C:\\Users\\vravula\\Downloads\\final_pie_env\\detection\\dataset\\detection_set04_video_0009_04710.png: 640x640 (no detections), 6.1ms\n",
      "image 546/790 C:\\Users\\vravula\\Downloads\\final_pie_env\\detection\\dataset\\detection_set04_video_0009_04740.png: 640x640 (no detections), 5.0ms\n",
      "image 547/790 C:\\Users\\vravula\\Downloads\\final_pie_env\\detection\\dataset\\detection_set04_video_0009_04770.png: 640x640 1 not-crossing, 5.0ms\n",
      "image 548/790 C:\\Users\\vravula\\Downloads\\final_pie_env\\detection\\dataset\\detection_set04_video_0009_04800.png: 640x640 4 not-crossings, 5.0ms\n",
      "image 549/790 C:\\Users\\vravula\\Downloads\\final_pie_env\\detection\\dataset\\detection_set04_video_0009_04830.png: 640x640 1 not-crossing, 5.0ms\n",
      "image 550/790 C:\\Users\\vravula\\Downloads\\final_pie_env\\detection\\dataset\\detection_set04_video_0009_04860.png: 640x640 4 not-crossings, 5.1ms\n",
      "image 551/790 C:\\Users\\vravula\\Downloads\\final_pie_env\\detection\\dataset\\detection_set04_video_0009_04890.png: 640x640 5 not-crossings, 5.5ms\n",
      "image 552/790 C:\\Users\\vravula\\Downloads\\final_pie_env\\detection\\dataset\\detection_set04_video_0009_04920.png: 640x640 2 not-crossings, 5.1ms\n",
      "image 553/790 C:\\Users\\vravula\\Downloads\\final_pie_env\\detection\\dataset\\detection_set04_video_0009_04950.png: 640x640 1 not-crossing, 5.5ms\n",
      "image 554/790 C:\\Users\\vravula\\Downloads\\final_pie_env\\detection\\dataset\\detection_set04_video_0009_04980.png: 640x640 1 crossing, 5.1ms\n",
      "image 555/790 C:\\Users\\vravula\\Downloads\\final_pie_env\\detection\\dataset\\detection_set04_video_0009_05010.png: 640x640 1 crossing, 5.5ms\n",
      "image 556/790 C:\\Users\\vravula\\Downloads\\final_pie_env\\detection\\dataset\\detection_set04_video_0009_05040.png: 640x640 1 crossing, 5.0ms\n",
      "image 557/790 C:\\Users\\vravula\\Downloads\\final_pie_env\\detection\\dataset\\detection_set04_video_0009_05070.png: 640x640 (no detections), 5.0ms\n",
      "image 558/790 C:\\Users\\vravula\\Downloads\\final_pie_env\\detection\\dataset\\detection_set04_video_0009_05100.png: 640x640 1 crossing, 5.0ms\n",
      "image 559/790 C:\\Users\\vravula\\Downloads\\final_pie_env\\detection\\dataset\\detection_set04_video_0009_05130.png: 640x640 2 crossings, 5.0ms\n",
      "image 560/790 C:\\Users\\vravula\\Downloads\\final_pie_env\\detection\\dataset\\detection_set04_video_0009_05160.png: 640x640 1 crossing, 1 not-crossing, 5.0ms\n",
      "image 561/790 C:\\Users\\vravula\\Downloads\\final_pie_env\\detection\\dataset\\detection_set04_video_0009_05190.png: 640x640 2 crossings, 3 not-crossings, 5.1ms\n",
      "image 562/790 C:\\Users\\vravula\\Downloads\\final_pie_env\\detection\\dataset\\detection_set04_video_0009_05220.png: 640x640 1 crossing, 2 not-crossings, 5.0ms\n",
      "image 563/790 C:\\Users\\vravula\\Downloads\\final_pie_env\\detection\\dataset\\detection_set04_video_0009_05250.png: 640x640 1 crossing, 1 not-crossing, 6.1ms\n",
      "image 564/790 C:\\Users\\vravula\\Downloads\\final_pie_env\\detection\\dataset\\detection_set04_video_0009_05280.png: 640x640 1 crossing, 2 not-crossings, 6.0ms\n",
      "image 565/790 C:\\Users\\vravula\\Downloads\\final_pie_env\\detection\\dataset\\detection_set04_video_0009_05370.png: 640x640 1 crossing, 5.0ms\n",
      "image 566/790 C:\\Users\\vravula\\Downloads\\final_pie_env\\detection\\dataset\\detection_set04_video_0009_05400.png: 640x640 (no detections), 5.0ms\n",
      "image 567/790 C:\\Users\\vravula\\Downloads\\final_pie_env\\detection\\dataset\\detection_set04_video_0009_05430.png: 640x640 2 not-crossings, 5.1ms\n",
      "image 568/790 C:\\Users\\vravula\\Downloads\\final_pie_env\\detection\\dataset\\detection_set04_video_0009_05460.png: 640x640 2 not-crossings, 5.0ms\n",
      "image 569/790 C:\\Users\\vravula\\Downloads\\final_pie_env\\detection\\dataset\\detection_set04_video_0009_05490.png: 640x640 2 crossings, 2 not-crossings, 5.0ms\n",
      "image 570/790 C:\\Users\\vravula\\Downloads\\final_pie_env\\detection\\dataset\\detection_set04_video_0009_05520.png: 640x640 1 crossing, 5.0ms\n",
      "image 571/790 C:\\Users\\vravula\\Downloads\\final_pie_env\\detection\\dataset\\detection_set04_video_0009_05550.png: 640x640 (no detections), 5.0ms\n",
      "image 572/790 C:\\Users\\vravula\\Downloads\\final_pie_env\\detection\\dataset\\detection_set04_video_0009_05580.png: 640x640 5 not-crossings, 5.1ms\n",
      "image 573/790 C:\\Users\\vravula\\Downloads\\final_pie_env\\detection\\dataset\\detection_set04_video_0009_05610.png: 640x640 1 not-crossing, 4.0ms\n",
      "image 574/790 C:\\Users\\vravula\\Downloads\\final_pie_env\\detection\\dataset\\detection_set04_video_0009_05640.png: 640x640 1 crossing, 4 not-crossings, 4.6ms\n",
      "image 575/790 C:\\Users\\vravula\\Downloads\\final_pie_env\\detection\\dataset\\detection_set04_video_0009_05670.png: 640x640 1 crossing, 6 not-crossings, 5.0ms\n",
      "image 576/790 C:\\Users\\vravula\\Downloads\\final_pie_env\\detection\\dataset\\detection_set04_video_0009_05700.png: 640x640 3 crossings, 3 not-crossings, 5.0ms\n",
      "image 577/790 C:\\Users\\vravula\\Downloads\\final_pie_env\\detection\\dataset\\detection_set04_video_0009_05730.png: 640x640 1 crossing, 2 not-crossings, 5.0ms\n",
      "image 578/790 C:\\Users\\vravula\\Downloads\\final_pie_env\\detection\\dataset\\detection_set04_video_0009_05760.png: 640x640 2 crossings, 5.0ms\n",
      "image 579/790 C:\\Users\\vravula\\Downloads\\final_pie_env\\detection\\dataset\\detection_set04_video_0009_05790.png: 640x640 2 crossings, 1 not-crossing, 7.0ms\n",
      "image 580/790 C:\\Users\\vravula\\Downloads\\final_pie_env\\detection\\dataset\\detection_set04_video_0009_05820.png: 640x640 2 crossings, 1 not-crossing, 5.0ms\n",
      "image 581/790 C:\\Users\\vravula\\Downloads\\final_pie_env\\detection\\dataset\\detection_set04_video_0009_05850.png: 640x640 3 crossings, 1 not-crossing, 6.0ms\n",
      "image 582/790 C:\\Users\\vravula\\Downloads\\final_pie_env\\detection\\dataset\\detection_set04_video_0009_05880.png: 640x640 2 crossings, 1 not-crossing, 6.0ms\n",
      "image 583/790 C:\\Users\\vravula\\Downloads\\final_pie_env\\detection\\dataset\\detection_set04_video_0009_05910.png: 640x640 3 crossings, 1 not-crossing, 5.0ms\n",
      "image 584/790 C:\\Users\\vravula\\Downloads\\final_pie_env\\detection\\dataset\\detection_set04_video_0009_05940.png: 640x640 2 crossings, 5.0ms\n",
      "image 585/790 C:\\Users\\vravula\\Downloads\\final_pie_env\\detection\\dataset\\detection_set04_video_0009_05970.png: 640x640 (no detections), 6.0ms\n",
      "image 586/790 C:\\Users\\vravula\\Downloads\\final_pie_env\\detection\\dataset\\detection_set04_video_0009_06000.png: 640x640 (no detections), 5.0ms\n",
      "image 587/790 C:\\Users\\vravula\\Downloads\\final_pie_env\\detection\\dataset\\detection_set04_video_0009_06030.png: 640x640 1 not-crossing, 5.2ms\n",
      "image 588/790 C:\\Users\\vravula\\Downloads\\final_pie_env\\detection\\dataset\\detection_set04_video_0009_06060.png: 640x640 2 not-crossings, 6.0ms\n",
      "image 589/790 C:\\Users\\vravula\\Downloads\\final_pie_env\\detection\\dataset\\detection_set04_video_0009_06090.png: 640x640 1 not-crossing, 6.6ms\n",
      "image 590/790 C:\\Users\\vravula\\Downloads\\final_pie_env\\detection\\dataset\\detection_set04_video_0009_06120.png: 640x640 1 not-crossing, 7.0ms\n",
      "image 591/790 C:\\Users\\vravula\\Downloads\\final_pie_env\\detection\\dataset\\detection_set04_video_0009_06150.png: 640x640 (no detections), 4.5ms\n",
      "image 592/790 C:\\Users\\vravula\\Downloads\\final_pie_env\\detection\\dataset\\detection_set04_video_0009_06180.png: 640x640 1 not-crossing, 5.0ms\n",
      "image 593/790 C:\\Users\\vravula\\Downloads\\final_pie_env\\detection\\dataset\\detection_set04_video_0009_06210.png: 640x640 1 not-crossing, 5.0ms\n",
      "image 594/790 C:\\Users\\vravula\\Downloads\\final_pie_env\\detection\\dataset\\detection_set04_video_0009_06240.png: 640x640 1 not-crossing, 6.1ms\n",
      "image 595/790 C:\\Users\\vravula\\Downloads\\final_pie_env\\detection\\dataset\\detection_set04_video_0009_06270.png: 640x640 (no detections), 5.0ms\n",
      "image 596/790 C:\\Users\\vravula\\Downloads\\final_pie_env\\detection\\dataset\\detection_set04_video_0009_06300.png: 640x640 (no detections), 5.0ms\n",
      "image 597/790 C:\\Users\\vravula\\Downloads\\final_pie_env\\detection\\dataset\\detection_set04_video_0009_06330.png: 640x640 (no detections), 5.0ms\n",
      "image 598/790 C:\\Users\\vravula\\Downloads\\final_pie_env\\detection\\dataset\\detection_set04_video_0009_06360.png: 640x640 1 not-crossing, 5.0ms\n",
      "image 599/790 C:\\Users\\vravula\\Downloads\\final_pie_env\\detection\\dataset\\detection_set04_video_0009_06390.png: 640x640 1 not-crossing, 5.1ms\n",
      "image 600/790 C:\\Users\\vravula\\Downloads\\final_pie_env\\detection\\dataset\\detection_set04_video_0009_06420.png: 640x640 1 not-crossing, 6.0ms\n",
      "image 601/790 C:\\Users\\vravula\\Downloads\\final_pie_env\\detection\\dataset\\detection_set04_video_0009_06450.png: 640x640 (no detections), 6.1ms\n",
      "image 602/790 C:\\Users\\vravula\\Downloads\\final_pie_env\\detection\\dataset\\detection_set04_video_0009_06480.png: 640x640 2 not-crossings, 4.5ms\n",
      "image 603/790 C:\\Users\\vravula\\Downloads\\final_pie_env\\detection\\dataset\\detection_set04_video_0009_06510.png: 640x640 1 not-crossing, 6.0ms\n",
      "image 604/790 C:\\Users\\vravula\\Downloads\\final_pie_env\\detection\\dataset\\detection_set04_video_0009_06660.png: 640x640 (no detections), 5.0ms\n",
      "image 605/790 C:\\Users\\vravula\\Downloads\\final_pie_env\\detection\\dataset\\detection_set04_video_0009_06690.png: 640x640 1 not-crossing, 5.1ms\n",
      "image 606/790 C:\\Users\\vravula\\Downloads\\final_pie_env\\detection\\dataset\\detection_set04_video_0009_06720.png: 640x640 1 crossing, 5.2ms\n",
      "image 607/790 C:\\Users\\vravula\\Downloads\\final_pie_env\\detection\\dataset\\detection_set04_video_0009_06750.png: 640x640 (no detections), 5.0ms\n",
      "image 608/790 C:\\Users\\vravula\\Downloads\\final_pie_env\\detection\\dataset\\detection_set04_video_0009_06780.png: 640x640 (no detections), 5.0ms\n",
      "image 609/790 C:\\Users\\vravula\\Downloads\\final_pie_env\\detection\\dataset\\detection_set04_video_0009_06810.png: 640x640 (no detections), 6.0ms\n",
      "image 610/790 C:\\Users\\vravula\\Downloads\\final_pie_env\\detection\\dataset\\detection_set04_video_0009_06840.png: 640x640 (no detections), 5.5ms\n",
      "image 611/790 C:\\Users\\vravula\\Downloads\\final_pie_env\\detection\\dataset\\detection_set04_video_0009_06870.png: 640x640 (no detections), 5.0ms\n",
      "image 612/790 C:\\Users\\vravula\\Downloads\\final_pie_env\\detection\\dataset\\detection_set04_video_0009_06900.png: 640x640 (no detections), 5.0ms\n",
      "image 613/790 C:\\Users\\vravula\\Downloads\\final_pie_env\\detection\\dataset\\detection_set04_video_0009_06930.png: 640x640 (no detections), 5.0ms\n",
      "image 614/790 C:\\Users\\vravula\\Downloads\\final_pie_env\\detection\\dataset\\detection_set04_video_0009_06960.png: 640x640 2 not-crossings, 5.6ms\n",
      "image 615/790 C:\\Users\\vravula\\Downloads\\final_pie_env\\detection\\dataset\\detection_set04_video_0009_06990.png: 640x640 1 not-crossing, 6.5ms\n",
      "image 616/790 C:\\Users\\vravula\\Downloads\\final_pie_env\\detection\\dataset\\detection_set04_video_0009_07020.png: 640x640 (no detections), 5.2ms\n",
      "image 617/790 C:\\Users\\vravula\\Downloads\\final_pie_env\\detection\\dataset\\detection_set04_video_0009_07050.png: 640x640 1 not-crossing, 5.0ms\n",
      "image 618/790 C:\\Users\\vravula\\Downloads\\final_pie_env\\detection\\dataset\\detection_set04_video_0009_07080.png: 640x640 2 not-crossings, 5.0ms\n",
      "image 619/790 C:\\Users\\vravula\\Downloads\\final_pie_env\\detection\\dataset\\detection_set04_video_0009_07110.png: 640x640 1 crossing, 2 not-crossings, 5.0ms\n",
      "image 620/790 C:\\Users\\vravula\\Downloads\\final_pie_env\\detection\\dataset\\detection_set04_video_0009_08490.png: 640x640 (no detections), 5.0ms\n",
      "image 621/790 C:\\Users\\vravula\\Downloads\\final_pie_env\\detection\\dataset\\detection_set04_video_0009_08520.png: 640x640 (no detections), 5.1ms\n",
      "image 622/790 C:\\Users\\vravula\\Downloads\\final_pie_env\\detection\\dataset\\detection_set04_video_0009_08550.png: 640x640 (no detections), 5.5ms\n",
      "image 623/790 C:\\Users\\vravula\\Downloads\\final_pie_env\\detection\\dataset\\detection_set04_video_0009_08580.png: 640x640 1 not-crossing, 5.0ms\n",
      "image 624/790 C:\\Users\\vravula\\Downloads\\final_pie_env\\detection\\dataset\\detection_set04_video_0009_08610.png: 640x640 (no detections), 6.1ms\n",
      "image 625/790 C:\\Users\\vravula\\Downloads\\final_pie_env\\detection\\dataset\\detection_set04_video_0009_08640.png: 640x640 2 not-crossings, 5.0ms\n",
      "image 626/790 C:\\Users\\vravula\\Downloads\\final_pie_env\\detection\\dataset\\detection_set04_video_0009_08670.png: 640x640 4 not-crossings, 5.0ms\n",
      "image 627/790 C:\\Users\\vravula\\Downloads\\final_pie_env\\detection\\dataset\\detection_set04_video_0009_08700.png: 640x640 1 not-crossing, 5.5ms\n",
      "image 628/790 C:\\Users\\vravula\\Downloads\\final_pie_env\\detection\\dataset\\detection_set04_video_0009_08730.png: 640x640 1 not-crossing, 5.0ms\n",
      "image 629/790 C:\\Users\\vravula\\Downloads\\final_pie_env\\detection\\dataset\\detection_set04_video_0009_08820.png: 640x640 (no detections), 6.1ms\n",
      "image 630/790 C:\\Users\\vravula\\Downloads\\final_pie_env\\detection\\dataset\\detection_set04_video_0009_08850.png: 640x640 (no detections), 5.0ms\n",
      "image 631/790 C:\\Users\\vravula\\Downloads\\final_pie_env\\detection\\dataset\\detection_set04_video_0009_08880.png: 640x640 (no detections), 5.0ms\n",
      "image 632/790 C:\\Users\\vravula\\Downloads\\final_pie_env\\detection\\dataset\\detection_set04_video_0009_08910.png: 640x640 (no detections), 6.1ms\n",
      "image 633/790 C:\\Users\\vravula\\Downloads\\final_pie_env\\detection\\dataset\\detection_set04_video_0009_08940.png: 640x640 (no detections), 5.0ms\n",
      "image 634/790 C:\\Users\\vravula\\Downloads\\final_pie_env\\detection\\dataset\\detection_set04_video_0009_08970.png: 640x640 (no detections), 5.0ms\n",
      "image 635/790 C:\\Users\\vravula\\Downloads\\final_pie_env\\detection\\dataset\\detection_set04_video_0009_09000.png: 640x640 (no detections), 6.0ms\n",
      "image 636/790 C:\\Users\\vravula\\Downloads\\final_pie_env\\detection\\dataset\\detection_set04_video_0009_09030.png: 640x640 (no detections), 5.0ms\n",
      "image 637/790 C:\\Users\\vravula\\Downloads\\final_pie_env\\detection\\dataset\\detection_set04_video_0009_09060.png: 640x640 (no detections), 5.0ms\n",
      "image 638/790 C:\\Users\\vravula\\Downloads\\final_pie_env\\detection\\dataset\\detection_set04_video_0009_09090.png: 640x640 (no detections), 5.0ms\n",
      "image 639/790 C:\\Users\\vravula\\Downloads\\final_pie_env\\detection\\dataset\\detection_set04_video_0009_09120.png: 640x640 (no detections), 5.0ms\n",
      "image 640/790 C:\\Users\\vravula\\Downloads\\final_pie_env\\detection\\dataset\\detection_set04_video_0009_09150.png: 640x640 (no detections), 5.3ms\n",
      "image 641/790 C:\\Users\\vravula\\Downloads\\final_pie_env\\detection\\dataset\\detection_set04_video_0009_09180.png: 640x640 (no detections), 5.0ms\n",
      "image 642/790 C:\\Users\\vravula\\Downloads\\final_pie_env\\detection\\dataset\\detection_set04_video_0009_09210.png: 640x640 1 not-crossing, 4.5ms\n",
      "image 643/790 C:\\Users\\vravula\\Downloads\\final_pie_env\\detection\\dataset\\detection_set04_video_0009_09240.png: 640x640 1 not-crossing, 5.0ms\n",
      "image 644/790 C:\\Users\\vravula\\Downloads\\final_pie_env\\detection\\dataset\\detection_set04_video_0009_09270.png: 640x640 3 not-crossings, 5.0ms\n",
      "image 645/790 C:\\Users\\vravula\\Downloads\\final_pie_env\\detection\\dataset\\detection_set04_video_0009_09300.png: 640x640 6 not-crossings, 5.6ms\n",
      "image 646/790 C:\\Users\\vravula\\Downloads\\final_pie_env\\detection\\dataset\\detection_set04_video_0009_09330.png: 640x640 2 not-crossings, 5.0ms\n",
      "image 647/790 C:\\Users\\vravula\\Downloads\\final_pie_env\\detection\\dataset\\detection_set04_video_0009_09360.png: 640x640 (no detections), 5.0ms\n",
      "image 648/790 C:\\Users\\vravula\\Downloads\\final_pie_env\\detection\\dataset\\detection_set04_video_0009_09390.png: 640x640 2 not-crossings, 5.0ms\n",
      "image 649/790 C:\\Users\\vravula\\Downloads\\final_pie_env\\detection\\dataset\\detection_set04_video_0009_09840.png: 640x640 3 not-crossings, 5.0ms\n",
      "image 650/790 C:\\Users\\vravula\\Downloads\\final_pie_env\\detection\\dataset\\detection_set04_video_0009_09870.png: 640x640 4 not-crossings, 5.0ms\n",
      "image 651/790 C:\\Users\\vravula\\Downloads\\final_pie_env\\detection\\dataset\\detection_set04_video_0009_09900.png: 640x640 3 not-crossings, 5.0ms\n",
      "image 652/790 C:\\Users\\vravula\\Downloads\\final_pie_env\\detection\\dataset\\detection_set04_video_0009_09930.png: 640x640 (no detections), 5.1ms\n",
      "image 653/790 C:\\Users\\vravula\\Downloads\\final_pie_env\\detection\\dataset\\detection_set04_video_0009_10110.png: 640x640 (no detections), 5.0ms\n",
      "image 654/790 C:\\Users\\vravula\\Downloads\\final_pie_env\\detection\\dataset\\detection_set04_video_0009_10140.png: 640x640 (no detections), 5.0ms\n",
      "image 655/790 C:\\Users\\vravula\\Downloads\\final_pie_env\\detection\\dataset\\detection_set04_video_0009_10170.png: 640x640 (no detections), 6.1ms\n",
      "image 656/790 C:\\Users\\vravula\\Downloads\\final_pie_env\\detection\\dataset\\detection_set04_video_0009_10200.png: 640x640 (no detections), 5.3ms\n",
      "image 657/790 C:\\Users\\vravula\\Downloads\\final_pie_env\\detection\\dataset\\detection_set04_video_0009_10230.png: 640x640 (no detections), 5.1ms\n",
      "image 658/790 C:\\Users\\vravula\\Downloads\\final_pie_env\\detection\\dataset\\detection_set04_video_0009_10260.png: 640x640 (no detections), 5.0ms\n",
      "image 659/790 C:\\Users\\vravula\\Downloads\\final_pie_env\\detection\\dataset\\detection_set04_video_0009_10290.png: 640x640 (no detections), 5.0ms\n",
      "image 660/790 C:\\Users\\vravula\\Downloads\\final_pie_env\\detection\\dataset\\detection_set04_video_0009_10320.png: 640x640 (no detections), 5.5ms\n",
      "image 661/790 C:\\Users\\vravula\\Downloads\\final_pie_env\\detection\\dataset\\detection_set04_video_0009_10350.png: 640x640 1 not-crossing, 5.0ms\n",
      "image 662/790 C:\\Users\\vravula\\Downloads\\final_pie_env\\detection\\dataset\\detection_set04_video_0009_10380.png: 640x640 (no detections), 6.0ms\n",
      "image 663/790 C:\\Users\\vravula\\Downloads\\final_pie_env\\detection\\dataset\\detection_set04_video_0009_10410.png: 640x640 (no detections), 5.1ms\n",
      "image 664/790 C:\\Users\\vravula\\Downloads\\final_pie_env\\detection\\dataset\\detection_set04_video_0009_10440.png: 640x640 1 crossing, 6.0ms\n",
      "image 665/790 C:\\Users\\vravula\\Downloads\\final_pie_env\\detection\\dataset\\detection_set04_video_0009_10470.png: 640x640 (no detections), 5.0ms\n",
      "image 666/790 C:\\Users\\vravula\\Downloads\\final_pie_env\\detection\\dataset\\detection_set04_video_0009_10500.png: 640x640 (no detections), 5.0ms\n",
      "image 667/790 C:\\Users\\vravula\\Downloads\\final_pie_env\\detection\\dataset\\detection_set04_video_0009_10530.png: 640x640 (no detections), 5.0ms\n",
      "image 668/790 C:\\Users\\vravula\\Downloads\\final_pie_env\\detection\\dataset\\detection_set04_video_0009_10560.png: 640x640 (no detections), 5.0ms\n",
      "image 669/790 C:\\Users\\vravula\\Downloads\\final_pie_env\\detection\\dataset\\detection_set04_video_0009_10740.png: 640x640 (no detections), 5.0ms\n",
      "image 670/790 C:\\Users\\vravula\\Downloads\\final_pie_env\\detection\\dataset\\detection_set04_video_0009_10770.png: 640x640 (no detections), 5.0ms\n",
      "image 671/790 C:\\Users\\vravula\\Downloads\\final_pie_env\\detection\\dataset\\detection_set04_video_0009_10800.png: 640x640 2 not-crossings, 5.0ms\n",
      "image 672/790 C:\\Users\\vravula\\Downloads\\final_pie_env\\detection\\dataset\\detection_set04_video_0009_10830.png: 640x640 (no detections), 6.1ms\n",
      "image 673/790 C:\\Users\\vravula\\Downloads\\final_pie_env\\detection\\dataset\\detection_set04_video_0009_11070.png: 640x640 (no detections), 6.0ms\n",
      "image 674/790 C:\\Users\\vravula\\Downloads\\final_pie_env\\detection\\dataset\\detection_set04_video_0009_11100.png: 640x640 2 not-crossings, 5.0ms\n",
      "image 675/790 C:\\Users\\vravula\\Downloads\\final_pie_env\\detection\\dataset\\detection_set04_video_0009_11130.png: 640x640 1 crossing, 5.1ms\n",
      "image 676/790 C:\\Users\\vravula\\Downloads\\final_pie_env\\detection\\dataset\\detection_set04_video_0009_11160.png: 640x640 1 crossing, 6.1ms\n",
      "image 677/790 C:\\Users\\vravula\\Downloads\\final_pie_env\\detection\\dataset\\detection_set04_video_0009_11190.png: 640x640 1 crossing, 1 not-crossing, 6.0ms\n",
      "image 678/790 C:\\Users\\vravula\\Downloads\\final_pie_env\\detection\\dataset\\detection_set04_video_0009_11220.png: 640x640 1 crossing, 5.1ms\n",
      "image 679/790 C:\\Users\\vravula\\Downloads\\final_pie_env\\detection\\dataset\\detection_set04_video_0009_11250.png: 640x640 1 crossing, 5.0ms\n",
      "image 680/790 C:\\Users\\vravula\\Downloads\\final_pie_env\\detection\\dataset\\detection_set04_video_0009_11370.png: 640x640 (no detections), 5.0ms\n",
      "image 681/790 C:\\Users\\vravula\\Downloads\\final_pie_env\\detection\\dataset\\detection_set04_video_0009_11400.png: 640x640 1 not-crossing, 5.1ms\n",
      "image 682/790 C:\\Users\\vravula\\Downloads\\final_pie_env\\detection\\dataset\\detection_set04_video_0009_11430.png: 640x640 1 not-crossing, 5.0ms\n",
      "image 683/790 C:\\Users\\vravula\\Downloads\\final_pie_env\\detection\\dataset\\detection_set04_video_0009_11460.png: 640x640 (no detections), 5.2ms\n",
      "image 684/790 C:\\Users\\vravula\\Downloads\\final_pie_env\\detection\\dataset\\detection_set04_video_0009_11490.png: 640x640 1 crossing, 5.0ms\n",
      "image 685/790 C:\\Users\\vravula\\Downloads\\final_pie_env\\detection\\dataset\\detection_set04_video_0009_11520.png: 640x640 (no detections), 5.0ms\n",
      "image 686/790 C:\\Users\\vravula\\Downloads\\final_pie_env\\detection\\dataset\\detection_set04_video_0009_11850.png: 640x640 1 not-crossing, 5.1ms\n",
      "image 687/790 C:\\Users\\vravula\\Downloads\\final_pie_env\\detection\\dataset\\detection_set04_video_0009_11880.png: 640x640 1 not-crossing, 6.0ms\n",
      "image 688/790 C:\\Users\\vravula\\Downloads\\final_pie_env\\detection\\dataset\\detection_set04_video_0009_11910.png: 640x640 (no detections), 6.0ms\n",
      "image 689/790 C:\\Users\\vravula\\Downloads\\final_pie_env\\detection\\dataset\\detection_set04_video_0009_11940.png: 640x640 1 not-crossing, 5.1ms\n",
      "image 690/790 C:\\Users\\vravula\\Downloads\\final_pie_env\\detection\\dataset\\detection_set04_video_0009_11970.png: 640x640 1 not-crossing, 5.0ms\n",
      "image 691/790 C:\\Users\\vravula\\Downloads\\final_pie_env\\detection\\dataset\\detection_set04_video_0009_12000.png: 640x640 2 not-crossings, 5.0ms\n",
      "image 692/790 C:\\Users\\vravula\\Downloads\\final_pie_env\\detection\\dataset\\detection_set04_video_0009_12030.png: 640x640 (no detections), 6.0ms\n",
      "image 693/790 C:\\Users\\vravula\\Downloads\\final_pie_env\\detection\\dataset\\detection_set04_video_0009_12060.png: 640x640 (no detections), 6.1ms\n",
      "image 694/790 C:\\Users\\vravula\\Downloads\\final_pie_env\\detection\\dataset\\detection_set04_video_0009_12090.png: 640x640 (no detections), 5.6ms\n",
      "image 695/790 C:\\Users\\vravula\\Downloads\\final_pie_env\\detection\\dataset\\detection_set04_video_0009_12120.png: 640x640 (no detections), 6.0ms\n",
      "image 696/790 C:\\Users\\vravula\\Downloads\\final_pie_env\\detection\\dataset\\detection_set04_video_0009_12150.png: 640x640 (no detections), 6.3ms\n",
      "image 697/790 C:\\Users\\vravula\\Downloads\\final_pie_env\\detection\\dataset\\detection_set04_video_0009_12180.png: 640x640 (no detections), 6.0ms\n",
      "image 698/790 C:\\Users\\vravula\\Downloads\\final_pie_env\\detection\\dataset\\detection_set04_video_0009_12210.png: 640x640 (no detections), 6.0ms\n",
      "image 699/790 C:\\Users\\vravula\\Downloads\\final_pie_env\\detection\\dataset\\detection_set04_video_0009_12240.png: 640x640 (no detections), 6.5ms\n",
      "image 700/790 C:\\Users\\vravula\\Downloads\\final_pie_env\\detection\\dataset\\detection_set04_video_0009_12270.png: 640x640 1 not-crossing, 6.0ms\n",
      "image 701/790 C:\\Users\\vravula\\Downloads\\final_pie_env\\detection\\dataset\\detection_set04_video_0009_12300.png: 640x640 1 not-crossing, 6.0ms\n",
      "image 702/790 C:\\Users\\vravula\\Downloads\\final_pie_env\\detection\\dataset\\detection_set04_video_0009_12330.png: 640x640 1 not-crossing, 5.0ms\n",
      "image 703/790 C:\\Users\\vravula\\Downloads\\final_pie_env\\detection\\dataset\\detection_set04_video_0009_12360.png: 640x640 1 not-crossing, 4.1ms\n",
      "image 704/790 C:\\Users\\vravula\\Downloads\\final_pie_env\\detection\\dataset\\detection_set04_video_0009_12390.png: 640x640 2 crossings, 2 not-crossings, 5.5ms\n",
      "image 705/790 C:\\Users\\vravula\\Downloads\\final_pie_env\\detection\\dataset\\detection_set04_video_0009_12420.png: 640x640 2 not-crossings, 5.0ms\n",
      "image 706/790 C:\\Users\\vravula\\Downloads\\final_pie_env\\detection\\dataset\\detection_set04_video_0009_14130.png: 640x640 (no detections), 5.0ms\n",
      "image 707/790 C:\\Users\\vravula\\Downloads\\final_pie_env\\detection\\dataset\\detection_set04_video_0009_14160.png: 640x640 (no detections), 5.0ms\n",
      "image 708/790 C:\\Users\\vravula\\Downloads\\final_pie_env\\detection\\dataset\\detection_set04_video_0009_14190.png: 640x640 (no detections), 5.6ms\n",
      "image 709/790 C:\\Users\\vravula\\Downloads\\final_pie_env\\detection\\dataset\\detection_set04_video_0009_14220.png: 640x640 (no detections), 5.0ms\n",
      "image 710/790 C:\\Users\\vravula\\Downloads\\final_pie_env\\detection\\dataset\\detection_set04_video_0009_14250.png: 640x640 1 crossing, 4.4ms\n",
      "image 711/790 C:\\Users\\vravula\\Downloads\\final_pie_env\\detection\\dataset\\detection_set04_video_0009_14280.png: 640x640 (no detections), 6.1ms\n",
      "image 712/790 C:\\Users\\vravula\\Downloads\\final_pie_env\\detection\\dataset\\detection_set04_video_0009_14310.png: 640x640 (no detections), 5.0ms\n",
      "image 713/790 C:\\Users\\vravula\\Downloads\\final_pie_env\\detection\\dataset\\detection_set04_video_0009_14340.png: 640x640 (no detections), 5.2ms\n",
      "image 714/790 C:\\Users\\vravula\\Downloads\\final_pie_env\\detection\\dataset\\detection_set04_video_0009_14370.png: 640x640 (no detections), 5.0ms\n",
      "image 715/790 C:\\Users\\vravula\\Downloads\\final_pie_env\\detection\\dataset\\detection_set04_video_0009_14400.png: 640x640 (no detections), 5.0ms\n",
      "image 716/790 C:\\Users\\vravula\\Downloads\\final_pie_env\\detection\\dataset\\detection_set04_video_0009_14430.png: 640x640 (no detections), 6.1ms\n",
      "image 717/790 C:\\Users\\vravula\\Downloads\\final_pie_env\\detection\\dataset\\detection_set04_video_0009_14460.png: 640x640 (no detections), 5.0ms\n",
      "image 718/790 C:\\Users\\vravula\\Downloads\\final_pie_env\\detection\\dataset\\detection_set04_video_0009_14490.png: 640x640 (no detections), 4.5ms\n",
      "image 719/790 C:\\Users\\vravula\\Downloads\\final_pie_env\\detection\\dataset\\detection_set04_video_0009_14520.png: 640x640 (no detections), 6.0ms\n",
      "image 720/790 C:\\Users\\vravula\\Downloads\\final_pie_env\\detection\\dataset\\detection_set04_video_0009_14550.png: 640x640 (no detections), 5.5ms\n",
      "image 721/790 C:\\Users\\vravula\\Downloads\\final_pie_env\\detection\\dataset\\detection_set04_video_0009_14580.png: 640x640 (no detections), 5.0ms\n",
      "image 722/790 C:\\Users\\vravula\\Downloads\\final_pie_env\\detection\\dataset\\detection_set04_video_0009_14610.png: 640x640 (no detections), 5.0ms\n",
      "image 723/790 C:\\Users\\vravula\\Downloads\\final_pie_env\\detection\\dataset\\detection_set04_video_0009_14640.png: 640x640 (no detections), 6.0ms\n",
      "image 724/790 C:\\Users\\vravula\\Downloads\\final_pie_env\\detection\\dataset\\detection_set04_video_0009_14670.png: 640x640 (no detections), 5.1ms\n",
      "image 725/790 C:\\Users\\vravula\\Downloads\\final_pie_env\\detection\\dataset\\detection_set04_video_0009_14700.png: 640x640 2 not-crossings, 5.0ms\n",
      "image 726/790 C:\\Users\\vravula\\Downloads\\final_pie_env\\detection\\dataset\\detection_set04_video_0009_14730.png: 640x640 3 not-crossings, 5.0ms\n",
      "image 727/790 C:\\Users\\vravula\\Downloads\\final_pie_env\\detection\\dataset\\detection_set04_video_0009_14760.png: 640x640 4 not-crossings, 6.0ms\n",
      "image 728/790 C:\\Users\\vravula\\Downloads\\final_pie_env\\detection\\dataset\\detection_set04_video_0009_14790.png: 640x640 2 not-crossings, 5.6ms\n",
      "image 729/790 C:\\Users\\vravula\\Downloads\\final_pie_env\\detection\\dataset\\detection_set04_video_0009_14820.png: 640x640 1 crossing, 2 not-crossings, 6.1ms\n",
      "image 730/790 C:\\Users\\vravula\\Downloads\\final_pie_env\\detection\\dataset\\detection_set04_video_0009_15180.png: 640x640 (no detections), 5.0ms\n",
      "image 731/790 C:\\Users\\vravula\\Downloads\\final_pie_env\\detection\\dataset\\detection_set04_video_0009_15210.png: 640x640 (no detections), 5.0ms\n",
      "image 732/790 C:\\Users\\vravula\\Downloads\\final_pie_env\\detection\\dataset\\detection_set04_video_0009_15240.png: 640x640 (no detections), 6.0ms\n",
      "image 733/790 C:\\Users\\vravula\\Downloads\\final_pie_env\\detection\\dataset\\detection_set04_video_0009_15270.png: 640x640 1 not-crossing, 6.5ms\n",
      "image 734/790 C:\\Users\\vravula\\Downloads\\final_pie_env\\detection\\dataset\\detection_set04_video_0009_15300.png: 640x640 3 not-crossings, 6.1ms\n",
      "image 735/790 C:\\Users\\vravula\\Downloads\\final_pie_env\\detection\\dataset\\detection_set04_video_0009_15330.png: 640x640 1 not-crossing, 6.0ms\n",
      "image 736/790 C:\\Users\\vravula\\Downloads\\final_pie_env\\detection\\dataset\\detection_set04_video_0009_15360.png: 640x640 1 not-crossing, 5.1ms\n",
      "image 737/790 C:\\Users\\vravula\\Downloads\\final_pie_env\\detection\\dataset\\detection_set04_video_0009_15390.png: 640x640 2 not-crossings, 6.5ms\n",
      "image 738/790 C:\\Users\\vravula\\Downloads\\final_pie_env\\detection\\dataset\\detection_set04_video_0009_15420.png: 640x640 2 not-crossings, 6.2ms\n",
      "image 739/790 C:\\Users\\vravula\\Downloads\\final_pie_env\\detection\\dataset\\detection_set04_video_0009_15450.png: 640x640 2 not-crossings, 5.5ms\n",
      "image 740/790 C:\\Users\\vravula\\Downloads\\final_pie_env\\detection\\dataset\\detection_set04_video_0009_15480.png: 640x640 4 not-crossings, 5.0ms\n",
      "image 741/790 C:\\Users\\vravula\\Downloads\\final_pie_env\\detection\\dataset\\detection_set04_video_0009_15510.png: 640x640 2 crossings, 1 not-crossing, 4.0ms\n",
      "image 742/790 C:\\Users\\vravula\\Downloads\\final_pie_env\\detection\\dataset\\detection_set04_video_0009_15540.png: 640x640 2 crossings, 2 not-crossings, 6.5ms\n",
      "image 743/790 C:\\Users\\vravula\\Downloads\\final_pie_env\\detection\\dataset\\detection_set04_video_0009_15570.png: 640x640 2 crossings, 2 not-crossings, 4.5ms\n",
      "image 744/790 C:\\Users\\vravula\\Downloads\\final_pie_env\\detection\\dataset\\detection_set04_video_0009_15600.png: 640x640 3 crossings, 5.0ms\n",
      "image 745/790 C:\\Users\\vravula\\Downloads\\final_pie_env\\detection\\dataset\\detection_set04_video_0009_15630.png: 640x640 3 crossings, 5.0ms\n",
      "image 746/790 C:\\Users\\vravula\\Downloads\\final_pie_env\\detection\\dataset\\detection_set04_video_0009_15660.png: 640x640 2 crossings, 6.0ms\n",
      "image 747/790 C:\\Users\\vravula\\Downloads\\final_pie_env\\detection\\dataset\\detection_set04_video_0009_15690.png: 640x640 3 crossings, 6.1ms\n",
      "image 748/790 C:\\Users\\vravula\\Downloads\\final_pie_env\\detection\\dataset\\detection_set04_video_0009_15720.png: 640x640 3 crossings, 5.0ms\n",
      "image 749/790 C:\\Users\\vravula\\Downloads\\final_pie_env\\detection\\dataset\\detection_set04_video_0009_15750.png: 640x640 1 crossing, 6.0ms\n",
      "image 750/790 C:\\Users\\vravula\\Downloads\\final_pie_env\\detection\\dataset\\detection_set04_video_0009_15780.png: 640x640 1 crossing, 1 not-crossing, 5.0ms\n",
      "image 751/790 C:\\Users\\vravula\\Downloads\\final_pie_env\\detection\\dataset\\detection_set04_video_0009_15810.png: 640x640 1 not-crossing, 5.0ms\n",
      "image 752/790 C:\\Users\\vravula\\Downloads\\final_pie_env\\detection\\dataset\\detection_set04_video_0009_15840.png: 640x640 1 crossing, 6.0ms\n",
      "image 753/790 C:\\Users\\vravula\\Downloads\\final_pie_env\\detection\\dataset\\detection_set04_video_0009_15870.png: 640x640 1 crossing, 2 not-crossings, 4.0ms\n",
      "image 754/790 C:\\Users\\vravula\\Downloads\\final_pie_env\\detection\\dataset\\detection_set04_video_0009_15900.png: 640x640 1 crossing, 2 not-crossings, 5.1ms\n",
      "image 755/790 C:\\Users\\vravula\\Downloads\\final_pie_env\\detection\\dataset\\detection_set04_video_0009_15930.png: 640x640 1 crossing, 2 not-crossings, 5.0ms\n",
      "image 756/790 C:\\Users\\vravula\\Downloads\\final_pie_env\\detection\\dataset\\detection_set04_video_0009_15960.png: 640x640 1 crossing, 2 not-crossings, 4.8ms\n",
      "image 757/790 C:\\Users\\vravula\\Downloads\\final_pie_env\\detection\\dataset\\detection_set04_video_0009_15990.png: 640x640 1 crossing, 2 not-crossings, 5.0ms\n",
      "image 758/790 C:\\Users\\vravula\\Downloads\\final_pie_env\\detection\\dataset\\detection_set04_video_0009_16020.png: 640x640 1 crossing, 2 not-crossings, 6.1ms\n",
      "image 759/790 C:\\Users\\vravula\\Downloads\\final_pie_env\\detection\\dataset\\detection_set04_video_0009_16050.png: 640x640 2 not-crossings, 5.0ms\n",
      "image 760/790 C:\\Users\\vravula\\Downloads\\final_pie_env\\detection\\dataset\\detection_set04_video_0009_16080.png: 640x640 2 not-crossings, 5.0ms\n",
      "image 761/790 C:\\Users\\vravula\\Downloads\\final_pie_env\\detection\\dataset\\detection_set04_video_0009_16110.png: 640x640 4 not-crossings, 5.0ms\n",
      "image 762/790 C:\\Users\\vravula\\Downloads\\final_pie_env\\detection\\dataset\\detection_set04_video_0009_16140.png: 640x640 3 not-crossings, 4.5ms\n",
      "image 763/790 C:\\Users\\vravula\\Downloads\\final_pie_env\\detection\\dataset\\detection_set04_video_0009_16170.png: 640x640 3 not-crossings, 5.0ms\n",
      "image 764/790 C:\\Users\\vravula\\Downloads\\final_pie_env\\detection\\dataset\\detection_set04_video_0009_16200.png: 640x640 4 not-crossings, 4.5ms\n",
      "image 765/790 C:\\Users\\vravula\\Downloads\\final_pie_env\\detection\\dataset\\detection_set04_video_0009_16230.png: 640x640 4 not-crossings, 5.6ms\n",
      "image 766/790 C:\\Users\\vravula\\Downloads\\final_pie_env\\detection\\dataset\\detection_set04_video_0009_16260.png: 640x640 2 not-crossings, 4.0ms\n",
      "image 767/790 C:\\Users\\vravula\\Downloads\\final_pie_env\\detection\\dataset\\detection_set04_video_0009_16290.png: 640x640 4 not-crossings, 4.5ms\n",
      "image 768/790 C:\\Users\\vravula\\Downloads\\final_pie_env\\detection\\dataset\\detection_set04_video_0009_16320.png: 640x640 3 not-crossings, 5.0ms\n",
      "image 769/790 C:\\Users\\vravula\\Downloads\\final_pie_env\\detection\\dataset\\detection_set04_video_0009_16350.png: 640x640 4 not-crossings, 5.0ms\n",
      "image 770/790 C:\\Users\\vravula\\Downloads\\final_pie_env\\detection\\dataset\\detection_set04_video_0009_16380.png: 640x640 3 not-crossings, 5.0ms\n",
      "image 771/790 C:\\Users\\vravula\\Downloads\\final_pie_env\\detection\\dataset\\detection_set04_video_0009_16410.png: 640x640 3 not-crossings, 5.0ms\n",
      "image 772/790 C:\\Users\\vravula\\Downloads\\final_pie_env\\detection\\dataset\\detection_set04_video_0009_16440.png: 640x640 3 not-crossings, 5.0ms\n",
      "image 773/790 C:\\Users\\vravula\\Downloads\\final_pie_env\\detection\\dataset\\detection_set04_video_0009_16470.png: 640x640 3 not-crossings, 5.0ms\n",
      "image 774/790 C:\\Users\\vravula\\Downloads\\final_pie_env\\detection\\dataset\\detection_set04_video_0009_16500.png: 640x640 3 not-crossings, 5.1ms\n",
      "image 775/790 C:\\Users\\vravula\\Downloads\\final_pie_env\\detection\\dataset\\detection_set04_video_0009_16530.png: 640x640 4 not-crossings, 5.0ms\n",
      "image 776/790 C:\\Users\\vravula\\Downloads\\final_pie_env\\detection\\dataset\\detection_set04_video_0009_16560.png: 640x640 3 not-crossings, 6.0ms\n",
      "image 777/790 C:\\Users\\vravula\\Downloads\\final_pie_env\\detection\\dataset\\detection_set04_video_0009_16590.png: 640x640 3 not-crossings, 5.0ms\n",
      "image 778/790 C:\\Users\\vravula\\Downloads\\final_pie_env\\detection\\dataset\\detection_set04_video_0009_16620.png: 640x640 6 not-crossings, 5.5ms\n",
      "image 779/790 C:\\Users\\vravula\\Downloads\\final_pie_env\\detection\\dataset\\detection_set04_video_0009_16650.png: 640x640 4 not-crossings, 5.0ms\n",
      "image 780/790 C:\\Users\\vravula\\Downloads\\final_pie_env\\detection\\dataset\\detection_set04_video_0009_16680.png: 640x640 1 not-crossing, 5.0ms\n",
      "image 781/790 C:\\Users\\vravula\\Downloads\\final_pie_env\\detection\\dataset\\detection_set04_video_0009_16710.png: 640x640 (no detections), 4.1ms\n",
      "image 782/790 C:\\Users\\vravula\\Downloads\\final_pie_env\\detection\\dataset\\detection_set04_video_0009_16740.png: 640x640 1 not-crossing, 5.0ms\n",
      "image 783/790 C:\\Users\\vravula\\Downloads\\final_pie_env\\detection\\dataset\\detection_set04_video_0009_16770.png: 640x640 (no detections), 5.0ms\n",
      "image 784/790 C:\\Users\\vravula\\Downloads\\final_pie_env\\detection\\dataset\\detection_set04_video_0009_16800.png: 640x640 (no detections), 6.1ms\n",
      "image 785/790 C:\\Users\\vravula\\Downloads\\final_pie_env\\detection\\dataset\\detection_set04_video_0009_16830.png: 640x640 1 not-crossing, 5.0ms\n",
      "image 786/790 C:\\Users\\vravula\\Downloads\\final_pie_env\\detection\\dataset\\detection_set04_video_0009_16860.png: 640x640 2 not-crossings, 5.0ms\n",
      "image 787/790 C:\\Users\\vravula\\Downloads\\final_pie_env\\detection\\dataset\\detection_set04_video_0009_16890.png: 640x640 1 crossing, 2 not-crossings, 6.0ms\n",
      "image 788/790 C:\\Users\\vravula\\Downloads\\final_pie_env\\detection\\dataset\\detection_set04_video_0009_16920.png: 640x640 1 crossing, 1 not-crossing, 6.0ms\n",
      "image 789/790 C:\\Users\\vravula\\Downloads\\final_pie_env\\detection\\dataset\\detection_set04_video_0009_16950.png: 640x640 (no detections), 6.0ms\n",
      "image 790/790 C:\\Users\\vravula\\Downloads\\final_pie_env\\detection\\dataset\\detection_set04_video_0009_16980.png: 640x640 (no detections), 5.0ms\n",
      "Speed: 0.7ms preprocess, 5.3ms inference, 0.9ms postprocess per image at shape (1, 3, 640, 640)\n",
      "Results saved to \u001b[1mruns\\detect\\predict\u001b[0m\n",
      "527 labels saved to runs\\detect\\predict\\labels\n",
      "💡 Learn more at https://docs.ultralytics.com/modes/predict\n"
     ]
    }
   ],
   "source": [
    "!yolo task=detect mode=predict model= \"C:\\Users\\vravula\\Downloads\\final_pie_env\\training\\training_results\\train2\\weights\\best.pt\" source= \"C:\\Users\\vravula\\Downloads\\final_pie_env\\detection\\dataset\" imgsz=640 save=False save_txt=True save_conf=True"
   ]
  },
  {
   "cell_type": "code",
   "execution_count": 10,
   "metadata": {},
   "outputs": [],
   "source": [
    "# Create the 'training_dataset' directory if it doesn't exist\n",
    "training_dataset_directory = os.path.join('runs', 'detect', 'predict', 'images')\n",
    "os.makedirs(training_dataset_directory) if not os.path.exists(training_dataset_directory) else None"
   ]
  },
  {
   "cell_type": "code",
   "execution_count": 11,
   "metadata": {},
   "outputs": [
    {
     "name": "stdout",
     "output_type": "stream",
     "text": [
      "Path Copied!\n"
     ]
    }
   ],
   "source": [
    "path = 'C:/Users/vravula/Downloads/final_pie_env/runs/detect/predict/labels/'\n",
    "img_path = 'C:/Users/vravula/Downloads/final_pie_env/detection/dataset/'\n",
    "save_path = 'C:/Users/vravula/Downloads/final_pie_env/runs/detect/predict/images'\n",
    "\n",
    "for fname in os.listdir(save_path):\n",
    "  if fname.endswith('.png'):\n",
    "    print(\"The path already contains images, skipping this part.\")\n",
    "    break\n",
    "else:\n",
    "  from distutils.dir_util import copy_tree\n",
    "  copy_tree(img_path, save_path)\n",
    "  print(\"Path Copied!\")"
   ]
  },
  {
   "cell_type": "code",
   "execution_count": 12,
   "metadata": {},
   "outputs": [
    {
     "name": "stdout",
     "output_type": "stream",
     "text": [
      "Saving detection_set04_video_0005_04260.png\n",
      "Saving detection_set04_video_0005_04350.png\n",
      "Saving detection_set04_video_0005_04440.png\n",
      "Saving detection_set04_video_0005_05250.png\n",
      "Saving detection_set04_video_0005_05280.png\n",
      "Saving detection_set04_video_0005_05340.png\n",
      "Saving detection_set04_video_0005_05370.png\n",
      "Saving detection_set04_video_0005_05400.png\n",
      "Saving detection_set04_video_0005_05430.png\n",
      "Saving detection_set04_video_0005_05460.png\n",
      "Saving detection_set04_video_0005_05490.png\n",
      "Saving detection_set04_video_0005_05520.png\n",
      "Saving detection_set04_video_0005_05550.png\n",
      "Saving detection_set04_video_0005_05580.png\n",
      "Saving detection_set04_video_0005_05610.png\n",
      "Saving detection_set04_video_0005_05640.png\n",
      "Saving detection_set04_video_0005_05670.png\n",
      "Saving detection_set04_video_0005_05700.png\n",
      "Saving detection_set04_video_0005_05730.png\n",
      "Saving detection_set04_video_0005_05760.png\n",
      "Saving detection_set04_video_0005_05790.png\n",
      "Saving detection_set04_video_0005_05820.png\n",
      "Saving detection_set04_video_0005_05850.png\n",
      "Saving detection_set04_video_0005_05880.png\n",
      "Saving detection_set04_video_0005_05910.png\n",
      "Saving detection_set04_video_0005_05940.png\n",
      "Saving detection_set04_video_0005_05970.png\n",
      "Saving detection_set04_video_0005_06000.png\n",
      "Saving detection_set04_video_0005_06030.png\n",
      "Saving detection_set04_video_0005_06090.png\n",
      "Saving detection_set04_video_0005_06150.png\n",
      "Saving detection_set04_video_0005_06180.png\n",
      "Saving detection_set04_video_0005_06210.png\n",
      "Saving detection_set04_video_0005_06240.png\n",
      "Saving detection_set04_video_0005_06330.png\n",
      "Saving detection_set04_video_0005_06360.png\n",
      "Saving detection_set04_video_0005_06390.png\n",
      "Saving detection_set04_video_0005_06420.png\n",
      "Saving detection_set04_video_0005_06450.png\n",
      "Saving detection_set04_video_0005_06480.png\n",
      "Saving detection_set04_video_0005_08880.png\n",
      "Saving detection_set04_video_0005_09420.png\n",
      "Saving detection_set04_video_0005_09450.png\n",
      "Saving detection_set04_video_0005_09480.png\n",
      "Saving detection_set04_video_0005_09510.png\n",
      "Saving detection_set04_video_0005_09540.png\n",
      "Saving detection_set04_video_0005_10920.png\n",
      "Saving detection_set04_video_0005_11010.png\n",
      "Saving detection_set04_video_0005_11040.png\n",
      "Saving detection_set04_video_0005_11070.png\n",
      "Saving detection_set04_video_0005_11100.png\n",
      "Saving detection_set04_video_0005_11130.png\n",
      "Saving detection_set04_video_0005_11160.png\n",
      "Saving detection_set04_video_0005_11190.png\n",
      "Saving detection_set04_video_0005_11220.png\n",
      "Saving detection_set04_video_0005_11250.png\n",
      "Saving detection_set04_video_0005_11280.png\n",
      "Saving detection_set04_video_0005_11310.png\n",
      "Saving detection_set04_video_0005_11340.png\n",
      "Saving detection_set04_video_0005_11370.png\n",
      "Saving detection_set04_video_0005_11400.png\n",
      "Saving detection_set04_video_0005_11430.png\n",
      "Saving detection_set04_video_0005_11460.png\n",
      "Saving detection_set04_video_0005_11490.png\n",
      "Saving detection_set04_video_0005_11520.png\n",
      "Saving detection_set04_video_0005_11550.png\n",
      "Saving detection_set04_video_0005_11580.png\n",
      "Saving detection_set04_video_0005_11610.png\n",
      "Saving detection_set04_video_0005_11670.png\n",
      "Saving detection_set04_video_0005_11700.png\n",
      "Saving detection_set04_video_0005_11730.png\n",
      "Saving detection_set04_video_0005_11790.png\n",
      "Saving detection_set04_video_0005_11820.png\n",
      "Saving detection_set04_video_0005_11850.png\n",
      "Saving detection_set04_video_0005_13500.png\n",
      "Saving detection_set04_video_0005_13560.png\n",
      "Saving detection_set04_video_0005_13590.png\n",
      "Saving detection_set04_video_0005_13620.png\n",
      "Saving detection_set04_video_0005_13650.png\n",
      "Saving detection_set04_video_0005_13680.png\n",
      "Saving detection_set04_video_0005_13710.png\n",
      "Saving detection_set04_video_0005_14910.png\n",
      "Saving detection_set04_video_0005_15000.png\n",
      "Saving detection_set04_video_0005_15030.png\n",
      "Saving detection_set04_video_0005_15060.png\n",
      "Saving detection_set04_video_0005_15090.png\n",
      "Saving detection_set04_video_0005_15120.png\n",
      "Saving detection_set04_video_0005_15150.png\n",
      "Saving detection_set04_video_0005_15180.png\n",
      "Saving detection_set04_video_0005_15210.png\n",
      "Saving detection_set04_video_0005_15270.png\n",
      "Saving detection_set04_video_0007_00150.png\n",
      "Saving detection_set04_video_0007_00240.png\n",
      "Saving detection_set04_video_0007_00270.png\n",
      "Saving detection_set04_video_0007_00300.png\n",
      "Saving detection_set04_video_0007_00330.png\n",
      "Saving detection_set04_video_0007_00360.png\n",
      "Saving detection_set04_video_0007_00390.png\n",
      "Saving detection_set04_video_0007_00420.png\n",
      "Saving detection_set04_video_0007_00780.png\n",
      "Saving detection_set04_video_0007_00810.png\n",
      "Saving detection_set04_video_0007_00840.png\n",
      "Saving detection_set04_video_0007_00870.png\n",
      "Saving detection_set04_video_0007_00930.png\n",
      "Saving detection_set04_video_0007_00960.png\n",
      "Saving detection_set04_video_0007_00990.png\n",
      "Saving detection_set04_video_0007_01020.png\n",
      "Saving detection_set04_video_0007_01050.png\n",
      "Saving detection_set04_video_0007_01080.png\n",
      "Saving detection_set04_video_0007_01110.png\n",
      "Saving detection_set04_video_0007_01140.png\n",
      "Saving detection_set04_video_0007_01170.png\n",
      "Saving detection_set04_video_0007_01200.png\n",
      "Saving detection_set04_video_0007_01230.png\n",
      "Saving detection_set04_video_0007_01290.png\n",
      "Saving detection_set04_video_0007_01500.png\n",
      "Saving detection_set04_video_0007_01530.png\n",
      "Saving detection_set04_video_0007_01560.png\n",
      "Saving detection_set04_video_0007_01590.png\n",
      "Saving detection_set04_video_0007_01650.png\n",
      "Saving detection_set04_video_0007_01740.png\n",
      "Saving detection_set04_video_0007_01770.png\n",
      "Saving detection_set04_video_0007_01800.png\n",
      "Saving detection_set04_video_0007_01830.png\n",
      "Saving detection_set04_video_0007_01860.png\n",
      "Saving detection_set04_video_0007_01890.png\n",
      "Saving detection_set04_video_0007_01920.png\n",
      "Saving detection_set04_video_0007_01950.png\n",
      "Saving detection_set04_video_0007_02280.png\n",
      "Saving detection_set04_video_0007_02310.png\n",
      "Saving detection_set04_video_0007_02340.png\n",
      "Saving detection_set04_video_0007_02370.png\n",
      "Saving detection_set04_video_0007_02400.png\n",
      "Saving detection_set04_video_0007_02430.png\n",
      "Saving detection_set04_video_0007_02460.png\n",
      "Saving detection_set04_video_0007_02520.png\n",
      "Saving detection_set04_video_0007_02550.png\n",
      "Saving detection_set04_video_0007_02580.png\n",
      "Saving detection_set04_video_0007_02610.png\n",
      "Saving detection_set04_video_0007_02640.png\n",
      "Saving detection_set04_video_0007_02670.png\n",
      "Saving detection_set04_video_0007_03150.png\n",
      "Saving detection_set04_video_0007_03390.png\n",
      "Saving detection_set04_video_0007_03420.png\n",
      "Saving detection_set04_video_0007_03450.png\n",
      "Saving detection_set04_video_0007_03600.png\n",
      "Saving detection_set04_video_0007_03660.png\n",
      "Saving detection_set04_video_0007_03690.png\n",
      "Saving detection_set04_video_0007_03720.png\n",
      "Saving detection_set04_video_0007_03810.png\n",
      "Saving detection_set04_video_0007_03840.png\n",
      "Saving detection_set04_video_0007_03870.png\n",
      "Saving detection_set04_video_0007_03900.png\n",
      "Saving detection_set04_video_0007_03930.png\n",
      "Saving detection_set04_video_0007_03960.png\n",
      "Saving detection_set04_video_0007_04260.png\n",
      "Saving detection_set04_video_0007_04380.png\n",
      "Saving detection_set04_video_0007_04410.png\n",
      "Saving detection_set04_video_0007_04440.png\n",
      "Saving detection_set04_video_0007_04470.png\n",
      "Saving detection_set04_video_0007_04500.png\n",
      "Saving detection_set04_video_0007_04530.png\n",
      "Saving detection_set04_video_0007_04560.png\n",
      "Saving detection_set04_video_0007_04590.png\n",
      "Saving detection_set04_video_0007_04620.png\n",
      "Saving detection_set04_video_0007_04650.png\n",
      "Saving detection_set04_video_0007_04680.png\n",
      "Saving detection_set04_video_0007_04710.png\n",
      "Saving detection_set04_video_0007_04740.png\n",
      "Saving detection_set04_video_0007_04770.png\n",
      "Saving detection_set04_video_0007_04800.png\n",
      "Saving detection_set04_video_0007_04830.png\n",
      "Saving detection_set04_video_0007_04860.png\n",
      "Saving detection_set04_video_0007_04890.png\n",
      "Saving detection_set04_video_0007_04920.png\n",
      "Saving detection_set04_video_0007_04950.png\n",
      "Saving detection_set04_video_0007_04980.png\n",
      "Saving detection_set04_video_0007_05010.png\n",
      "Saving detection_set04_video_0007_05040.png\n",
      "Saving detection_set04_video_0007_05070.png\n",
      "Saving detection_set04_video_0007_05100.png\n",
      "Saving detection_set04_video_0007_05130.png\n",
      "Saving detection_set04_video_0007_05160.png\n",
      "Saving detection_set04_video_0007_05190.png\n",
      "Saving detection_set04_video_0007_05220.png\n",
      "Saving detection_set04_video_0007_05250.png\n",
      "Saving detection_set04_video_0007_05280.png\n",
      "Saving detection_set04_video_0007_05310.png\n",
      "Saving detection_set04_video_0007_05340.png\n",
      "Saving detection_set04_video_0007_05370.png\n",
      "Saving detection_set04_video_0007_05400.png\n",
      "Saving detection_set04_video_0007_05430.png\n",
      "Saving detection_set04_video_0007_05460.png\n",
      "Saving detection_set04_video_0007_05490.png\n",
      "Saving detection_set04_video_0007_05520.png\n",
      "Saving detection_set04_video_0007_05550.png\n",
      "Saving detection_set04_video_0007_05580.png\n",
      "Saving detection_set04_video_0007_05610.png\n",
      "Saving detection_set04_video_0007_05640.png\n",
      "Saving detection_set04_video_0007_05670.png\n",
      "Saving detection_set04_video_0007_05730.png\n",
      "Saving detection_set04_video_0007_05760.png\n",
      "Saving detection_set04_video_0007_05790.png\n",
      "Saving detection_set04_video_0007_05820.png\n",
      "Saving detection_set04_video_0007_05850.png\n",
      "Saving detection_set04_video_0007_05880.png\n",
      "Saving detection_set04_video_0007_05910.png\n",
      "Saving detection_set04_video_0007_05940.png\n",
      "Saving detection_set04_video_0007_05970.png\n",
      "Saving detection_set04_video_0007_06000.png\n",
      "Saving detection_set04_video_0007_06030.png\n",
      "Saving detection_set04_video_0007_06060.png\n",
      "Saving detection_set04_video_0007_06090.png\n",
      "Saving detection_set04_video_0007_06120.png\n",
      "Saving detection_set04_video_0007_06150.png\n",
      "Saving detection_set04_video_0007_06180.png\n",
      "Saving detection_set04_video_0007_06210.png\n",
      "Saving detection_set04_video_0007_06240.png\n",
      "Saving detection_set04_video_0007_06270.png\n",
      "Saving detection_set04_video_0007_06300.png\n",
      "Saving detection_set04_video_0007_06630.png\n",
      "Saving detection_set04_video_0007_06660.png\n",
      "Saving detection_set04_video_0007_06720.png\n",
      "Saving detection_set04_video_0007_06750.png\n",
      "Saving detection_set04_video_0007_06780.png\n",
      "Saving detection_set04_video_0007_06840.png\n",
      "Saving detection_set04_video_0007_08040.png\n",
      "Saving detection_set04_video_0007_08070.png\n",
      "Saving detection_set04_video_0007_08100.png\n",
      "Saving detection_set04_video_0007_08130.png\n",
      "Saving detection_set04_video_0007_08160.png\n",
      "Saving detection_set04_video_0007_08190.png\n",
      "Saving detection_set04_video_0007_08220.png\n",
      "Saving detection_set04_video_0007_08250.png\n",
      "Saving detection_set04_video_0007_09060.png\n",
      "Saving detection_set04_video_0007_09090.png\n",
      "Saving detection_set04_video_0007_09120.png\n",
      "Saving detection_set04_video_0007_09150.png\n",
      "Saving detection_set04_video_0007_09210.png\n",
      "Saving detection_set04_video_0007_10380.png\n",
      "Saving detection_set04_video_0007_10410.png\n",
      "Saving detection_set04_video_0007_10440.png\n",
      "Saving detection_set04_video_0007_10470.png\n",
      "Saving detection_set04_video_0007_10500.png\n",
      "Saving detection_set04_video_0007_10530.png\n",
      "Saving detection_set04_video_0007_10560.png\n",
      "Saving detection_set04_video_0007_10590.png\n",
      "Saving detection_set04_video_0007_10620.png\n",
      "Saving detection_set04_video_0007_10650.png\n",
      "Saving detection_set04_video_0007_10680.png\n",
      "Saving detection_set04_video_0007_10710.png\n",
      "Saving detection_set04_video_0007_10740.png\n",
      "Saving detection_set04_video_0007_10770.png\n",
      "Saving detection_set04_video_0007_10800.png\n",
      "Saving detection_set04_video_0007_10830.png\n",
      "Saving detection_set04_video_0007_10860.png\n",
      "Saving detection_set04_video_0007_10890.png\n",
      "Saving detection_set04_video_0007_10920.png\n",
      "Saving detection_set04_video_0007_10950.png\n",
      "Saving detection_set04_video_0007_10980.png\n",
      "Saving detection_set04_video_0007_11010.png\n",
      "Saving detection_set04_video_0007_11040.png\n",
      "Saving detection_set04_video_0007_11070.png\n",
      "Saving detection_set04_video_0007_11100.png\n",
      "Saving detection_set04_video_0007_11130.png\n",
      "Saving detection_set04_video_0007_11160.png\n",
      "Saving detection_set04_video_0007_11190.png\n",
      "Saving detection_set04_video_0007_11220.png\n",
      "Saving detection_set04_video_0007_11250.png\n",
      "Saving detection_set04_video_0007_11280.png\n",
      "Saving detection_set04_video_0007_11310.png\n",
      "Saving detection_set04_video_0007_11340.png\n",
      "Saving detection_set04_video_0007_11370.png\n",
      "Saving detection_set04_video_0007_11400.png\n",
      "Saving detection_set04_video_0007_11430.png\n",
      "Saving detection_set04_video_0007_11460.png\n",
      "Saving detection_set04_video_0007_11490.png\n",
      "Saving detection_set04_video_0007_11520.png\n",
      "Saving detection_set04_video_0007_11550.png\n",
      "Saving detection_set04_video_0007_11580.png\n",
      "Saving detection_set04_video_0007_11610.png\n",
      "Saving detection_set04_video_0007_11640.png\n",
      "Saving detection_set04_video_0007_11670.png\n",
      "Saving detection_set04_video_0007_11700.png\n",
      "Saving detection_set04_video_0007_11730.png\n",
      "Saving detection_set04_video_0007_11760.png\n",
      "Saving detection_set04_video_0007_11790.png\n",
      "Saving detection_set04_video_0007_11820.png\n",
      "Saving detection_set04_video_0007_11850.png\n",
      "Saving detection_set04_video_0007_11880.png\n",
      "Saving detection_set04_video_0007_11910.png\n",
      "Saving detection_set04_video_0007_11940.png\n",
      "Saving detection_set04_video_0007_11970.png\n",
      "Saving detection_set04_video_0007_12000.png\n",
      "Saving detection_set04_video_0007_12030.png\n",
      "Saving detection_set04_video_0007_12060.png\n",
      "Saving detection_set04_video_0007_12090.png\n",
      "Saving detection_set04_video_0007_12120.png\n",
      "Saving detection_set04_video_0007_12150.png\n",
      "Saving detection_set04_video_0007_12180.png\n",
      "Saving detection_set04_video_0007_12210.png\n",
      "Saving detection_set04_video_0007_12240.png\n",
      "Saving detection_set04_video_0007_12270.png\n",
      "Saving detection_set04_video_0007_12300.png\n",
      "Saving detection_set04_video_0007_12330.png\n",
      "Saving detection_set04_video_0007_12390.png\n",
      "Saving detection_set04_video_0007_12420.png\n",
      "Saving detection_set04_video_0007_12480.png\n",
      "Saving detection_set04_video_0007_12510.png\n",
      "Saving detection_set04_video_0007_12540.png\n",
      "Saving detection_set04_video_0007_12570.png\n",
      "Saving detection_set04_video_0007_12600.png\n",
      "Saving detection_set04_video_0007_12630.png\n",
      "Saving detection_set04_video_0007_12660.png\n",
      "Saving detection_set04_video_0007_12690.png\n",
      "Saving detection_set04_video_0007_12720.png\n",
      "Saving detection_set04_video_0007_12780.png\n",
      "Saving detection_set04_video_0007_12930.png\n",
      "Saving detection_set04_video_0007_13140.png\n",
      "Saving detection_set04_video_0007_13170.png\n",
      "Saving detection_set04_video_0007_13200.png\n",
      "Saving detection_set04_video_0007_13230.png\n",
      "Saving detection_set04_video_0007_13290.png\n",
      "Saving detection_set04_video_0007_14400.png\n",
      "Saving detection_set04_video_0007_14430.png\n",
      "Saving detection_set04_video_0007_14460.png\n",
      "Saving detection_set04_video_0007_14490.png\n",
      "Saving detection_set04_video_0007_14520.png\n",
      "Saving detection_set04_video_0007_14550.png\n",
      "Saving detection_set04_video_0007_14580.png\n",
      "Saving detection_set04_video_0007_14610.png\n",
      "Saving detection_set04_video_0007_14640.png\n",
      "Saving detection_set04_video_0007_14670.png\n",
      "Saving detection_set04_video_0007_14700.png\n",
      "Saving detection_set04_video_0007_14730.png\n",
      "Saving detection_set04_video_0007_14760.png\n",
      "Saving detection_set04_video_0007_14820.png\n",
      "Saving detection_set04_video_0007_15390.png\n",
      "Saving detection_set04_video_0007_15420.png\n",
      "Saving detection_set04_video_0007_15450.png\n",
      "Saving detection_set04_video_0007_16050.png\n",
      "Saving detection_set04_video_0007_16080.png\n",
      "Saving detection_set04_video_0007_16110.png\n",
      "Saving detection_set04_video_0007_16590.png\n",
      "Saving detection_set04_video_0007_16620.png\n",
      "Saving detection_set04_video_0007_16650.png\n",
      "Saving detection_set04_video_0007_16680.png\n",
      "Saving detection_set04_video_0007_16710.png\n",
      "Saving detection_set04_video_0007_16740.png\n",
      "Saving detection_set04_video_0007_16770.png\n",
      "Saving detection_set04_video_0007_16800.png\n",
      "Saving detection_set04_video_0007_16890.png\n",
      "Saving detection_set04_video_0007_16920.png\n",
      "Saving detection_set04_video_0007_16950.png\n",
      "Saving detection_set04_video_0007_17250.png\n",
      "Saving detection_set04_video_0007_17280.png\n",
      "Saving detection_set04_video_0007_17310.png\n",
      "Saving detection_set04_video_0007_17340.png\n",
      "Saving detection_set04_video_0007_17370.png\n",
      "Saving detection_set04_video_0007_17400.png\n",
      "Saving detection_set04_video_0007_17430.png\n",
      "Saving detection_set04_video_0007_17460.png\n",
      "Saving detection_set04_video_0007_17490.png\n",
      "Saving detection_set04_video_0007_17520.png\n",
      "Saving detection_set04_video_0007_17940.png\n",
      "Saving detection_set04_video_0007_18000.png\n",
      "Saving detection_set04_video_0007_18030.png\n",
      "Saving detection_set04_video_0009_04020.png\n",
      "Saving detection_set04_video_0009_04080.png\n",
      "Saving detection_set04_video_0009_04110.png\n",
      "Saving detection_set04_video_0009_04140.png\n",
      "Saving detection_set04_video_0009_04170.png\n",
      "Saving detection_set04_video_0009_04200.png\n",
      "Saving detection_set04_video_0009_04590.png\n",
      "Saving detection_set04_video_0009_04620.png\n",
      "Saving detection_set04_video_0009_04650.png\n",
      "Saving detection_set04_video_0009_04680.png\n",
      "Saving detection_set04_video_0009_04770.png\n",
      "Saving detection_set04_video_0009_04800.png\n",
      "Saving detection_set04_video_0009_04830.png\n",
      "Saving detection_set04_video_0009_04860.png\n",
      "Saving detection_set04_video_0009_04890.png\n",
      "Saving detection_set04_video_0009_04920.png\n",
      "Saving detection_set04_video_0009_04950.png\n",
      "Saving detection_set04_video_0009_04980.png\n",
      "Saving detection_set04_video_0009_05010.png\n",
      "Saving detection_set04_video_0009_05040.png\n",
      "Saving detection_set04_video_0009_05100.png\n",
      "Saving detection_set04_video_0009_05130.png\n",
      "Saving detection_set04_video_0009_05160.png\n",
      "Saving detection_set04_video_0009_05190.png\n",
      "Saving detection_set04_video_0009_05220.png\n",
      "Saving detection_set04_video_0009_05250.png\n",
      "Saving detection_set04_video_0009_05280.png\n",
      "Saving detection_set04_video_0009_05370.png\n",
      "Saving detection_set04_video_0009_05430.png\n",
      "Saving detection_set04_video_0009_05460.png\n",
      "Saving detection_set04_video_0009_05490.png\n",
      "Saving detection_set04_video_0009_05520.png\n",
      "Saving detection_set04_video_0009_05580.png\n",
      "Saving detection_set04_video_0009_05610.png\n",
      "Saving detection_set04_video_0009_05640.png\n",
      "Saving detection_set04_video_0009_05670.png\n",
      "Saving detection_set04_video_0009_05700.png\n",
      "Saving detection_set04_video_0009_05730.png\n",
      "Saving detection_set04_video_0009_05760.png\n",
      "Saving detection_set04_video_0009_05790.png\n",
      "Saving detection_set04_video_0009_05820.png\n",
      "Saving detection_set04_video_0009_05850.png\n",
      "Saving detection_set04_video_0009_05880.png\n",
      "Saving detection_set04_video_0009_05910.png\n",
      "Saving detection_set04_video_0009_05940.png\n",
      "Saving detection_set04_video_0009_06030.png\n",
      "Saving detection_set04_video_0009_06060.png\n",
      "Saving detection_set04_video_0009_06090.png\n",
      "Saving detection_set04_video_0009_06120.png\n",
      "Saving detection_set04_video_0009_06180.png\n",
      "Saving detection_set04_video_0009_06210.png\n",
      "Saving detection_set04_video_0009_06240.png\n",
      "Saving detection_set04_video_0009_06360.png\n",
      "Saving detection_set04_video_0009_06390.png\n",
      "Saving detection_set04_video_0009_06420.png\n",
      "Saving detection_set04_video_0009_06480.png\n",
      "Saving detection_set04_video_0009_06510.png\n",
      "Saving detection_set04_video_0009_06690.png\n",
      "Saving detection_set04_video_0009_06720.png\n",
      "Saving detection_set04_video_0009_06960.png\n",
      "Saving detection_set04_video_0009_06990.png\n",
      "Saving detection_set04_video_0009_07050.png\n",
      "Saving detection_set04_video_0009_07080.png\n",
      "Saving detection_set04_video_0009_07110.png\n",
      "Saving detection_set04_video_0009_08580.png\n",
      "Saving detection_set04_video_0009_08640.png\n",
      "Saving detection_set04_video_0009_08670.png\n",
      "Saving detection_set04_video_0009_08700.png\n",
      "Saving detection_set04_video_0009_08730.png\n",
      "Saving detection_set04_video_0009_09210.png\n",
      "Saving detection_set04_video_0009_09240.png\n",
      "Saving detection_set04_video_0009_09270.png\n",
      "Saving detection_set04_video_0009_09300.png\n",
      "Saving detection_set04_video_0009_09330.png\n",
      "Saving detection_set04_video_0009_09390.png\n",
      "Saving detection_set04_video_0009_09840.png\n",
      "Saving detection_set04_video_0009_09870.png\n",
      "Saving detection_set04_video_0009_09900.png\n",
      "Saving detection_set04_video_0009_10350.png\n",
      "Saving detection_set04_video_0009_10440.png\n",
      "Saving detection_set04_video_0009_10800.png\n",
      "Saving detection_set04_video_0009_11100.png\n",
      "Saving detection_set04_video_0009_11130.png\n",
      "Saving detection_set04_video_0009_11160.png\n",
      "Saving detection_set04_video_0009_11190.png\n",
      "Saving detection_set04_video_0009_11220.png\n",
      "Saving detection_set04_video_0009_11250.png\n",
      "Saving detection_set04_video_0009_11400.png\n",
      "Saving detection_set04_video_0009_11430.png\n",
      "Saving detection_set04_video_0009_11490.png\n",
      "Saving detection_set04_video_0009_11850.png\n",
      "Saving detection_set04_video_0009_11880.png\n",
      "Saving detection_set04_video_0009_11940.png\n",
      "Saving detection_set04_video_0009_11970.png\n",
      "Saving detection_set04_video_0009_12000.png\n",
      "Saving detection_set04_video_0009_12270.png\n",
      "Saving detection_set04_video_0009_12300.png\n",
      "Saving detection_set04_video_0009_12330.png\n",
      "Saving detection_set04_video_0009_12360.png\n",
      "Saving detection_set04_video_0009_12390.png\n",
      "Saving detection_set04_video_0009_12420.png\n",
      "Saving detection_set04_video_0009_14250.png\n",
      "Saving detection_set04_video_0009_14700.png\n",
      "Saving detection_set04_video_0009_14730.png\n",
      "Saving detection_set04_video_0009_14760.png\n",
      "Saving detection_set04_video_0009_14790.png\n",
      "Saving detection_set04_video_0009_14820.png\n",
      "Saving detection_set04_video_0009_15270.png\n",
      "Saving detection_set04_video_0009_15300.png\n",
      "Saving detection_set04_video_0009_15330.png\n",
      "Saving detection_set04_video_0009_15360.png\n",
      "Saving detection_set04_video_0009_15390.png\n",
      "Saving detection_set04_video_0009_15420.png\n",
      "Saving detection_set04_video_0009_15450.png\n",
      "Saving detection_set04_video_0009_15480.png\n",
      "Saving detection_set04_video_0009_15510.png\n",
      "Saving detection_set04_video_0009_15540.png\n",
      "Saving detection_set04_video_0009_15570.png\n",
      "Saving detection_set04_video_0009_15600.png\n",
      "Saving detection_set04_video_0009_15630.png\n",
      "Saving detection_set04_video_0009_15660.png\n",
      "Saving detection_set04_video_0009_15690.png\n",
      "Saving detection_set04_video_0009_15720.png\n",
      "Saving detection_set04_video_0009_15750.png\n",
      "Saving detection_set04_video_0009_15780.png\n",
      "Saving detection_set04_video_0009_15810.png\n",
      "Saving detection_set04_video_0009_15840.png\n",
      "Saving detection_set04_video_0009_15870.png\n",
      "Saving detection_set04_video_0009_15900.png\n",
      "Saving detection_set04_video_0009_15930.png\n",
      "Saving detection_set04_video_0009_15960.png\n",
      "Saving detection_set04_video_0009_15990.png\n",
      "Saving detection_set04_video_0009_16020.png\n",
      "Saving detection_set04_video_0009_16050.png\n",
      "Saving detection_set04_video_0009_16080.png\n",
      "Saving detection_set04_video_0009_16110.png\n",
      "Saving detection_set04_video_0009_16140.png\n",
      "Saving detection_set04_video_0009_16170.png\n",
      "Saving detection_set04_video_0009_16200.png\n",
      "Saving detection_set04_video_0009_16230.png\n",
      "Saving detection_set04_video_0009_16260.png\n",
      "Saving detection_set04_video_0009_16290.png\n",
      "Saving detection_set04_video_0009_16320.png\n",
      "Saving detection_set04_video_0009_16350.png\n",
      "Saving detection_set04_video_0009_16380.png\n",
      "Saving detection_set04_video_0009_16410.png\n",
      "Saving detection_set04_video_0009_16440.png\n",
      "Saving detection_set04_video_0009_16470.png\n",
      "Saving detection_set04_video_0009_16500.png\n",
      "Saving detection_set04_video_0009_16530.png\n",
      "Saving detection_set04_video_0009_16560.png\n",
      "Saving detection_set04_video_0009_16590.png\n",
      "Saving detection_set04_video_0009_16620.png\n",
      "Saving detection_set04_video_0009_16650.png\n",
      "Saving detection_set04_video_0009_16680.png\n",
      "Saving detection_set04_video_0009_16740.png\n",
      "Saving detection_set04_video_0009_16830.png\n",
      "Saving detection_set04_video_0009_16860.png\n",
      "Saving detection_set04_video_0009_16890.png\n",
      "Saving detection_set04_video_0009_16920.png\n"
     ]
    }
   ],
   "source": [
    "class_dict = {\"crossing\": 0, \"not-crossing\": 1, \"crossing-irrelevant\": 2}\n",
    "\n",
    "# class_colors = {\n",
    "#     0: (0, 0, 255),   # Red for \"crossing\"\n",
    "#     1: (255, 0, 0),   # Blue for \"not-crossing\"\n",
    "#     2: (0, 255, 0)    # Green for \"crossing-irrelevant\"\n",
    "# }\n",
    "\n",
    "class_colors = {\n",
    "    0: (0, 0, 255),   # Red for \"crossing\"\n",
    "    1: (0, 255, 0),   # Green for \"not-crossing\"\n",
    "    2: (255, 0, 0)    # Blue for \"crossing-irrelevant\"\n",
    "}\n",
    "\n",
    "# Make sure the save directory exists\n",
    "os.makedirs(save_path, exist_ok=True)\n",
    "\n",
    "# Process each text file\n",
    "for filename in glob.glob(os.path.join(path, '*.txt')):\n",
    "    with open(os.path.join(os.getcwd(), filename), 'r') as f:\n",
    "        detected_objects = []  # List to store information about each detected object\n",
    "        image_name = os.path.basename(filename).replace('txt', 'png')\n",
    "        \n",
    "        for line in f:\n",
    "            cl, label_x, label_y, label_w, label_h, conf = line.split(' ')\n",
    "            cl = int(cl)\n",
    "            b = float(conf)\n",
    "            a = np.array([float(label_x), float(label_y), float(label_w), float(label_h)])\n",
    "\n",
    "            detected_objects.append({\n",
    "                'class_index': cl,\n",
    "                'confidence': b,\n",
    "                'bounding_box': a\n",
    "            })\n",
    "\n",
    "        # Image Elaboration\n",
    "        image = cv.imread(os.path.join(img_path, image_name))\n",
    "        [image_height, image_width, levels] = image.shape\n",
    "\n",
    "        # Process each detected object\n",
    "        for obj in detected_objects:\n",
    "            detected_class_index = obj['class_index']\n",
    "            detected_class_label = list(class_dict.keys())[list(class_dict.values()).index(detected_class_index)]\n",
    "\n",
    "            # Retrieve bounding box, confidence, and color\n",
    "            bounding_box = obj['bounding_box']\n",
    "            conf = obj['confidence']\n",
    "            color = class_colors.get(detected_class_index, (255, 255, 255))  # Default to white if color not found\n",
    "\n",
    "            [x, y, w, h] = merge_bounding_boxes(bounding_box, image_width, image_height)\n",
    "\n",
    "            # Create Rect\n",
    "            cv.rectangle(image, (x, y), (w, h), color, 1)\n",
    "            cv.putText(image, f'{detected_class_label} {conf:.2f}', (x, y - 10), cv.FONT_HERSHEY_SIMPLEX, 0.4, color, 1)\n",
    "\n",
    "        # Saving Image\n",
    "        print('Saving ' + image_name)\n",
    "        cv.imwrite(os.path.join(save_path, image_name), image)"
   ]
  },
  {
   "cell_type": "markdown",
   "metadata": {},
   "source": []
  }
 ],
 "metadata": {
  "kernelspec": {
   "display_name": ".venv",
   "language": "python",
   "name": "python3"
  },
  "language_info": {
   "codemirror_mode": {
    "name": "ipython",
    "version": 3
   },
   "file_extension": ".py",
   "mimetype": "text/x-python",
   "name": "python",
   "nbconvert_exporter": "python",
   "pygments_lexer": "ipython3",
   "version": "3.9.13"
  }
 },
 "nbformat": 4,
 "nbformat_minor": 2
}
